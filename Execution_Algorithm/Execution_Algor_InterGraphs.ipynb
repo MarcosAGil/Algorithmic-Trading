{
 "cells": [
  {
   "cell_type": "markdown",
   "id": "f80d1551",
   "metadata": {
    "id": "f80d1551"
   },
   "source": [
    "<span style=\"color:#1E90FF; font-weight:bold\">**Introduction**\n",
    "\n",
    "<span style=\"color:#1E90FF; font-weight:bold\">The aim of this exercise is to code an execution algorithmic strategy that tries to achieve an execution cost close to the VWAP market benchmark (Volume Weighted Average Price). It follows the optimal execution strategy to track VWAP discussed in Busseti & Boyd (2015), see the notes of the course for details.\n",
    "\n",
    "<span style=\"color:#1E90FF; font-weight:bold\">Delivery: Jupyter notebook (Python) with all the compulsory parts of the exercise and results</span>\n"
   ]
  },
  {
   "cell_type": "markdown",
   "id": "c068a13e",
   "metadata": {
    "id": "c068a13e"
   },
   "source": [
    "<span style=\"color:#1E90FF; font-weight:bold\">**Data reading and preparation**\n",
    "\n",
    "<span style=\"color:#1E90FF; font-weight:bold\">Import the csv file “volume_price_2014_18.csv” required for the exercise. It contains four columns: date, time, volume and price. Load it into a Pandas dataframe. The data corresponds to market volumes and volume weighted average prices for intervals of one minute from 2014 to 2018. Perform an exploratory analysis in order to detect potential issues (hint: days with zero volume). Discard any anomaly you think it can affect the quality of the analysis."
   ]
  },
  {
   "cell_type": "code",
   "execution_count": 1,
   "id": "a2204977",
   "metadata": {
    "id": "a2204977"
   },
   "outputs": [],
   "source": [
    "import pandas as pd\n",
    "import numpy as np\n",
    "import matplotlib.pyplot as plt\n",
    "from sklearn.metrics import mean_squared_error\n",
    "import plotly.graph_objects as go"
   ]
  },
  {
   "cell_type": "code",
   "execution_count": 76,
   "id": "254e40f8",
   "metadata": {},
   "outputs": [],
   "source": [
    "\n",
    "class ExecutionAlgorithm:\n",
    "    def __init__(self, file_path, train_end_date):\n",
    "        \"\"\"\n",
    "        Inicializa la clase ExecutionAlgorithm con la ruta del archivo de datos y la fecha límite para dividir el conjunto de datos.\n",
    "        \n",
    "        Args:\n",
    "            file_path (str): Ruta del archivo CSV con los datos de volumen y precio.\n",
    "            train_end_date (str): Fecha límite para dividir los datos en entrenamiento y prueba.\n",
    "        \"\"\"\n",
    "        self.file_path = file_path\n",
    "        self.train_end_date = pd.Timestamp(train_end_date)\n",
    "        self.data_df = None\n",
    "        self.filtered_df = None\n",
    "        self.resampled_df = None\n",
    "        self.train_df = None\n",
    "        self.test_df = None\n",
    "        self.static_volume_curve = None\n",
    "        self.normalized_volume_curve_result = None\n",
    "\n",
    "    def load_data(self):\n",
    "        \"\"\"\n",
    "        Carga los datos desde el archivo CSV y maneja excepciones si el archivo no existe o está vacío.\n",
    "        \"\"\"\n",
    "        try:\n",
    "            # Intentar cargar el archivo CSV\n",
    "            self.data_df = pd.read_csv(self.file_path)\n",
    "        except FileNotFoundError:\n",
    "            # Manejar el caso en el que el archivo no se encuentra\n",
    "            print(f\"Error: El archivo {self.file_path} no fue encontrado.\")\n",
    "        except pd.errors.EmptyDataError:\n",
    "            # Manejar el caso en el que el archivo está vacío\n",
    "            print(f\"Error: El archivo {self.file_path} está vacío.\")\n",
    "        except Exception as e:\n",
    "            # Manejar cualquier otra excepción que ocurra durante la carga del archivo\n",
    "            print(f\"Error al leer el archivo: {e}\")\n",
    "\n",
    "    def preprocess_data(self):\n",
    "        \"\"\"\n",
    "        Filtra los datos y realiza cálculos previos al análisis, como el cálculo del VWAP.\n",
    "        - Elimina valores faltantes.\n",
    "        - Filtra filas con volumen mayor a 0.\n",
    "        - Calcula la columna 'vol_price' para el cálculo del VWAP.\n",
    "        - Convierte las columnas de tiempo y fecha a sus formatos adecuados.\n",
    "        - Agrupa los datos en intervalos de 5 minutos y calcula el VWAP.\n",
    "        \"\"\"\n",
    "        if self.data_df is not None:\n",
    "            # Manejar valores faltantes eliminando filas con datos faltantes\n",
    "            self.data_df = self.data_df.dropna()\n",
    "            # Filtrar filas con volumen mayor a 0\n",
    "            self.filtered_df = self.data_df[self.data_df['volume'] > 0].copy()\n",
    "            # Crear la columna vol_price para el VWAP\n",
    "            self.filtered_df['vol_price'] = self.filtered_df['volume'] * self.filtered_df['price']\n",
    "            # Convertir las columnas de tiempo y fecha a sus formatos adecuados\n",
    "            self.filtered_df['time'] = pd.to_timedelta(self.filtered_df['time'])\n",
    "            self.filtered_df['date'] = pd.to_datetime(self.filtered_df['date'])\n",
    "            # Crear columna 'time_5min' para redondear a intervalos de 5 minutos\n",
    "            self.filtered_df['time_5min'] = self.filtered_df['time'].dt.floor('5min')\n",
    "            # Agrupar por 'date' y 'time_5min' para sumar el volumen y vol_price\n",
    "            self.resampled_df = self.filtered_df.groupby(['date', 'time_5min']).agg({\n",
    "                'volume': 'sum',\n",
    "                'vol_price': 'sum'\n",
    "            }).reset_index()\n",
    "            # Calcular el VWAP\n",
    "            self.resampled_df['vwap'] = self.resampled_df['vol_price'] / self.resampled_df['volume']\n",
    "            # Eliminar filas con volumen igual a 0 después del resampleo\n",
    "            self.resampled_df = self.resampled_df[self.resampled_df['volume'] > 0]\n",
    "            # Eliminar la columna vol_price ya que ya no es necesaria\n",
    "            self.resampled_df = self.resampled_df.drop(columns=['vol_price'])\n",
    "        else:\n",
    "            print(\"Error: No se han cargado datos para procesar.\")\n",
    "\n",
    "    def split_data(self):\n",
    "        \"\"\"\n",
    "        Divide los datos en conjuntos de entrenamiento y prueba según la fecha límite especificada.\n",
    "        \"\"\"\n",
    "        if self.resampled_df is not None:\n",
    "            # Dividir los datos en entrenamiento y prueba utilizando la fecha límite\n",
    "            self.train_df = self.resampled_df[self.resampled_df['date'] < self.train_end_date].copy()\n",
    "            self.test_df = self.resampled_df[self.resampled_df['date'] >= self.train_end_date].copy()\n",
    "            # Mostrar el número de filas en cada conjunto\n",
    "            print(f\"El dataset de entrenamiento tiene: {len(self.train_df)} filas y el de testeo tiene: {len(self.test_df)} filas\")\n",
    "        else:\n",
    "            print(\"Error: No se han procesado datos para dividir.\")\n",
    "\n",
    "    def evaluate_model(self):\n",
    "        \"\"\"\n",
    "        Evaluación básica del conjunto de datos dividido, mostrando las primeras filas del conjunto de entrenamiento y prueba.\n",
    "        \"\"\"\n",
    "        if self.train_df is not None and self.test_df is not None:\n",
    "            # Mostrar la primera fila del conjunto de entrenamiento\n",
    "            print(\"Primera fila de train_df:\")\n",
    "            print(self.train_df.head(1))\n",
    "            # Mostrar la primera fila del conjunto de prueba\n",
    "            print(\"\\nPrimera fila de test_df:\")\n",
    "            print(self.test_df.head(1))\n",
    "        else:\n",
    "            print(\"Error: No se han dividido los datos para evaluar.\")\n",
    "\n",
    "    def plot_training_volume_histogram(self):\n",
    "        \"\"\"\n",
    "        Para cada día en el conjunto de entrenamiento, calcula el volumen total del mercado del día y grafica el histograma.\n",
    "        \"\"\"\n",
    "        if self.train_df is not None:\n",
    "            # Calcular el volumen total por día en el conjunto de entrenamiento\n",
    "            daily_volume = self.train_df.groupby('date')['volume'].sum()\n",
    "            # Crear el histograma interactivo en Plotly\n",
    "            fig = go.Figure()\n",
    "            # Agregar el histograma de 'daily_volume'\n",
    "            fig.add_trace(go.Histogram(\n",
    "                x=daily_volume,\n",
    "                nbinsx=30,\n",
    "                marker=dict(color='skyblue', line=dict(color='black', width=1)),\n",
    "                opacity=0.7\n",
    "            ))\n",
    "            # Configuración del layout\n",
    "            fig.update_layout(\n",
    "                title='Histograma del Volumen Diario Total en el Conjunto de Entrenamiento',\n",
    "                xaxis_title='Volumen Diario Total',\n",
    "                yaxis_title='Frecuencia',\n",
    "                template='plotly_dark',\n",
    "                bargap=0.1  # Ajuste del espacio entre barras\n",
    "            )\n",
    "            # Mostrar la figura\n",
    "            fig.show()\n",
    "        else:\n",
    "            print(\"Error: No se han dividido los datos para graficar el volumen del entrenamiento.\")\n",
    "\n",
    "    def calculate_average_daily_volume(self):\n",
    "        \"\"\"\n",
    "        Calcula el volumen diario promedio (ADV) como media y también como mediana sobre los volúmenes diarios.\n",
    "        Compara la diferencia entre la media y la mediana, y discute las ventajas y desventajas de cada una.\n",
    "        \"\"\"\n",
    "        if self.train_df is not None:\n",
    "            # Calcular el volumen total por día en el conjunto de entrenamiento\n",
    "            daily_volume = self.train_df.groupby('date')['volume'].sum()\n",
    "            # Calcular la media y la mediana del volumen diario\n",
    "            mean_adv = daily_volume.mean()\n",
    "            median_adv = daily_volume.median()\n",
    "            # Mostrar los resultados\n",
    "            print(f\"Volumen Diario Promedio (Media): {mean_adv:.2f}\")\n",
    "            print(f\"Volumen Diario Promedio (Mediana): {median_adv:.2f}\")\n",
    "            print(f\"Diferencia entre Media y Mediana: {abs(mean_adv - median_adv):.2f}\")\n",
    "            \n",
    "            # Explicar ventajas y desventajas\n",
    "            print(\"\\nVentajas de usar la Media:\")\n",
    "            print(\"- Captura todos los valores, incluyendo valores extremos.\")\n",
    "            print(\"- Es útil cuando los datos tienen una distribución simétrica.\")\n",
    "            print(\"\\nDesventajas de usar la Media:\")\n",
    "            print(\"- Es sensible a valores atípicos (outliers), lo que puede distorsionar el promedio.\")\n",
    "            \n",
    "            print(\"\\nVentajas de usar la Mediana:\")\n",
    "            print(\"- No se ve afectada por valores atípicos, lo que la hace más representativa en distribuciones asimétricas.\")\n",
    "            print(\"- Es más robusta cuando los datos tienen valores extremos.\")\n",
    "            \n",
    "            print(\"\\nDesventajas de usar la Mediana:\")\n",
    "            print(\"- No captura la magnitud de los valores extremos.\")\n",
    "            print(\"- Puede ser menos precisa si los valores están uniformemente distribuidos sin grandes outliers.\")\n",
    "        else:\n",
    "            print(\"Error: No se han dividido los datos para calcular el volumen diario promedio.\")\n",
    "\n",
    "    def analyze_days_of_week(self):\n",
    "        \"\"\"\n",
    "        Separa el conjunto de entrenamiento por días de la semana (lunes, martes, ... viernes) y realiza el análisis para cada día.\n",
    "        Grafica el volumen promedio para cada día de la semana y compara los resultados con los resultados globales.\n",
    "        \"\"\"\n",
    "        if self.train_df is not None:\n",
    "            # Añadir una columna con el día de la semana (0=Lunes, 6=Domingo)\n",
    "            self.train_df['day_of_week'] = self.train_df['date'].dt.weekday\n",
    "            \n",
    "            # Diccionario para mapear los números de los días de la semana a sus nombres\n",
    "            weekday_map = {0: 'Monday', 1: 'Tuesday', 2: 'Wednesday', 3: 'Thursday', 4: 'Friday'}\n",
    "            \n",
    "            # Inicializar el diccionario para almacenar los resultados\n",
    "            weekday_vad_stats = {}\n",
    "            \n",
    "            # Calcular el volumen diario promedio (media y mediana) para cada día de la semana\n",
    "            for weekday, weekday_name in weekday_map.items():\n",
    "                # Filtrar el DataFrame para obtener solo los datos del día de la semana específico\n",
    "                daily_volume_train = self.train_df[self.train_df['day_of_week'] == weekday].groupby('date')['volume'].sum()\n",
    "                \n",
    "                # Calcular la media y la mediana del volumen diario\n",
    "                vad_mean = daily_volume_train.mean()\n",
    "                vad_median = daily_volume_train.median()\n",
    "                \n",
    "                # Guardar los resultados en el diccionario\n",
    "                weekday_vad_stats[weekday_name] = {'mean': vad_mean, 'median': vad_median}\n",
    "            \n",
    "            # Mostrar los resultados para cada día de la semana\n",
    "            for day, stats in weekday_vad_stats.items():\n",
    "                print(f\"{day}:\")\n",
    "                print(f\"  Volumen Medio Diario (VAD) - Media: {stats['mean']:.2f}\")\n",
    "                print(f\"  Volumen Medio Diario (VAD) - Mediana: {stats['median']:.2f}\\n\")\n",
    "            \n",
    "            # Datos para el gráfico\n",
    "            dias_semana = list(weekday_vad_stats.keys())\n",
    "            volumen_medio = [stats['mean'] for stats in weekday_vad_stats.values()]\n",
    "            # Crear el gráfico de barras en Plotly\n",
    "            fig = go.Figure(go.Bar(\n",
    "                x=dias_semana,\n",
    "                y=volumen_medio,\n",
    "                marker=dict(color='skyblue', line=dict(color='black', width=1)),\n",
    "                opacity=0.7\n",
    "            ))\n",
    "            # Configuración del layout\n",
    "            fig.update_layout(\n",
    "                title='Volumen Medio Diario por Día de la Semana en el Conjunto de Entrenamiento',\n",
    "                xaxis_title='Día de la Semana',\n",
    "                yaxis_title='Volumen Medio Diario (Media)',\n",
    "                template='plotly_dark',\n",
    "                bargap=0.2  # Espacio entre las barras\n",
    "            )\n",
    "            # Mostrar la figura\n",
    "            fig.show()\n",
    "        else:\n",
    "            print(\"Error: No se han dividido los datos para analizar por día de la semana.\")\n",
    "\n",
    "    def static_volume_prediction(self):\n",
    "        \"\"\"\n",
    "        Predicción estática del volumen: calcula la mediana de los volúmenes para cada intervalo de cinco minutos usando\n",
    "        los datos del mismo intervalo a lo largo de los días del conjunto de entrenamiento. Obtiene una curva de volumen\n",
    "        mediano con tantos puntos como intervalos de cinco minutos en un día.\n",
    "        \"\"\"\n",
    "        if self.train_df is not None:\n",
    "            # Agrupar por el intervalo de 5 minutos y calcular la mediana del volumen para cada intervalo\n",
    "            median_volume_curve = self.train_df.groupby('time_5min')['volume'].median()\n",
    "            \n",
    "            # Guardar la curva de volumen mediano para uso posterior\n",
    "            self.static_volume_curve = median_volume_curve\n",
    "            \n",
    "            # Convertir los índices de 'time_5min' a un formato de hora más claro usando timedelta\n",
    "            time_labels = [str(timedelta)[7:12] for timedelta in median_volume_curve.index]\n",
    "            \n",
    "            # Crear la curva de volumen mediano en Plotly\n",
    "            fig = go.Figure(go.Scatter(\n",
    "                x=time_labels,\n",
    "                y=median_volume_curve.values,\n",
    "                mode='lines',\n",
    "                line=dict(color='blue', width=2)\n",
    "            ))\n",
    "            # Configuración del layout\n",
    "            fig.update_layout(\n",
    "                title='Curva de Volumen Mediano por Intervalos de 5 Minutos',\n",
    "                xaxis_title='Hora de Inicio del Intervalo de 5 Minutos',\n",
    "                yaxis_title='Volumen Mediano',\n",
    "                template='plotly_dark'\n",
    "            )\n",
    "            # Ajuste de los ticks del eje x\n",
    "            fig.update_xaxes(tickvals=np.arange(0, len(time_labels), len(time_labels)//10),\n",
    "                            ticktext=np.array(time_labels)[::len(time_labels)//10], tickangle=45)\n",
    "\n",
    "            # Mostrar la figura\n",
    "            fig.show()\n",
    "\n",
    "        else:\n",
    "            print(\"Error: No se han dividido los datos para calcular la predicción de volumen estática.\")\n",
    "\n",
    "    def normalized_volume_curve(self):\n",
    "        \"\"\"\n",
    "        Calcula la curva de volumen normalizado dividiendo cada volumen mediano por el volumen total.\n",
    "        La curva resultante debe sumar 1. Luego, grafica la curva normalizada.\n",
    "        \"\"\"\n",
    "        if self.static_volume_curve is not None:\n",
    "            # Calcular el volumen total de la curva estática\n",
    "            total_volume = self.static_volume_curve.sum()\n",
    "            \n",
    "            # Calcular la curva de volumen normalizado\n",
    "            normalized_curve = self.static_volume_curve / total_volume\n",
    "            \n",
    "            # Guardar la curva de volumen normalizado\n",
    "            self.normalized_volume_curve_result = normalized_curve\n",
    "            \n",
    "            # Convertir los índices de 'time_5min' a un formato de hora más claro usando timedelta\n",
    "            time_labels = [str(timedelta)[7:12] for timedelta in normalized_curve.index]\n",
    "            \n",
    "            # Graficar la curva de volumen normalizado en Plotly\n",
    "            fig = go.Figure(go.Scatter(\n",
    "                x=time_labels,\n",
    "                y=normalized_curve.values,\n",
    "                mode='lines',\n",
    "                line=dict(color='green', width=2)\n",
    "            ))\n",
    "            # Configuración del layout\n",
    "            fig.update_layout(\n",
    "                title='Curva de Volumen Normalizado por Intervalos de 5 Minutos',\n",
    "                xaxis_title='Hora de Inicio del Intervalo de 5 Minutos',\n",
    "                yaxis_title='Volumen Normalizado',\n",
    "                template='plotly_dark'\n",
    "            )\n",
    "            # Ajuste de los ticks del eje x\n",
    "            fig.update_xaxes(\n",
    "                tickvals=np.arange(0, len(time_labels), len(time_labels) // 10),\n",
    "                ticktext=np.array(time_labels)[::len(time_labels) // 10],\n",
    "                tickangle=45\n",
    "            )\n",
    "            # Mostrar la figura\n",
    "            fig.show()\n",
    "\n",
    "        else:\n",
    "            print(\"Error: No se ha generado la curva de volumen estática para calcular la curva de volumen normalizado.\")\n",
    "\n",
    "    def static_volume_by_weekday(self):\n",
    "        \"\"\"\n",
    "        Repite el análisis de volumen estático discriminando entre los días de la semana para obtener cinco curvas\n",
    "        de volumen estático diferentes, una para cada día de la semana. Grafica las curvas estáticas para cada día de la semana.\n",
    "        \"\"\"\n",
    "        if self.train_df is not None:\n",
    "            # Añadir columna con el día de la semana\n",
    "            self.train_df['day_of_week'] = self.train_df['date'].dt.day_name()\n",
    "            weekday_names = ['Monday', 'Tuesday', 'Wednesday', 'Thursday', 'Friday']\n",
    "            \n",
    "            # Crear la figura\n",
    "            fig = go.Figure()\n",
    "\n",
    "            # Graficar la curva de volumen mediano para cada día de la semana\n",
    "            for day in weekday_names:\n",
    "                # Filtrar los datos para el día de la semana específico\n",
    "                day_df = self.train_df[self.train_df['day_of_week'] == day]\n",
    "                # Agrupar por el intervalo de 5 minutos y calcular la mediana del volumen para cada intervalo\n",
    "                median_volume_curve = day_df.groupby('time_5min')['volume'].median()\n",
    "                # Convertir los índices de 'time_5min' a un formato de hora más claro\n",
    "                time_labels = [str(timedelta)[7:12] for timedelta in median_volume_curve.index]\n",
    "                \n",
    "                # Añadir la curva de volumen mediano para el día de la semana\n",
    "                fig.add_trace(go.Scatter(\n",
    "                    x=time_labels,\n",
    "                    y=median_volume_curve.values,\n",
    "                    mode='lines',\n",
    "                    name=f'Volumen Mediano - {day}',\n",
    "                    line=dict(width=2)\n",
    "                ))\n",
    "\n",
    "            # Configuración del layout\n",
    "            fig.update_layout(\n",
    "                title='Curvas de Volumen Mediano por Día de la Semana',\n",
    "                xaxis_title='Hora de Inicio del Intervalo de 5 Minutos',\n",
    "                yaxis_title='Volumen Mediano',\n",
    "                template='plotly_dark',\n",
    "                showlegend=True\n",
    "            )\n",
    "\n",
    "            # Ajuste de los ticks del eje x para que no estén tan juntos\n",
    "            fig.update_xaxes(\n",
    "                tickvals=np.arange(0, len(time_labels), max(1, len(time_labels) // 5)),\n",
    "                tickangle=45\n",
    "            )\n",
    "\n",
    "            # Mostrar la figura\n",
    "            fig.show()\n",
    "\n",
    "        else:\n",
    "            print(\"Error: No se han dividido los datos para analizar la curva de volumen estático por días de la semana.\")\n",
    "\n",
    "    def evaluate_static_volume_predictor(self):\n",
    "        \"\"\"\n",
    "        Evalúa la calidad del predictor de volumen estático en el conjunto de prueba usando RMSE como métrica de calidad.\n",
    "        Normaliza cada perfil diario de volumen del conjunto de prueba y compara la predicción para cada intervalo de 5 minutos\n",
    "        con el valor real.\n",
    "        \"\"\"\n",
    "        if self.test_df is not None and self.normalized_volume_curve_result is not None:\n",
    "            # Lista para almacenar los errores por día\n",
    "            rmse_list = []\n",
    "            \n",
    "            # Agrupar los datos de prueba por cada día\n",
    "            for date, group in self.test_df.groupby('date'):\n",
    "                # Normalizar el perfil de volumen diario dividiendo por el volumen total del día\n",
    "                daily_volume_profile = group.groupby('time_5min')['volume'].sum()\n",
    "                total_daily_volume = daily_volume_profile.sum()\n",
    "                normalized_daily_profile = daily_volume_profile / total_daily_volume\n",
    "                \n",
    "                # Alinear los índices para que coincidan con los de la curva de volumen normalizado\n",
    "                aligned_profile = normalized_daily_profile.reindex(self.normalized_volume_curve_result.index, fill_value=0)\n",
    "                \n",
    "                # Calcular el error cuadrático medio entre la predicción estática y el perfil diario normalizado\n",
    "                rmse = np.sqrt(mean_squared_error(self.normalized_volume_curve_result, aligned_profile))\n",
    "                rmse_list.append(rmse)\n",
    "                \n",
    "            # Calcular el RMSE promedio en todos los días del conjunto de prueba\n",
    "            average_rmse = np.mean(rmse_list)\n",
    "            print(f\"RMSE Promedio del Predictor de Volumen Estático en el Conjunto de Prueba: {average_rmse:.4f}\")\n",
    "        else:\n",
    "            print(\"Error: No se han dividido los datos de prueba o no se ha generado la curva de volumen normalizado para evaluar el predictor de volumen estático.\")\n",
    "\n",
    "    def evaluate_uniform_volume_predictor(self):\n",
    "        \"\"\"\n",
    "        Evalúa la calidad del predictor de volumen uniforme en el conjunto de prueba usando RMSE como métrica de calidad.\n",
    "        En lugar de utilizar la curva estática, se asume una predicción uniforme, es decir, el mismo porcentaje para cada intervalo.\n",
    "        \"\"\"\n",
    "        if self.test_df is not None:\n",
    "            # Crear un predictor uniforme: dividir equitativamente el volumen en todos los intervalos\n",
    "            num_intervals = len(self.normalized_volume_curve_result) if self.normalized_volume_curve_result is not None else 288  # 288 intervalos de 5 minutos en un día\n",
    "            uniform_prediction = np.ones(num_intervals) / num_intervals\n",
    "            \n",
    "            # Lista para almacenar los errores por día\n",
    "            rmse_list = []\n",
    "            \n",
    "            # Agrupar los datos de prueba por cada día\n",
    "            for date, group in self.test_df.groupby('date'):\n",
    "                # Normalizar el perfil de volumen diario dividiendo por el volumen total del día\n",
    "                daily_volume_profile = group.groupby('time_5min')['volume'].sum()\n",
    "                total_daily_volume = daily_volume_profile.sum()\n",
    "                normalized_daily_profile = daily_volume_profile / total_daily_volume\n",
    "                \n",
    "                # Alinear los índices para que coincidan con los del predictor uniforme\n",
    "                aligned_profile = normalized_daily_profile.reindex(self.normalized_volume_curve_result.index, fill_value=0)\n",
    "                \n",
    "                # Calcular el error cuadrático medio entre la predicción uniforme y el perfil diario normalizado\n",
    "                rmse = np.sqrt(mean_squared_error(uniform_prediction, aligned_profile))\n",
    "                rmse_list.append(rmse)\n",
    "                \n",
    "            # Calcular el RMSE promedio en todos los días del conjunto de prueba\n",
    "            average_rmse = np.mean(rmse_list)\n",
    "            print(f\"RMSE Promedio del Predictor Uniforme en el Conjunto de Prueba: {average_rmse:.4f}\")\n",
    "        else:\n",
    "            print(\"Error: No se han dividido los datos de prueba para evaluar el predictor de volumen uniforme.\")\n",
    "\n"
   ]
  },
  {
   "cell_type": "markdown",
   "id": "b9eaea59",
   "metadata": {
    "id": "b9eaea59"
   },
   "source": [
    "<span style=\"color:#1E90FF; font-weight:bold\">Resample the data to intervals of five minutes that will make volume prediction an easier task. For each five minutes interval, the volume is the sum of volumes for each one minute interval, and the price is the volume weighted average price of one minute intervals. [Check: the total volume per day after resampling cannot change with respect to original one minute intervals]. The result should be a dataset with a row per day and a column per 5 minute interval (bin). For simplicity to work with the backtesting, generate columns time (e.g. 9:00:00), date (2014-01-02), volume, vwap"
   ]
  },
  {
   "cell_type": "code",
   "execution_count": 77,
   "id": "03cb6afb",
   "metadata": {},
   "outputs": [],
   "source": [
    "# Definir la ruta del archivo y la fecha de corte para el conjunto de entrenamiento\n",
    "file_path = \"volume_price_2014_18.csv\"\n",
    "train_end_date = '2017-01-02'\n",
    "# Crear una instancia de la clase ExecutionAlgorithm\n",
    "algo = ExecutionAlgorithm(file_path, train_end_date)\n",
    "# Cargar los datos desde el archivo CSV\n",
    "algo.load_data()\n",
    "# Preprocesar los datos cargados\n",
    "algo.preprocess_data()"
   ]
  },
  {
   "cell_type": "markdown",
   "id": "69704097",
   "metadata": {
    "id": "69704097"
   },
   "source": [
    "<span style=\"color:#1E90FF; font-weight:bold\">Divide the dataset in two parts: training and test. Take the first three years for training and the last year for test. Do not use the test set in any training stage!! It will be used exclusively to assess the performance of your model and execution algorithm."
   ]
  },
  {
   "cell_type": "code",
   "execution_count": 78,
   "id": "3b842488",
   "metadata": {},
   "outputs": [
    {
     "name": "stdout",
     "output_type": "stream",
     "text": [
      "El dataset de entrenamiento tiene: 75210 filas y el de testeo tiene: 31612 filas\n"
     ]
    }
   ],
   "source": [
    "# Dividir los datos en conjuntos de entrenamiento y prueba\n",
    "algo.split_data()"
   ]
  },
  {
   "cell_type": "markdown",
   "id": "69f84cd8",
   "metadata": {
    "id": "69f84cd8"
   },
   "source": [
    "<span style=\"color:#1E90FF; font-weight:bold\">For each day in the training set, calculate the total market volume of the day, and plot the histogram"
   ]
  },
  {
   "cell_type": "code",
   "execution_count": 79,
   "id": "a108ab8f",
   "metadata": {},
   "outputs": [
    {
     "data": {
      "application/vnd.plotly.v1+json": {
       "config": {
        "plotlyServerURL": "https://plot.ly"
       },
       "data": [
        {
         "marker": {
          "color": "skyblue",
          "line": {
           "color": "black",
           "width": 1
          }
         },
         "nbinsx": 30,
         "opacity": 0.7,
         "type": "histogram",
         "x": [
          1280093,
          626233,
          704945,
          924455,
          854336,
          847439,
          857697,
          865939,
          874747,
          1776143,
          1013174,
          1394092,
          1019240,
          780724,
          1975437,
          2500967,
          1957309,
          1857016,
          1368058,
          1968899,
          1366087,
          1579767,
          1687726,
          1991394,
          1221715,
          1856792,
          1344010,
          690233,
          980266,
          1061727,
          922370,
          965736,
          519269,
          878869,
          844429,
          1226071,
          992275,
          1061730,
          908097,
          852496,
          3035912,
          1128868,
          1925435,
          1676632,
          965337,
          1103513,
          1746665,
          1814424,
          1197833,
          1664491,
          1557618,
          2240729,
          1415832,
          1479180,
          1574077,
          1713618,
          1926179,
          1390750,
          1672769,
          1246997,
          1078629,
          1180183,
          831420,
          1194606,
          905783,
          1440653,
          1059734,
          1449231,
          1528684,
          1133876,
          1432715,
          1743897,
          1841891,
          1788389,
          1456376,
          1455288,
          1607691,
          1366552,
          1553645,
          1421014,
          1212808,
          1689925,
          1078577,
          1369640,
          1221563,
          1149584,
          1837644,
          2054378,
          1039653,
          1078196,
          1253712,
          1111703,
          1363396,
          1355894,
          906635,
          663226,
          864350,
          663882,
          709590,
          646453,
          1009080,
          918864,
          658306,
          571900,
          763996,
          1318054,
          1071822,
          681441,
          676402,
          710757,
          961213,
          555726,
          771681,
          798511,
          876635,
          695233,
          584822,
          626036,
          765104,
          639870,
          614388,
          491010,
          698716,
          1011915,
          1131227,
          1193233,
          1489920,
          1100951,
          1665536,
          949071,
          1245516,
          1302670,
          949950,
          1108386,
          1250930,
          1069925,
          844093,
          611639,
          832643,
          709190,
          768833,
          824365,
          936461,
          1408550,
          1893768,
          1104147,
          809683,
          1087197,
          1049007,
          1404067,
          1228124,
          974593,
          794178,
          950748,
          1552686,
          597555,
          605631,
          598621,
          641932,
          887911,
          813279,
          799830,
          660872,
          1028474,
          671314,
          909459,
          1469470,
          1692432,
          922268,
          581683,
          616464,
          655395,
          506425,
          874984,
          868307,
          886435,
          1479272,
          1592016,
          823544,
          1426048,
          1442940,
          1199702,
          8169052,
          2826374,
          1646399,
          1308182,
          2009529,
          1593485,
          1879590,
          1557876,
          1946048,
          2231858,
          1372023,
          1881106,
          2444307,
          3893388,
          2537928,
          1354854,
          1590168,
          1383167,
          1686767,
          949979,
          1207896,
          917538,
          901184,
          1441278,
          1537241,
          993714,
          1118823,
          1037600,
          1803603,
          4149860,
          1076253,
          1306447,
          1495580,
          1373820,
          858702,
          996760,
          1120375,
          1273464,
          1066900,
          1939539,
          1327218,
          1281565,
          914521,
          1098215,
          1124485,
          1031319,
          1011975,
          919640,
          1661709,
          1015761,
          682784,
          1397808,
          1034825,
          1360437,
          1445019,
          1668023,
          2928746,
          1567033,
          1543387,
          2014972,
          1103246,
          745675,
          876580,
          1127890,
          1482609,
          1597914,
          1148094,
          1648089,
          1371229,
          1209284,
          1560875,
          1586008,
          3014702,
          2002539,
          1401582,
          1406152,
          1658941,
          2124597,
          2461688,
          1477633,
          1748862,
          1150017,
          1075961,
          1488076,
          1131817,
          1543576,
          1207306,
          1008575,
          1113122,
          1617216,
          1556121,
          856840,
          1195198,
          1024646,
          642320,
          1251207,
          1091344,
          1151739,
          1774235,
          813211,
          906933,
          1119280,
          3057734,
          1294301,
          1818322,
          1315958,
          1490277,
          1270580,
          1109054,
          1215690,
          1406663,
          1437540,
          1252465,
          1274263,
          1802104,
          1523759,
          1495409,
          1180468,
          1913601,
          1470760,
          1174249,
          1025869,
          2122540,
          1242645,
          1226532,
          1221946,
          1354247,
          861396,
          1084192,
          901622,
          746712,
          1268933,
          760704,
          860802,
          653679,
          1417773,
          2140257,
          1185946,
          1263216,
          1452787,
          1990661,
          2920151,
          2173213,
          1451390,
          2224889,
          1916618,
          2291869,
          2628852,
          3006387,
          3399626,
          1978270,
          1417754,
          2416332,
          1497407,
          1194949,
          1392739,
          969831,
          1489946,
          934617,
          695690,
          670797,
          1231469,
          1318894,
          1371864,
          1614467,
          1829036,
          1751695,
          1292446,
          1305597,
          1309054,
          1112461,
          1680445,
          1295464,
          1865639,
          1169580,
          1250738,
          1280065,
          805410,
          1290911,
          1743291,
          1252929,
          1188732,
          1168806,
          943982,
          2117247,
          1855232,
          956607,
          1068571,
          1632075,
          1620167,
          1202485,
          989100,
          1604246,
          1531087,
          959271,
          1081792,
          1241294,
          782938,
          852221,
          941504,
          837828,
          708647,
          1210859,
          1579088,
          891523,
          597524,
          781546,
          1136742,
          953186,
          873081,
          849369,
          866156,
          944253,
          1182786,
          1104269,
          1508070,
          983532,
          724295,
          987220,
          721671,
          975299,
          1364735,
          2034281,
          4521604,
          3244059,
          1987885,
          1345700,
          985405,
          727831,
          1232725,
          1205102,
          1309630,
          1296570,
          511919,
          1020863,
          1228201,
          941781,
          781074,
          698337,
          819820,
          725254,
          981372,
          2007136,
          963819,
          1570942,
          1167966,
          1466520,
          1148161,
          942112,
          1068169,
          899337,
          1061350,
          1304213,
          1162182,
          957120,
          991456,
          884673,
          970779,
          807797,
          1041744,
          911572,
          848092,
          1162052,
          682195,
          682427,
          961307,
          1218698,
          1522481,
          970812,
          951909,
          689400,
          1125305,
          878251,
          954430,
          938273,
          1018036,
          1178090,
          1983815,
          752528,
          924781,
          1035835,
          933163,
          1008582,
          981575,
          973439,
          765628,
          966503,
          1014052,
          1002166,
          1282621,
          1647169,
          1041655,
          863249,
          837639,
          1218017,
          826877,
          2702531,
          1365314,
          1187047,
          1316894,
          1011564,
          799791,
          1317149,
          1387677,
          1390009,
          1142516,
          1301802,
          1777526,
          833269,
          855996,
          799957,
          670577,
          1958126,
          1241180,
          1294073,
          1469433,
          1254587,
          1259971,
          1187794,
          1775004,
          2090828,
          1134020,
          1214835,
          2181736,
          2159033,
          1651681,
          993487,
          1179839,
          848151,
          1649968,
          1509461,
          1031226,
          1490849,
          1809095,
          1783651,
          1523842,
          1922079,
          2822189,
          1870073,
          2422497,
          1373283,
          1248058,
          1101420,
          1317359,
          1283007,
          2118589,
          1104895,
          1132259,
          1269685,
          1154584,
          1331232,
          1153053,
          1301490,
          1606101,
          951718,
          1161036,
          895716,
          976054,
          835897,
          2514157,
          1679620,
          1038760,
          673342,
          781789,
          1258702,
          1835213,
          985070,
          1002928,
          824549,
          944874,
          651340,
          833384,
          717304,
          1483975,
          825178,
          1325465,
          1058508,
          965796,
          1031100,
          812732,
          808376,
          1471161,
          1105786,
          1030231,
          923806,
          1267486,
          1396828,
          1143718,
          680505,
          816866,
          845530,
          1241454,
          1063048,
          1311392,
          1773689,
          1886445,
          1619766,
          1424475,
          1730061,
          916729,
          884603,
          1196805,
          1597334,
          1312586,
          1001259,
          1153423,
          921789,
          1021939,
          784588,
          1091436,
          1285118,
          1004775,
          709786,
          685969,
          824961,
          599526,
          987168,
          478039,
          588579,
          569640,
          774890,
          1379125,
          1386043,
          1466188,
          1084770,
          1113130,
          1552187,
          856725,
          873638,
          1488760,
          6628156,
          3600502,
          2365270,
          1491407,
          1137008,
          1486605,
          866866,
          1958464,
          1955406,
          1445574,
          1141691,
          1000848,
          1229069,
          748436,
          1024506,
          878461,
          986810,
          791502,
          1195573,
          670661,
          862977,
          735681,
          1005426,
          1101129,
          765828,
          688893,
          876579,
          776403,
          765924,
          2806692,
          1602374,
          1076070,
          1416515,
          934689,
          684813,
          470140,
          996389,
          822157,
          564010,
          1226348,
          1034844,
          557362,
          947532,
          802248,
          610370,
          916477,
          1247175,
          1103667,
          871265,
          792386,
          628001,
          502319,
          805832,
          1412542,
          1212699,
          836128,
          927546,
          919746,
          1371954,
          680962,
          798382,
          954268,
          1116311,
          750447,
          1175357,
          1360990,
          928540,
          1037935,
          1836664,
          1113479,
          1201194,
          1383888,
          1183888,
          939888,
          1225967,
          1344786,
          1365366,
          984961,
          1083944,
          1167161,
          946081,
          1315985,
          975395,
          1121830,
          938098,
          1153483,
          976835,
          1051953,
          852583,
          998905,
          1183436,
          891878,
          832466,
          918618,
          744954,
          3500071,
          3525303,
          3012443,
          1588921,
          1318177,
          1264743,
          1062073,
          1222642,
          969403,
          856649,
          891404,
          792085,
          820580,
          669498,
          1177423,
          979676,
          1328890,
          1375499,
          1805826,
          2339576,
          1103918,
          1048632,
          1036117,
          755720,
          1450167,
          2306095,
          781657,
          783544,
          731414,
          615531,
          562971
         ]
        }
       ],
       "layout": {
        "bargap": 0.1,
        "template": {
         "data": {
          "bar": [
           {
            "error_x": {
             "color": "#f2f5fa"
            },
            "error_y": {
             "color": "#f2f5fa"
            },
            "marker": {
             "line": {
              "color": "rgb(17,17,17)",
              "width": 0.5
             },
             "pattern": {
              "fillmode": "overlay",
              "size": 10,
              "solidity": 0.2
             }
            },
            "type": "bar"
           }
          ],
          "barpolar": [
           {
            "marker": {
             "line": {
              "color": "rgb(17,17,17)",
              "width": 0.5
             },
             "pattern": {
              "fillmode": "overlay",
              "size": 10,
              "solidity": 0.2
             }
            },
            "type": "barpolar"
           }
          ],
          "carpet": [
           {
            "aaxis": {
             "endlinecolor": "#A2B1C6",
             "gridcolor": "#506784",
             "linecolor": "#506784",
             "minorgridcolor": "#506784",
             "startlinecolor": "#A2B1C6"
            },
            "baxis": {
             "endlinecolor": "#A2B1C6",
             "gridcolor": "#506784",
             "linecolor": "#506784",
             "minorgridcolor": "#506784",
             "startlinecolor": "#A2B1C6"
            },
            "type": "carpet"
           }
          ],
          "choropleth": [
           {
            "colorbar": {
             "outlinewidth": 0,
             "ticks": ""
            },
            "type": "choropleth"
           }
          ],
          "contour": [
           {
            "colorbar": {
             "outlinewidth": 0,
             "ticks": ""
            },
            "colorscale": [
             [
              0,
              "#0d0887"
             ],
             [
              0.1111111111111111,
              "#46039f"
             ],
             [
              0.2222222222222222,
              "#7201a8"
             ],
             [
              0.3333333333333333,
              "#9c179e"
             ],
             [
              0.4444444444444444,
              "#bd3786"
             ],
             [
              0.5555555555555556,
              "#d8576b"
             ],
             [
              0.6666666666666666,
              "#ed7953"
             ],
             [
              0.7777777777777778,
              "#fb9f3a"
             ],
             [
              0.8888888888888888,
              "#fdca26"
             ],
             [
              1,
              "#f0f921"
             ]
            ],
            "type": "contour"
           }
          ],
          "contourcarpet": [
           {
            "colorbar": {
             "outlinewidth": 0,
             "ticks": ""
            },
            "type": "contourcarpet"
           }
          ],
          "heatmap": [
           {
            "colorbar": {
             "outlinewidth": 0,
             "ticks": ""
            },
            "colorscale": [
             [
              0,
              "#0d0887"
             ],
             [
              0.1111111111111111,
              "#46039f"
             ],
             [
              0.2222222222222222,
              "#7201a8"
             ],
             [
              0.3333333333333333,
              "#9c179e"
             ],
             [
              0.4444444444444444,
              "#bd3786"
             ],
             [
              0.5555555555555556,
              "#d8576b"
             ],
             [
              0.6666666666666666,
              "#ed7953"
             ],
             [
              0.7777777777777778,
              "#fb9f3a"
             ],
             [
              0.8888888888888888,
              "#fdca26"
             ],
             [
              1,
              "#f0f921"
             ]
            ],
            "type": "heatmap"
           }
          ],
          "heatmapgl": [
           {
            "colorbar": {
             "outlinewidth": 0,
             "ticks": ""
            },
            "colorscale": [
             [
              0,
              "#0d0887"
             ],
             [
              0.1111111111111111,
              "#46039f"
             ],
             [
              0.2222222222222222,
              "#7201a8"
             ],
             [
              0.3333333333333333,
              "#9c179e"
             ],
             [
              0.4444444444444444,
              "#bd3786"
             ],
             [
              0.5555555555555556,
              "#d8576b"
             ],
             [
              0.6666666666666666,
              "#ed7953"
             ],
             [
              0.7777777777777778,
              "#fb9f3a"
             ],
             [
              0.8888888888888888,
              "#fdca26"
             ],
             [
              1,
              "#f0f921"
             ]
            ],
            "type": "heatmapgl"
           }
          ],
          "histogram": [
           {
            "marker": {
             "pattern": {
              "fillmode": "overlay",
              "size": 10,
              "solidity": 0.2
             }
            },
            "type": "histogram"
           }
          ],
          "histogram2d": [
           {
            "colorbar": {
             "outlinewidth": 0,
             "ticks": ""
            },
            "colorscale": [
             [
              0,
              "#0d0887"
             ],
             [
              0.1111111111111111,
              "#46039f"
             ],
             [
              0.2222222222222222,
              "#7201a8"
             ],
             [
              0.3333333333333333,
              "#9c179e"
             ],
             [
              0.4444444444444444,
              "#bd3786"
             ],
             [
              0.5555555555555556,
              "#d8576b"
             ],
             [
              0.6666666666666666,
              "#ed7953"
             ],
             [
              0.7777777777777778,
              "#fb9f3a"
             ],
             [
              0.8888888888888888,
              "#fdca26"
             ],
             [
              1,
              "#f0f921"
             ]
            ],
            "type": "histogram2d"
           }
          ],
          "histogram2dcontour": [
           {
            "colorbar": {
             "outlinewidth": 0,
             "ticks": ""
            },
            "colorscale": [
             [
              0,
              "#0d0887"
             ],
             [
              0.1111111111111111,
              "#46039f"
             ],
             [
              0.2222222222222222,
              "#7201a8"
             ],
             [
              0.3333333333333333,
              "#9c179e"
             ],
             [
              0.4444444444444444,
              "#bd3786"
             ],
             [
              0.5555555555555556,
              "#d8576b"
             ],
             [
              0.6666666666666666,
              "#ed7953"
             ],
             [
              0.7777777777777778,
              "#fb9f3a"
             ],
             [
              0.8888888888888888,
              "#fdca26"
             ],
             [
              1,
              "#f0f921"
             ]
            ],
            "type": "histogram2dcontour"
           }
          ],
          "mesh3d": [
           {
            "colorbar": {
             "outlinewidth": 0,
             "ticks": ""
            },
            "type": "mesh3d"
           }
          ],
          "parcoords": [
           {
            "line": {
             "colorbar": {
              "outlinewidth": 0,
              "ticks": ""
             }
            },
            "type": "parcoords"
           }
          ],
          "pie": [
           {
            "automargin": true,
            "type": "pie"
           }
          ],
          "scatter": [
           {
            "marker": {
             "line": {
              "color": "#283442"
             }
            },
            "type": "scatter"
           }
          ],
          "scatter3d": [
           {
            "line": {
             "colorbar": {
              "outlinewidth": 0,
              "ticks": ""
             }
            },
            "marker": {
             "colorbar": {
              "outlinewidth": 0,
              "ticks": ""
             }
            },
            "type": "scatter3d"
           }
          ],
          "scattercarpet": [
           {
            "marker": {
             "colorbar": {
              "outlinewidth": 0,
              "ticks": ""
             }
            },
            "type": "scattercarpet"
           }
          ],
          "scattergeo": [
           {
            "marker": {
             "colorbar": {
              "outlinewidth": 0,
              "ticks": ""
             }
            },
            "type": "scattergeo"
           }
          ],
          "scattergl": [
           {
            "marker": {
             "line": {
              "color": "#283442"
             }
            },
            "type": "scattergl"
           }
          ],
          "scattermapbox": [
           {
            "marker": {
             "colorbar": {
              "outlinewidth": 0,
              "ticks": ""
             }
            },
            "type": "scattermapbox"
           }
          ],
          "scatterpolar": [
           {
            "marker": {
             "colorbar": {
              "outlinewidth": 0,
              "ticks": ""
             }
            },
            "type": "scatterpolar"
           }
          ],
          "scatterpolargl": [
           {
            "marker": {
             "colorbar": {
              "outlinewidth": 0,
              "ticks": ""
             }
            },
            "type": "scatterpolargl"
           }
          ],
          "scatterternary": [
           {
            "marker": {
             "colorbar": {
              "outlinewidth": 0,
              "ticks": ""
             }
            },
            "type": "scatterternary"
           }
          ],
          "surface": [
           {
            "colorbar": {
             "outlinewidth": 0,
             "ticks": ""
            },
            "colorscale": [
             [
              0,
              "#0d0887"
             ],
             [
              0.1111111111111111,
              "#46039f"
             ],
             [
              0.2222222222222222,
              "#7201a8"
             ],
             [
              0.3333333333333333,
              "#9c179e"
             ],
             [
              0.4444444444444444,
              "#bd3786"
             ],
             [
              0.5555555555555556,
              "#d8576b"
             ],
             [
              0.6666666666666666,
              "#ed7953"
             ],
             [
              0.7777777777777778,
              "#fb9f3a"
             ],
             [
              0.8888888888888888,
              "#fdca26"
             ],
             [
              1,
              "#f0f921"
             ]
            ],
            "type": "surface"
           }
          ],
          "table": [
           {
            "cells": {
             "fill": {
              "color": "#506784"
             },
             "line": {
              "color": "rgb(17,17,17)"
             }
            },
            "header": {
             "fill": {
              "color": "#2a3f5f"
             },
             "line": {
              "color": "rgb(17,17,17)"
             }
            },
            "type": "table"
           }
          ]
         },
         "layout": {
          "annotationdefaults": {
           "arrowcolor": "#f2f5fa",
           "arrowhead": 0,
           "arrowwidth": 1
          },
          "autotypenumbers": "strict",
          "coloraxis": {
           "colorbar": {
            "outlinewidth": 0,
            "ticks": ""
           }
          },
          "colorscale": {
           "diverging": [
            [
             0,
             "#8e0152"
            ],
            [
             0.1,
             "#c51b7d"
            ],
            [
             0.2,
             "#de77ae"
            ],
            [
             0.3,
             "#f1b6da"
            ],
            [
             0.4,
             "#fde0ef"
            ],
            [
             0.5,
             "#f7f7f7"
            ],
            [
             0.6,
             "#e6f5d0"
            ],
            [
             0.7,
             "#b8e186"
            ],
            [
             0.8,
             "#7fbc41"
            ],
            [
             0.9,
             "#4d9221"
            ],
            [
             1,
             "#276419"
            ]
           ],
           "sequential": [
            [
             0,
             "#0d0887"
            ],
            [
             0.1111111111111111,
             "#46039f"
            ],
            [
             0.2222222222222222,
             "#7201a8"
            ],
            [
             0.3333333333333333,
             "#9c179e"
            ],
            [
             0.4444444444444444,
             "#bd3786"
            ],
            [
             0.5555555555555556,
             "#d8576b"
            ],
            [
             0.6666666666666666,
             "#ed7953"
            ],
            [
             0.7777777777777778,
             "#fb9f3a"
            ],
            [
             0.8888888888888888,
             "#fdca26"
            ],
            [
             1,
             "#f0f921"
            ]
           ],
           "sequentialminus": [
            [
             0,
             "#0d0887"
            ],
            [
             0.1111111111111111,
             "#46039f"
            ],
            [
             0.2222222222222222,
             "#7201a8"
            ],
            [
             0.3333333333333333,
             "#9c179e"
            ],
            [
             0.4444444444444444,
             "#bd3786"
            ],
            [
             0.5555555555555556,
             "#d8576b"
            ],
            [
             0.6666666666666666,
             "#ed7953"
            ],
            [
             0.7777777777777778,
             "#fb9f3a"
            ],
            [
             0.8888888888888888,
             "#fdca26"
            ],
            [
             1,
             "#f0f921"
            ]
           ]
          },
          "colorway": [
           "#636efa",
           "#EF553B",
           "#00cc96",
           "#ab63fa",
           "#FFA15A",
           "#19d3f3",
           "#FF6692",
           "#B6E880",
           "#FF97FF",
           "#FECB52"
          ],
          "font": {
           "color": "#f2f5fa"
          },
          "geo": {
           "bgcolor": "rgb(17,17,17)",
           "lakecolor": "rgb(17,17,17)",
           "landcolor": "rgb(17,17,17)",
           "showlakes": true,
           "showland": true,
           "subunitcolor": "#506784"
          },
          "hoverlabel": {
           "align": "left"
          },
          "hovermode": "closest",
          "mapbox": {
           "style": "dark"
          },
          "paper_bgcolor": "rgb(17,17,17)",
          "plot_bgcolor": "rgb(17,17,17)",
          "polar": {
           "angularaxis": {
            "gridcolor": "#506784",
            "linecolor": "#506784",
            "ticks": ""
           },
           "bgcolor": "rgb(17,17,17)",
           "radialaxis": {
            "gridcolor": "#506784",
            "linecolor": "#506784",
            "ticks": ""
           }
          },
          "scene": {
           "xaxis": {
            "backgroundcolor": "rgb(17,17,17)",
            "gridcolor": "#506784",
            "gridwidth": 2,
            "linecolor": "#506784",
            "showbackground": true,
            "ticks": "",
            "zerolinecolor": "#C8D4E3"
           },
           "yaxis": {
            "backgroundcolor": "rgb(17,17,17)",
            "gridcolor": "#506784",
            "gridwidth": 2,
            "linecolor": "#506784",
            "showbackground": true,
            "ticks": "",
            "zerolinecolor": "#C8D4E3"
           },
           "zaxis": {
            "backgroundcolor": "rgb(17,17,17)",
            "gridcolor": "#506784",
            "gridwidth": 2,
            "linecolor": "#506784",
            "showbackground": true,
            "ticks": "",
            "zerolinecolor": "#C8D4E3"
           }
          },
          "shapedefaults": {
           "line": {
            "color": "#f2f5fa"
           }
          },
          "sliderdefaults": {
           "bgcolor": "#C8D4E3",
           "bordercolor": "rgb(17,17,17)",
           "borderwidth": 1,
           "tickwidth": 0
          },
          "ternary": {
           "aaxis": {
            "gridcolor": "#506784",
            "linecolor": "#506784",
            "ticks": ""
           },
           "baxis": {
            "gridcolor": "#506784",
            "linecolor": "#506784",
            "ticks": ""
           },
           "bgcolor": "rgb(17,17,17)",
           "caxis": {
            "gridcolor": "#506784",
            "linecolor": "#506784",
            "ticks": ""
           }
          },
          "title": {
           "x": 0.05
          },
          "updatemenudefaults": {
           "bgcolor": "#506784",
           "borderwidth": 0
          },
          "xaxis": {
           "automargin": true,
           "gridcolor": "#283442",
           "linecolor": "#506784",
           "ticks": "",
           "title": {
            "standoff": 15
           },
           "zerolinecolor": "#283442",
           "zerolinewidth": 2
          },
          "yaxis": {
           "automargin": true,
           "gridcolor": "#283442",
           "linecolor": "#506784",
           "ticks": "",
           "title": {
            "standoff": 15
           },
           "zerolinecolor": "#283442",
           "zerolinewidth": 2
          }
         }
        },
        "title": {
         "text": "Histograma del Volumen Diario Total en el Conjunto de Entrenamiento"
        },
        "xaxis": {
         "title": {
          "text": "Volumen Diario Total"
         }
        },
        "yaxis": {
         "title": {
          "text": "Frecuencia"
         }
        }
       }
      }
     },
     "metadata": {},
     "output_type": "display_data"
    }
   ],
   "source": [
    "# Graficar el histograma del volumen diario total en el conjunto de entrenamiento\n",
    "algo.plot_training_volume_histogram()"
   ]
  },
  {
   "cell_type": "markdown",
   "id": "849eb7e1",
   "metadata": {
    "id": "849eb7e1"
   },
   "source": [
    "<span style=\"color:#1E90FF; font-weight:bold\">Calculate the average daily volume (ADV) as a mean and also as a median over daily volumes. How much do they differ? What are the advantages and disadvantages of using median vs mean to get an “average” estimation"
   ]
  },
  {
   "cell_type": "code",
   "execution_count": 80,
   "id": "e6d6241c",
   "metadata": {
    "id": "e6d6241c"
   },
   "outputs": [
    {
     "name": "stdout",
     "output_type": "stream",
     "text": [
      "Volumen Diario Promedio (Media): 1261181.74\n",
      "Volumen Diario Promedio (Mediana): 1136875.00\n",
      "Diferencia entre Media y Mediana: 124306.74\n",
      "\n",
      "Ventajas de usar la Media:\n",
      "- Captura todos los valores, incluyendo valores extremos.\n",
      "- Es útil cuando los datos tienen una distribución simétrica.\n",
      "\n",
      "Desventajas de usar la Media:\n",
      "- Es sensible a valores atípicos (outliers), lo que puede distorsionar el promedio.\n",
      "\n",
      "Ventajas de usar la Mediana:\n",
      "- No se ve afectada por valores atípicos, lo que la hace más representativa en distribuciones asimétricas.\n",
      "- Es más robusta cuando los datos tienen valores extremos.\n",
      "\n",
      "Desventajas de usar la Mediana:\n",
      "- No captura la magnitud de los valores extremos.\n",
      "- Puede ser menos precisa si los valores están uniformemente distribuidos sin grandes outliers.\n"
     ]
    }
   ],
   "source": [
    "# Calcular el volumen diario promedio (ADV) y discutir la diferencia entre media y mediana\n",
    "algo.calculate_average_daily_volume()"
   ]
  },
  {
   "cell_type": "markdown",
   "id": "9f25d993",
   "metadata": {},
   "source": [
    "La media es útil cuando los datos están distribuidos de manera simétrica y no contienen muchos valores atípicos, pero puede ser engañosa si hay días con volúmenes muy extremos.\n",
    "La mediana es una opción más robusta para estimar el volumen \"típico\" en casos donde la distribución es asimétrica o contiene valores extremos. Es menos susceptible a ser influenciada por outliers."
   ]
  },
  {
   "cell_type": "markdown",
   "id": "15a09c29",
   "metadata": {
    "id": "15a09c29"
   },
   "source": [
    "<span style=\"color:#1E90FF; font-weight:bold\">Separate the train set in days of the week (Mondays, Tuesdays… Fridays) and redo the analysis for each day of the week. Do you see any meaningful difference between these results and the global results? Do you see any pattern across days of the week?</span>\n"
   ]
  },
  {
   "cell_type": "code",
   "execution_count": 81,
   "id": "3988b88e",
   "metadata": {
    "id": "3988b88e"
   },
   "outputs": [
    {
     "name": "stdout",
     "output_type": "stream",
     "text": [
      "Monday:\n",
      "  Volumen Medio Diario (VAD) - Media: 1165484.28\n",
      "  Volumen Medio Diario (VAD) - Mediana: 1043696.00\n",
      "\n",
      "Tuesday:\n",
      "  Volumen Medio Diario (VAD) - Media: 1197613.62\n",
      "  Volumen Medio Diario (VAD) - Mediana: 1116151.00\n",
      "\n",
      "Wednesday:\n",
      "  Volumen Medio Diario (VAD) - Media: 1174438.82\n",
      "  Volumen Medio Diario (VAD) - Mediana: 1089270.50\n",
      "\n",
      "Thursday:\n",
      "  Volumen Medio Diario (VAD) - Media: 1339089.11\n",
      "  Volumen Medio Diario (VAD) - Mediana: 1194949.00\n",
      "\n",
      "Friday:\n",
      "  Volumen Medio Diario (VAD) - Media: 1433041.59\n",
      "  Volumen Medio Diario (VAD) - Mediana: 1268933.00\n",
      "\n"
     ]
    },
    {
     "data": {
      "application/vnd.plotly.v1+json": {
       "config": {
        "plotlyServerURL": "https://plot.ly"
       },
       "data": [
        {
         "marker": {
          "color": "skyblue",
          "line": {
           "color": "black",
           "width": 1
          }
         },
         "opacity": 0.7,
         "type": "bar",
         "x": [
          "Monday",
          "Tuesday",
          "Wednesday",
          "Thursday",
          "Friday"
         ],
         "y": [
          1165484.2785714285,
          1197613.6168831168,
          1174438.8157894737,
          1339089.1088435375,
          1433041.5862068965
         ]
        }
       ],
       "layout": {
        "bargap": 0.2,
        "template": {
         "data": {
          "bar": [
           {
            "error_x": {
             "color": "#f2f5fa"
            },
            "error_y": {
             "color": "#f2f5fa"
            },
            "marker": {
             "line": {
              "color": "rgb(17,17,17)",
              "width": 0.5
             },
             "pattern": {
              "fillmode": "overlay",
              "size": 10,
              "solidity": 0.2
             }
            },
            "type": "bar"
           }
          ],
          "barpolar": [
           {
            "marker": {
             "line": {
              "color": "rgb(17,17,17)",
              "width": 0.5
             },
             "pattern": {
              "fillmode": "overlay",
              "size": 10,
              "solidity": 0.2
             }
            },
            "type": "barpolar"
           }
          ],
          "carpet": [
           {
            "aaxis": {
             "endlinecolor": "#A2B1C6",
             "gridcolor": "#506784",
             "linecolor": "#506784",
             "minorgridcolor": "#506784",
             "startlinecolor": "#A2B1C6"
            },
            "baxis": {
             "endlinecolor": "#A2B1C6",
             "gridcolor": "#506784",
             "linecolor": "#506784",
             "minorgridcolor": "#506784",
             "startlinecolor": "#A2B1C6"
            },
            "type": "carpet"
           }
          ],
          "choropleth": [
           {
            "colorbar": {
             "outlinewidth": 0,
             "ticks": ""
            },
            "type": "choropleth"
           }
          ],
          "contour": [
           {
            "colorbar": {
             "outlinewidth": 0,
             "ticks": ""
            },
            "colorscale": [
             [
              0,
              "#0d0887"
             ],
             [
              0.1111111111111111,
              "#46039f"
             ],
             [
              0.2222222222222222,
              "#7201a8"
             ],
             [
              0.3333333333333333,
              "#9c179e"
             ],
             [
              0.4444444444444444,
              "#bd3786"
             ],
             [
              0.5555555555555556,
              "#d8576b"
             ],
             [
              0.6666666666666666,
              "#ed7953"
             ],
             [
              0.7777777777777778,
              "#fb9f3a"
             ],
             [
              0.8888888888888888,
              "#fdca26"
             ],
             [
              1,
              "#f0f921"
             ]
            ],
            "type": "contour"
           }
          ],
          "contourcarpet": [
           {
            "colorbar": {
             "outlinewidth": 0,
             "ticks": ""
            },
            "type": "contourcarpet"
           }
          ],
          "heatmap": [
           {
            "colorbar": {
             "outlinewidth": 0,
             "ticks": ""
            },
            "colorscale": [
             [
              0,
              "#0d0887"
             ],
             [
              0.1111111111111111,
              "#46039f"
             ],
             [
              0.2222222222222222,
              "#7201a8"
             ],
             [
              0.3333333333333333,
              "#9c179e"
             ],
             [
              0.4444444444444444,
              "#bd3786"
             ],
             [
              0.5555555555555556,
              "#d8576b"
             ],
             [
              0.6666666666666666,
              "#ed7953"
             ],
             [
              0.7777777777777778,
              "#fb9f3a"
             ],
             [
              0.8888888888888888,
              "#fdca26"
             ],
             [
              1,
              "#f0f921"
             ]
            ],
            "type": "heatmap"
           }
          ],
          "heatmapgl": [
           {
            "colorbar": {
             "outlinewidth": 0,
             "ticks": ""
            },
            "colorscale": [
             [
              0,
              "#0d0887"
             ],
             [
              0.1111111111111111,
              "#46039f"
             ],
             [
              0.2222222222222222,
              "#7201a8"
             ],
             [
              0.3333333333333333,
              "#9c179e"
             ],
             [
              0.4444444444444444,
              "#bd3786"
             ],
             [
              0.5555555555555556,
              "#d8576b"
             ],
             [
              0.6666666666666666,
              "#ed7953"
             ],
             [
              0.7777777777777778,
              "#fb9f3a"
             ],
             [
              0.8888888888888888,
              "#fdca26"
             ],
             [
              1,
              "#f0f921"
             ]
            ],
            "type": "heatmapgl"
           }
          ],
          "histogram": [
           {
            "marker": {
             "pattern": {
              "fillmode": "overlay",
              "size": 10,
              "solidity": 0.2
             }
            },
            "type": "histogram"
           }
          ],
          "histogram2d": [
           {
            "colorbar": {
             "outlinewidth": 0,
             "ticks": ""
            },
            "colorscale": [
             [
              0,
              "#0d0887"
             ],
             [
              0.1111111111111111,
              "#46039f"
             ],
             [
              0.2222222222222222,
              "#7201a8"
             ],
             [
              0.3333333333333333,
              "#9c179e"
             ],
             [
              0.4444444444444444,
              "#bd3786"
             ],
             [
              0.5555555555555556,
              "#d8576b"
             ],
             [
              0.6666666666666666,
              "#ed7953"
             ],
             [
              0.7777777777777778,
              "#fb9f3a"
             ],
             [
              0.8888888888888888,
              "#fdca26"
             ],
             [
              1,
              "#f0f921"
             ]
            ],
            "type": "histogram2d"
           }
          ],
          "histogram2dcontour": [
           {
            "colorbar": {
             "outlinewidth": 0,
             "ticks": ""
            },
            "colorscale": [
             [
              0,
              "#0d0887"
             ],
             [
              0.1111111111111111,
              "#46039f"
             ],
             [
              0.2222222222222222,
              "#7201a8"
             ],
             [
              0.3333333333333333,
              "#9c179e"
             ],
             [
              0.4444444444444444,
              "#bd3786"
             ],
             [
              0.5555555555555556,
              "#d8576b"
             ],
             [
              0.6666666666666666,
              "#ed7953"
             ],
             [
              0.7777777777777778,
              "#fb9f3a"
             ],
             [
              0.8888888888888888,
              "#fdca26"
             ],
             [
              1,
              "#f0f921"
             ]
            ],
            "type": "histogram2dcontour"
           }
          ],
          "mesh3d": [
           {
            "colorbar": {
             "outlinewidth": 0,
             "ticks": ""
            },
            "type": "mesh3d"
           }
          ],
          "parcoords": [
           {
            "line": {
             "colorbar": {
              "outlinewidth": 0,
              "ticks": ""
             }
            },
            "type": "parcoords"
           }
          ],
          "pie": [
           {
            "automargin": true,
            "type": "pie"
           }
          ],
          "scatter": [
           {
            "marker": {
             "line": {
              "color": "#283442"
             }
            },
            "type": "scatter"
           }
          ],
          "scatter3d": [
           {
            "line": {
             "colorbar": {
              "outlinewidth": 0,
              "ticks": ""
             }
            },
            "marker": {
             "colorbar": {
              "outlinewidth": 0,
              "ticks": ""
             }
            },
            "type": "scatter3d"
           }
          ],
          "scattercarpet": [
           {
            "marker": {
             "colorbar": {
              "outlinewidth": 0,
              "ticks": ""
             }
            },
            "type": "scattercarpet"
           }
          ],
          "scattergeo": [
           {
            "marker": {
             "colorbar": {
              "outlinewidth": 0,
              "ticks": ""
             }
            },
            "type": "scattergeo"
           }
          ],
          "scattergl": [
           {
            "marker": {
             "line": {
              "color": "#283442"
             }
            },
            "type": "scattergl"
           }
          ],
          "scattermapbox": [
           {
            "marker": {
             "colorbar": {
              "outlinewidth": 0,
              "ticks": ""
             }
            },
            "type": "scattermapbox"
           }
          ],
          "scatterpolar": [
           {
            "marker": {
             "colorbar": {
              "outlinewidth": 0,
              "ticks": ""
             }
            },
            "type": "scatterpolar"
           }
          ],
          "scatterpolargl": [
           {
            "marker": {
             "colorbar": {
              "outlinewidth": 0,
              "ticks": ""
             }
            },
            "type": "scatterpolargl"
           }
          ],
          "scatterternary": [
           {
            "marker": {
             "colorbar": {
              "outlinewidth": 0,
              "ticks": ""
             }
            },
            "type": "scatterternary"
           }
          ],
          "surface": [
           {
            "colorbar": {
             "outlinewidth": 0,
             "ticks": ""
            },
            "colorscale": [
             [
              0,
              "#0d0887"
             ],
             [
              0.1111111111111111,
              "#46039f"
             ],
             [
              0.2222222222222222,
              "#7201a8"
             ],
             [
              0.3333333333333333,
              "#9c179e"
             ],
             [
              0.4444444444444444,
              "#bd3786"
             ],
             [
              0.5555555555555556,
              "#d8576b"
             ],
             [
              0.6666666666666666,
              "#ed7953"
             ],
             [
              0.7777777777777778,
              "#fb9f3a"
             ],
             [
              0.8888888888888888,
              "#fdca26"
             ],
             [
              1,
              "#f0f921"
             ]
            ],
            "type": "surface"
           }
          ],
          "table": [
           {
            "cells": {
             "fill": {
              "color": "#506784"
             },
             "line": {
              "color": "rgb(17,17,17)"
             }
            },
            "header": {
             "fill": {
              "color": "#2a3f5f"
             },
             "line": {
              "color": "rgb(17,17,17)"
             }
            },
            "type": "table"
           }
          ]
         },
         "layout": {
          "annotationdefaults": {
           "arrowcolor": "#f2f5fa",
           "arrowhead": 0,
           "arrowwidth": 1
          },
          "autotypenumbers": "strict",
          "coloraxis": {
           "colorbar": {
            "outlinewidth": 0,
            "ticks": ""
           }
          },
          "colorscale": {
           "diverging": [
            [
             0,
             "#8e0152"
            ],
            [
             0.1,
             "#c51b7d"
            ],
            [
             0.2,
             "#de77ae"
            ],
            [
             0.3,
             "#f1b6da"
            ],
            [
             0.4,
             "#fde0ef"
            ],
            [
             0.5,
             "#f7f7f7"
            ],
            [
             0.6,
             "#e6f5d0"
            ],
            [
             0.7,
             "#b8e186"
            ],
            [
             0.8,
             "#7fbc41"
            ],
            [
             0.9,
             "#4d9221"
            ],
            [
             1,
             "#276419"
            ]
           ],
           "sequential": [
            [
             0,
             "#0d0887"
            ],
            [
             0.1111111111111111,
             "#46039f"
            ],
            [
             0.2222222222222222,
             "#7201a8"
            ],
            [
             0.3333333333333333,
             "#9c179e"
            ],
            [
             0.4444444444444444,
             "#bd3786"
            ],
            [
             0.5555555555555556,
             "#d8576b"
            ],
            [
             0.6666666666666666,
             "#ed7953"
            ],
            [
             0.7777777777777778,
             "#fb9f3a"
            ],
            [
             0.8888888888888888,
             "#fdca26"
            ],
            [
             1,
             "#f0f921"
            ]
           ],
           "sequentialminus": [
            [
             0,
             "#0d0887"
            ],
            [
             0.1111111111111111,
             "#46039f"
            ],
            [
             0.2222222222222222,
             "#7201a8"
            ],
            [
             0.3333333333333333,
             "#9c179e"
            ],
            [
             0.4444444444444444,
             "#bd3786"
            ],
            [
             0.5555555555555556,
             "#d8576b"
            ],
            [
             0.6666666666666666,
             "#ed7953"
            ],
            [
             0.7777777777777778,
             "#fb9f3a"
            ],
            [
             0.8888888888888888,
             "#fdca26"
            ],
            [
             1,
             "#f0f921"
            ]
           ]
          },
          "colorway": [
           "#636efa",
           "#EF553B",
           "#00cc96",
           "#ab63fa",
           "#FFA15A",
           "#19d3f3",
           "#FF6692",
           "#B6E880",
           "#FF97FF",
           "#FECB52"
          ],
          "font": {
           "color": "#f2f5fa"
          },
          "geo": {
           "bgcolor": "rgb(17,17,17)",
           "lakecolor": "rgb(17,17,17)",
           "landcolor": "rgb(17,17,17)",
           "showlakes": true,
           "showland": true,
           "subunitcolor": "#506784"
          },
          "hoverlabel": {
           "align": "left"
          },
          "hovermode": "closest",
          "mapbox": {
           "style": "dark"
          },
          "paper_bgcolor": "rgb(17,17,17)",
          "plot_bgcolor": "rgb(17,17,17)",
          "polar": {
           "angularaxis": {
            "gridcolor": "#506784",
            "linecolor": "#506784",
            "ticks": ""
           },
           "bgcolor": "rgb(17,17,17)",
           "radialaxis": {
            "gridcolor": "#506784",
            "linecolor": "#506784",
            "ticks": ""
           }
          },
          "scene": {
           "xaxis": {
            "backgroundcolor": "rgb(17,17,17)",
            "gridcolor": "#506784",
            "gridwidth": 2,
            "linecolor": "#506784",
            "showbackground": true,
            "ticks": "",
            "zerolinecolor": "#C8D4E3"
           },
           "yaxis": {
            "backgroundcolor": "rgb(17,17,17)",
            "gridcolor": "#506784",
            "gridwidth": 2,
            "linecolor": "#506784",
            "showbackground": true,
            "ticks": "",
            "zerolinecolor": "#C8D4E3"
           },
           "zaxis": {
            "backgroundcolor": "rgb(17,17,17)",
            "gridcolor": "#506784",
            "gridwidth": 2,
            "linecolor": "#506784",
            "showbackground": true,
            "ticks": "",
            "zerolinecolor": "#C8D4E3"
           }
          },
          "shapedefaults": {
           "line": {
            "color": "#f2f5fa"
           }
          },
          "sliderdefaults": {
           "bgcolor": "#C8D4E3",
           "bordercolor": "rgb(17,17,17)",
           "borderwidth": 1,
           "tickwidth": 0
          },
          "ternary": {
           "aaxis": {
            "gridcolor": "#506784",
            "linecolor": "#506784",
            "ticks": ""
           },
           "baxis": {
            "gridcolor": "#506784",
            "linecolor": "#506784",
            "ticks": ""
           },
           "bgcolor": "rgb(17,17,17)",
           "caxis": {
            "gridcolor": "#506784",
            "linecolor": "#506784",
            "ticks": ""
           }
          },
          "title": {
           "x": 0.05
          },
          "updatemenudefaults": {
           "bgcolor": "#506784",
           "borderwidth": 0
          },
          "xaxis": {
           "automargin": true,
           "gridcolor": "#283442",
           "linecolor": "#506784",
           "ticks": "",
           "title": {
            "standoff": 15
           },
           "zerolinecolor": "#283442",
           "zerolinewidth": 2
          },
          "yaxis": {
           "automargin": true,
           "gridcolor": "#283442",
           "linecolor": "#506784",
           "ticks": "",
           "title": {
            "standoff": 15
           },
           "zerolinecolor": "#283442",
           "zerolinewidth": 2
          }
         }
        },
        "title": {
         "text": "Volumen Medio Diario por Día de la Semana en el Conjunto de Entrenamiento"
        },
        "xaxis": {
         "title": {
          "text": "Día de la Semana"
         }
        },
        "yaxis": {
         "title": {
          "text": "Volumen Medio Diario (Media)"
         }
        }
       }
      }
     },
     "metadata": {},
     "output_type": "display_data"
    }
   ],
   "source": [
    "# Analizar los volúmenes por días de la semana\n",
    "algo.analyze_days_of_week()"
   ]
  },
  {
   "cell_type": "markdown",
   "id": "5dae7162",
   "metadata": {
    "id": "5dae7162"
   },
   "source": [
    "<span style=\"color:#1E90FF; font-weight:bold\">[Optional] Can you think about other kind of special days where a specific volume curve should be constructed? Which kind of volume profiles have these days?"
   ]
  },
  {
   "cell_type": "code",
   "execution_count": 82,
   "id": "feb90922",
   "metadata": {
    "id": "feb90922"
   },
   "outputs": [],
   "source": [
    "# Días de anuncions de política monetarias y económicas\n",
    "# Días de publicación de datos económicos clave (empleo, inflación, PIB)\n",
    "# Vencimiento de contratos de futuros y opciones (conocido como \"quadruple witching\")\n",
    "# Días de rebalanceo de índices (como el S&P 500)\n",
    "# Días previos y posteriores a festivos"
   ]
  },
  {
   "cell_type": "markdown",
   "id": "3801c775",
   "metadata": {
    "id": "3801c775"
   },
   "source": [
    "<span style=\"color:#1E90FF; font-weight:bold\">**Static volume prediction**\n",
    "\n",
    "<span style=\"color:#1E90FF; font-weight:bold\">For each day (don’t differentiate here between days of the week) calculate the median of volumes for each interval of five minutes using the data from the same interval across days of the training set. You have to get a single median volume curve with as many points as five minute intervals in a day."
   ]
  },
  {
   "cell_type": "code",
   "execution_count": 83,
   "id": "4cf85be4",
   "metadata": {
    "id": "4cf85be4"
   },
   "outputs": [
    {
     "data": {
      "application/vnd.plotly.v1+json": {
       "config": {
        "plotlyServerURL": "https://plot.ly"
       },
       "data": [
        {
         "line": {
          "color": "blue",
          "width": 2
         },
         "mode": "lines",
         "type": "scatter",
         "x": [
          "09:00",
          "09:05",
          "09:10",
          "09:15",
          "09:20",
          "09:25",
          "09:30",
          "09:35",
          "09:40",
          "09:45",
          "09:50",
          "09:55",
          "10:00",
          "10:05",
          "10:10",
          "10:15",
          "10:20",
          "10:25",
          "10:30",
          "10:35",
          "10:40",
          "10:45",
          "10:50",
          "10:55",
          "11:00",
          "11:05",
          "11:10",
          "11:15",
          "11:20",
          "11:25",
          "11:30",
          "11:35",
          "11:40",
          "11:45",
          "11:50",
          "11:55",
          "12:00",
          "12:05",
          "12:10",
          "12:15",
          "12:20",
          "12:25",
          "12:30",
          "12:35",
          "12:40",
          "12:45",
          "12:50",
          "12:55",
          "13:00",
          "13:05",
          "13:10",
          "13:15",
          "13:20",
          "13:25",
          "13:30",
          "13:35",
          "13:40",
          "13:45",
          "13:50",
          "13:55",
          "14:00",
          "14:05",
          "14:10",
          "14:15",
          "14:20",
          "14:25",
          "14:30",
          "14:35",
          "14:40",
          "14:45",
          "14:50",
          "14:55",
          "15:00",
          "15:05",
          "15:10",
          "15:15",
          "15:20",
          "15:25",
          "15:30",
          "15:35",
          "15:40",
          "15:45",
          "15:50",
          "15:55",
          "16:00",
          "16:05",
          "16:10",
          "16:15",
          "16:20",
          "16:25",
          "16:30",
          "16:35",
          "16:40",
          "16:45",
          "16:50",
          "16:55",
          "17:00",
          "17:05",
          "17:10",
          "17:15",
          "17:20",
          "17:25"
         ],
         "y": [
          15851.5,
          18691.5,
          15503.5,
          15168.5,
          14326,
          13093.5,
          13646.5,
          12470,
          10699.5,
          11200.5,
          11125.5,
          10625,
          13148.5,
          11626,
          10615,
          9800,
          9730,
          8738,
          9370,
          9252,
          8140,
          8962,
          8621,
          8486,
          9355,
          8975,
          8487,
          8096,
          8206,
          7896,
          7846.5,
          7870,
          7739,
          7486,
          8487.5,
          7839.5,
          7696,
          6969,
          6812.5,
          6355,
          5979.5,
          5985.5,
          6091.5,
          5948,
          5752.5,
          5640.5,
          5644,
          5980,
          5388,
          6700,
          5369.5,
          5537,
          5549,
          5149,
          5344,
          5666,
          5478.5,
          5598.5,
          5331,
          5585.5,
          6002,
          5748,
          5830,
          6133,
          5916,
          6107,
          8685,
          7691,
          7254,
          7518,
          7539,
          7075,
          8138.5,
          7880.5,
          7193.5,
          7553,
          7029,
          7630.5,
          13206,
          12332.5,
          11326,
          11746.5,
          11681,
          10637.5,
          13927,
          12076.5,
          11466.5,
          11171.5,
          10942.5,
          10878.5,
          11567.5,
          10600,
          10868,
          10972,
          11723.5,
          11726.5,
          13349,
          12856,
          13657,
          16683.5,
          16006.5,
          20299
         ]
        }
       ],
       "layout": {
        "template": {
         "data": {
          "bar": [
           {
            "error_x": {
             "color": "#f2f5fa"
            },
            "error_y": {
             "color": "#f2f5fa"
            },
            "marker": {
             "line": {
              "color": "rgb(17,17,17)",
              "width": 0.5
             },
             "pattern": {
              "fillmode": "overlay",
              "size": 10,
              "solidity": 0.2
             }
            },
            "type": "bar"
           }
          ],
          "barpolar": [
           {
            "marker": {
             "line": {
              "color": "rgb(17,17,17)",
              "width": 0.5
             },
             "pattern": {
              "fillmode": "overlay",
              "size": 10,
              "solidity": 0.2
             }
            },
            "type": "barpolar"
           }
          ],
          "carpet": [
           {
            "aaxis": {
             "endlinecolor": "#A2B1C6",
             "gridcolor": "#506784",
             "linecolor": "#506784",
             "minorgridcolor": "#506784",
             "startlinecolor": "#A2B1C6"
            },
            "baxis": {
             "endlinecolor": "#A2B1C6",
             "gridcolor": "#506784",
             "linecolor": "#506784",
             "minorgridcolor": "#506784",
             "startlinecolor": "#A2B1C6"
            },
            "type": "carpet"
           }
          ],
          "choropleth": [
           {
            "colorbar": {
             "outlinewidth": 0,
             "ticks": ""
            },
            "type": "choropleth"
           }
          ],
          "contour": [
           {
            "colorbar": {
             "outlinewidth": 0,
             "ticks": ""
            },
            "colorscale": [
             [
              0,
              "#0d0887"
             ],
             [
              0.1111111111111111,
              "#46039f"
             ],
             [
              0.2222222222222222,
              "#7201a8"
             ],
             [
              0.3333333333333333,
              "#9c179e"
             ],
             [
              0.4444444444444444,
              "#bd3786"
             ],
             [
              0.5555555555555556,
              "#d8576b"
             ],
             [
              0.6666666666666666,
              "#ed7953"
             ],
             [
              0.7777777777777778,
              "#fb9f3a"
             ],
             [
              0.8888888888888888,
              "#fdca26"
             ],
             [
              1,
              "#f0f921"
             ]
            ],
            "type": "contour"
           }
          ],
          "contourcarpet": [
           {
            "colorbar": {
             "outlinewidth": 0,
             "ticks": ""
            },
            "type": "contourcarpet"
           }
          ],
          "heatmap": [
           {
            "colorbar": {
             "outlinewidth": 0,
             "ticks": ""
            },
            "colorscale": [
             [
              0,
              "#0d0887"
             ],
             [
              0.1111111111111111,
              "#46039f"
             ],
             [
              0.2222222222222222,
              "#7201a8"
             ],
             [
              0.3333333333333333,
              "#9c179e"
             ],
             [
              0.4444444444444444,
              "#bd3786"
             ],
             [
              0.5555555555555556,
              "#d8576b"
             ],
             [
              0.6666666666666666,
              "#ed7953"
             ],
             [
              0.7777777777777778,
              "#fb9f3a"
             ],
             [
              0.8888888888888888,
              "#fdca26"
             ],
             [
              1,
              "#f0f921"
             ]
            ],
            "type": "heatmap"
           }
          ],
          "heatmapgl": [
           {
            "colorbar": {
             "outlinewidth": 0,
             "ticks": ""
            },
            "colorscale": [
             [
              0,
              "#0d0887"
             ],
             [
              0.1111111111111111,
              "#46039f"
             ],
             [
              0.2222222222222222,
              "#7201a8"
             ],
             [
              0.3333333333333333,
              "#9c179e"
             ],
             [
              0.4444444444444444,
              "#bd3786"
             ],
             [
              0.5555555555555556,
              "#d8576b"
             ],
             [
              0.6666666666666666,
              "#ed7953"
             ],
             [
              0.7777777777777778,
              "#fb9f3a"
             ],
             [
              0.8888888888888888,
              "#fdca26"
             ],
             [
              1,
              "#f0f921"
             ]
            ],
            "type": "heatmapgl"
           }
          ],
          "histogram": [
           {
            "marker": {
             "pattern": {
              "fillmode": "overlay",
              "size": 10,
              "solidity": 0.2
             }
            },
            "type": "histogram"
           }
          ],
          "histogram2d": [
           {
            "colorbar": {
             "outlinewidth": 0,
             "ticks": ""
            },
            "colorscale": [
             [
              0,
              "#0d0887"
             ],
             [
              0.1111111111111111,
              "#46039f"
             ],
             [
              0.2222222222222222,
              "#7201a8"
             ],
             [
              0.3333333333333333,
              "#9c179e"
             ],
             [
              0.4444444444444444,
              "#bd3786"
             ],
             [
              0.5555555555555556,
              "#d8576b"
             ],
             [
              0.6666666666666666,
              "#ed7953"
             ],
             [
              0.7777777777777778,
              "#fb9f3a"
             ],
             [
              0.8888888888888888,
              "#fdca26"
             ],
             [
              1,
              "#f0f921"
             ]
            ],
            "type": "histogram2d"
           }
          ],
          "histogram2dcontour": [
           {
            "colorbar": {
             "outlinewidth": 0,
             "ticks": ""
            },
            "colorscale": [
             [
              0,
              "#0d0887"
             ],
             [
              0.1111111111111111,
              "#46039f"
             ],
             [
              0.2222222222222222,
              "#7201a8"
             ],
             [
              0.3333333333333333,
              "#9c179e"
             ],
             [
              0.4444444444444444,
              "#bd3786"
             ],
             [
              0.5555555555555556,
              "#d8576b"
             ],
             [
              0.6666666666666666,
              "#ed7953"
             ],
             [
              0.7777777777777778,
              "#fb9f3a"
             ],
             [
              0.8888888888888888,
              "#fdca26"
             ],
             [
              1,
              "#f0f921"
             ]
            ],
            "type": "histogram2dcontour"
           }
          ],
          "mesh3d": [
           {
            "colorbar": {
             "outlinewidth": 0,
             "ticks": ""
            },
            "type": "mesh3d"
           }
          ],
          "parcoords": [
           {
            "line": {
             "colorbar": {
              "outlinewidth": 0,
              "ticks": ""
             }
            },
            "type": "parcoords"
           }
          ],
          "pie": [
           {
            "automargin": true,
            "type": "pie"
           }
          ],
          "scatter": [
           {
            "marker": {
             "line": {
              "color": "#283442"
             }
            },
            "type": "scatter"
           }
          ],
          "scatter3d": [
           {
            "line": {
             "colorbar": {
              "outlinewidth": 0,
              "ticks": ""
             }
            },
            "marker": {
             "colorbar": {
              "outlinewidth": 0,
              "ticks": ""
             }
            },
            "type": "scatter3d"
           }
          ],
          "scattercarpet": [
           {
            "marker": {
             "colorbar": {
              "outlinewidth": 0,
              "ticks": ""
             }
            },
            "type": "scattercarpet"
           }
          ],
          "scattergeo": [
           {
            "marker": {
             "colorbar": {
              "outlinewidth": 0,
              "ticks": ""
             }
            },
            "type": "scattergeo"
           }
          ],
          "scattergl": [
           {
            "marker": {
             "line": {
              "color": "#283442"
             }
            },
            "type": "scattergl"
           }
          ],
          "scattermapbox": [
           {
            "marker": {
             "colorbar": {
              "outlinewidth": 0,
              "ticks": ""
             }
            },
            "type": "scattermapbox"
           }
          ],
          "scatterpolar": [
           {
            "marker": {
             "colorbar": {
              "outlinewidth": 0,
              "ticks": ""
             }
            },
            "type": "scatterpolar"
           }
          ],
          "scatterpolargl": [
           {
            "marker": {
             "colorbar": {
              "outlinewidth": 0,
              "ticks": ""
             }
            },
            "type": "scatterpolargl"
           }
          ],
          "scatterternary": [
           {
            "marker": {
             "colorbar": {
              "outlinewidth": 0,
              "ticks": ""
             }
            },
            "type": "scatterternary"
           }
          ],
          "surface": [
           {
            "colorbar": {
             "outlinewidth": 0,
             "ticks": ""
            },
            "colorscale": [
             [
              0,
              "#0d0887"
             ],
             [
              0.1111111111111111,
              "#46039f"
             ],
             [
              0.2222222222222222,
              "#7201a8"
             ],
             [
              0.3333333333333333,
              "#9c179e"
             ],
             [
              0.4444444444444444,
              "#bd3786"
             ],
             [
              0.5555555555555556,
              "#d8576b"
             ],
             [
              0.6666666666666666,
              "#ed7953"
             ],
             [
              0.7777777777777778,
              "#fb9f3a"
             ],
             [
              0.8888888888888888,
              "#fdca26"
             ],
             [
              1,
              "#f0f921"
             ]
            ],
            "type": "surface"
           }
          ],
          "table": [
           {
            "cells": {
             "fill": {
              "color": "#506784"
             },
             "line": {
              "color": "rgb(17,17,17)"
             }
            },
            "header": {
             "fill": {
              "color": "#2a3f5f"
             },
             "line": {
              "color": "rgb(17,17,17)"
             }
            },
            "type": "table"
           }
          ]
         },
         "layout": {
          "annotationdefaults": {
           "arrowcolor": "#f2f5fa",
           "arrowhead": 0,
           "arrowwidth": 1
          },
          "autotypenumbers": "strict",
          "coloraxis": {
           "colorbar": {
            "outlinewidth": 0,
            "ticks": ""
           }
          },
          "colorscale": {
           "diverging": [
            [
             0,
             "#8e0152"
            ],
            [
             0.1,
             "#c51b7d"
            ],
            [
             0.2,
             "#de77ae"
            ],
            [
             0.3,
             "#f1b6da"
            ],
            [
             0.4,
             "#fde0ef"
            ],
            [
             0.5,
             "#f7f7f7"
            ],
            [
             0.6,
             "#e6f5d0"
            ],
            [
             0.7,
             "#b8e186"
            ],
            [
             0.8,
             "#7fbc41"
            ],
            [
             0.9,
             "#4d9221"
            ],
            [
             1,
             "#276419"
            ]
           ],
           "sequential": [
            [
             0,
             "#0d0887"
            ],
            [
             0.1111111111111111,
             "#46039f"
            ],
            [
             0.2222222222222222,
             "#7201a8"
            ],
            [
             0.3333333333333333,
             "#9c179e"
            ],
            [
             0.4444444444444444,
             "#bd3786"
            ],
            [
             0.5555555555555556,
             "#d8576b"
            ],
            [
             0.6666666666666666,
             "#ed7953"
            ],
            [
             0.7777777777777778,
             "#fb9f3a"
            ],
            [
             0.8888888888888888,
             "#fdca26"
            ],
            [
             1,
             "#f0f921"
            ]
           ],
           "sequentialminus": [
            [
             0,
             "#0d0887"
            ],
            [
             0.1111111111111111,
             "#46039f"
            ],
            [
             0.2222222222222222,
             "#7201a8"
            ],
            [
             0.3333333333333333,
             "#9c179e"
            ],
            [
             0.4444444444444444,
             "#bd3786"
            ],
            [
             0.5555555555555556,
             "#d8576b"
            ],
            [
             0.6666666666666666,
             "#ed7953"
            ],
            [
             0.7777777777777778,
             "#fb9f3a"
            ],
            [
             0.8888888888888888,
             "#fdca26"
            ],
            [
             1,
             "#f0f921"
            ]
           ]
          },
          "colorway": [
           "#636efa",
           "#EF553B",
           "#00cc96",
           "#ab63fa",
           "#FFA15A",
           "#19d3f3",
           "#FF6692",
           "#B6E880",
           "#FF97FF",
           "#FECB52"
          ],
          "font": {
           "color": "#f2f5fa"
          },
          "geo": {
           "bgcolor": "rgb(17,17,17)",
           "lakecolor": "rgb(17,17,17)",
           "landcolor": "rgb(17,17,17)",
           "showlakes": true,
           "showland": true,
           "subunitcolor": "#506784"
          },
          "hoverlabel": {
           "align": "left"
          },
          "hovermode": "closest",
          "mapbox": {
           "style": "dark"
          },
          "paper_bgcolor": "rgb(17,17,17)",
          "plot_bgcolor": "rgb(17,17,17)",
          "polar": {
           "angularaxis": {
            "gridcolor": "#506784",
            "linecolor": "#506784",
            "ticks": ""
           },
           "bgcolor": "rgb(17,17,17)",
           "radialaxis": {
            "gridcolor": "#506784",
            "linecolor": "#506784",
            "ticks": ""
           }
          },
          "scene": {
           "xaxis": {
            "backgroundcolor": "rgb(17,17,17)",
            "gridcolor": "#506784",
            "gridwidth": 2,
            "linecolor": "#506784",
            "showbackground": true,
            "ticks": "",
            "zerolinecolor": "#C8D4E3"
           },
           "yaxis": {
            "backgroundcolor": "rgb(17,17,17)",
            "gridcolor": "#506784",
            "gridwidth": 2,
            "linecolor": "#506784",
            "showbackground": true,
            "ticks": "",
            "zerolinecolor": "#C8D4E3"
           },
           "zaxis": {
            "backgroundcolor": "rgb(17,17,17)",
            "gridcolor": "#506784",
            "gridwidth": 2,
            "linecolor": "#506784",
            "showbackground": true,
            "ticks": "",
            "zerolinecolor": "#C8D4E3"
           }
          },
          "shapedefaults": {
           "line": {
            "color": "#f2f5fa"
           }
          },
          "sliderdefaults": {
           "bgcolor": "#C8D4E3",
           "bordercolor": "rgb(17,17,17)",
           "borderwidth": 1,
           "tickwidth": 0
          },
          "ternary": {
           "aaxis": {
            "gridcolor": "#506784",
            "linecolor": "#506784",
            "ticks": ""
           },
           "baxis": {
            "gridcolor": "#506784",
            "linecolor": "#506784",
            "ticks": ""
           },
           "bgcolor": "rgb(17,17,17)",
           "caxis": {
            "gridcolor": "#506784",
            "linecolor": "#506784",
            "ticks": ""
           }
          },
          "title": {
           "x": 0.05
          },
          "updatemenudefaults": {
           "bgcolor": "#506784",
           "borderwidth": 0
          },
          "xaxis": {
           "automargin": true,
           "gridcolor": "#283442",
           "linecolor": "#506784",
           "ticks": "",
           "title": {
            "standoff": 15
           },
           "zerolinecolor": "#283442",
           "zerolinewidth": 2
          },
          "yaxis": {
           "automargin": true,
           "gridcolor": "#283442",
           "linecolor": "#506784",
           "ticks": "",
           "title": {
            "standoff": 15
           },
           "zerolinecolor": "#283442",
           "zerolinewidth": 2
          }
         }
        },
        "title": {
         "text": "Curva de Volumen Mediano por Intervalos de 5 Minutos"
        },
        "xaxis": {
         "tickangle": 45,
         "ticktext": [
          "09:00",
          "09:50",
          "10:40",
          "11:30",
          "12:20",
          "13:10",
          "14:00",
          "14:50",
          "15:40",
          "16:30",
          "17:20"
         ],
         "tickvals": [
          0,
          10,
          20,
          30,
          40,
          50,
          60,
          70,
          80,
          90,
          100
         ],
         "title": {
          "text": "Hora de Inicio del Intervalo de 5 Minutos"
         }
        },
        "yaxis": {
         "title": {
          "text": "Volumen Mediano"
         }
        }
       }
      }
     },
     "metadata": {},
     "output_type": "display_data"
    }
   ],
   "source": [
    "# Realizar la predicción estática del volumen\n",
    "algo.static_volume_prediction()\n"
   ]
  },
  {
   "cell_type": "markdown",
   "id": "4df23e33",
   "metadata": {
    "id": "4df23e33"
   },
   "source": [
    "<span style=\"color:#1E90FF; font-weight:bold\">Get the total volume of this curve, and generate a normalized volume curve by dividing each median volume per interval by the total volume. The resulting normalized curve has to sum to 1. This is a baseline static volume predictor. Plot the static curve. You should see the characteristic \"U\" shape of market volumes intraday, where most of the the trading happens at the beginning and the end of the trading session. Or more accurately, a \"J\" shape, with more trading activity at the end of the trading session."
   ]
  },
  {
   "cell_type": "code",
   "execution_count": 84,
   "id": "9d9ac85e",
   "metadata": {
    "id": "9d9ac85e"
   },
   "outputs": [
    {
     "data": {
      "application/vnd.plotly.v1+json": {
       "config": {
        "plotlyServerURL": "https://plot.ly"
       },
       "data": [
        {
         "line": {
          "color": "green",
          "width": 2
         },
         "mode": "lines",
         "type": "scatter",
         "x": [
          "09:00",
          "09:05",
          "09:10",
          "09:15",
          "09:20",
          "09:25",
          "09:30",
          "09:35",
          "09:40",
          "09:45",
          "09:50",
          "09:55",
          "10:00",
          "10:05",
          "10:10",
          "10:15",
          "10:20",
          "10:25",
          "10:30",
          "10:35",
          "10:40",
          "10:45",
          "10:50",
          "10:55",
          "11:00",
          "11:05",
          "11:10",
          "11:15",
          "11:20",
          "11:25",
          "11:30",
          "11:35",
          "11:40",
          "11:45",
          "11:50",
          "11:55",
          "12:00",
          "12:05",
          "12:10",
          "12:15",
          "12:20",
          "12:25",
          "12:30",
          "12:35",
          "12:40",
          "12:45",
          "12:50",
          "12:55",
          "13:00",
          "13:05",
          "13:10",
          "13:15",
          "13:20",
          "13:25",
          "13:30",
          "13:35",
          "13:40",
          "13:45",
          "13:50",
          "13:55",
          "14:00",
          "14:05",
          "14:10",
          "14:15",
          "14:20",
          "14:25",
          "14:30",
          "14:35",
          "14:40",
          "14:45",
          "14:50",
          "14:55",
          "15:00",
          "15:05",
          "15:10",
          "15:15",
          "15:20",
          "15:25",
          "15:30",
          "15:35",
          "15:40",
          "15:45",
          "15:50",
          "15:55",
          "16:00",
          "16:05",
          "16:10",
          "16:15",
          "16:20",
          "16:25",
          "16:30",
          "16:35",
          "16:40",
          "16:45",
          "16:50",
          "16:55",
          "17:00",
          "17:05",
          "17:10",
          "17:15",
          "17:20",
          "17:25"
         ],
         "y": [
          0.016732517229695137,
          0.01973036279209202,
          0.01636517559035918,
          0.016011556483527156,
          0.015122230819330193,
          0.013821229180015349,
          0.014404964601144037,
          0.013163075409538427,
          0.01129417204044558,
          0.011823017331558553,
          0.011743848874805113,
          0.011215531373403831,
          0.013879286048301203,
          0.012272166376206395,
          0.01120497557917004,
          0.010344678349116005,
          0.010270787789479463,
          0.009223653001487312,
          0.009890779197062955,
          0.009766220825104211,
          0.00859241650630656,
          0.00946010279232425,
          0.009100150208951947,
          0.008957646986795758,
          0.009874945505712268,
          0.009473825324828178,
          0.008958702566219136,
          0.008545971011677875,
          0.008662084748249586,
          0.008334855127002038,
          0.008282603945544769,
          0.00830741006199418,
          0.008169129157531506,
          0.007902067563416573,
          0.008959230355930825,
          0.008275214889581115,
          0.008123739242326202,
          0.007356333001529535,
          0.007191134821770692,
          0.006708207235574716,
          0.006311837162095832,
          0.006318170638636107,
          0.006430062057514301,
          0.006278586410259387,
          0.006072220632988757,
          0.005953995737570289,
          0.005957690265552116,
          0.006312364951807522,
          0.005687461933167044,
          0.007072382136640534,
          0.00566793371383453,
          0.005844743267250543,
          0.005857410220331093,
          0.005435178450979419,
          0.005641016438538361,
          0.005980913012866458,
          0.005782991870982861,
          0.005909661401788363,
          0.005627293906034431,
          0.005895938869284433,
          0.006335587699121864,
          0.006067470525583551,
          0.006154028038300644,
          0.006473868603584536,
          0.006244807868711254,
          0.006446423538576678,
          0.009167707292048214,
          0.008118461345209306,
          0.007657173137192602,
          0.007935846104964707,
          0.00795801327285567,
          0.0074682244204077285,
          0.00859083313717149,
          0.00831849364593966,
          0.0075933105820781615,
          0.007972791384782978,
          0.0074196677669322855,
          0.008054598790094864,
          0.013939981865145506,
          0.01301793323882379,
          0.011955492549192641,
          0.012399363696723587,
          0.01233022324449225,
          0.011228726116196071,
          0.014701054629401899,
          0.012747704906438718,
          0.012103801458177415,
          0.011792405528280555,
          0.011550677840326724,
          0.011483120757230455,
          0.012210414979938713,
          0.011189141887819352,
          0.011472037173284974,
          0.011581817433316408,
          0.012375085369985866,
          0.012378252108256004,
          0.01409092972268873,
          0.013570529066962793,
          0.014416048185089519,
          0.01761075930994662,
          0.016896132040318913,
          0.02142720671517406
         ]
        }
       ],
       "layout": {
        "template": {
         "data": {
          "bar": [
           {
            "error_x": {
             "color": "#f2f5fa"
            },
            "error_y": {
             "color": "#f2f5fa"
            },
            "marker": {
             "line": {
              "color": "rgb(17,17,17)",
              "width": 0.5
             },
             "pattern": {
              "fillmode": "overlay",
              "size": 10,
              "solidity": 0.2
             }
            },
            "type": "bar"
           }
          ],
          "barpolar": [
           {
            "marker": {
             "line": {
              "color": "rgb(17,17,17)",
              "width": 0.5
             },
             "pattern": {
              "fillmode": "overlay",
              "size": 10,
              "solidity": 0.2
             }
            },
            "type": "barpolar"
           }
          ],
          "carpet": [
           {
            "aaxis": {
             "endlinecolor": "#A2B1C6",
             "gridcolor": "#506784",
             "linecolor": "#506784",
             "minorgridcolor": "#506784",
             "startlinecolor": "#A2B1C6"
            },
            "baxis": {
             "endlinecolor": "#A2B1C6",
             "gridcolor": "#506784",
             "linecolor": "#506784",
             "minorgridcolor": "#506784",
             "startlinecolor": "#A2B1C6"
            },
            "type": "carpet"
           }
          ],
          "choropleth": [
           {
            "colorbar": {
             "outlinewidth": 0,
             "ticks": ""
            },
            "type": "choropleth"
           }
          ],
          "contour": [
           {
            "colorbar": {
             "outlinewidth": 0,
             "ticks": ""
            },
            "colorscale": [
             [
              0,
              "#0d0887"
             ],
             [
              0.1111111111111111,
              "#46039f"
             ],
             [
              0.2222222222222222,
              "#7201a8"
             ],
             [
              0.3333333333333333,
              "#9c179e"
             ],
             [
              0.4444444444444444,
              "#bd3786"
             ],
             [
              0.5555555555555556,
              "#d8576b"
             ],
             [
              0.6666666666666666,
              "#ed7953"
             ],
             [
              0.7777777777777778,
              "#fb9f3a"
             ],
             [
              0.8888888888888888,
              "#fdca26"
             ],
             [
              1,
              "#f0f921"
             ]
            ],
            "type": "contour"
           }
          ],
          "contourcarpet": [
           {
            "colorbar": {
             "outlinewidth": 0,
             "ticks": ""
            },
            "type": "contourcarpet"
           }
          ],
          "heatmap": [
           {
            "colorbar": {
             "outlinewidth": 0,
             "ticks": ""
            },
            "colorscale": [
             [
              0,
              "#0d0887"
             ],
             [
              0.1111111111111111,
              "#46039f"
             ],
             [
              0.2222222222222222,
              "#7201a8"
             ],
             [
              0.3333333333333333,
              "#9c179e"
             ],
             [
              0.4444444444444444,
              "#bd3786"
             ],
             [
              0.5555555555555556,
              "#d8576b"
             ],
             [
              0.6666666666666666,
              "#ed7953"
             ],
             [
              0.7777777777777778,
              "#fb9f3a"
             ],
             [
              0.8888888888888888,
              "#fdca26"
             ],
             [
              1,
              "#f0f921"
             ]
            ],
            "type": "heatmap"
           }
          ],
          "heatmapgl": [
           {
            "colorbar": {
             "outlinewidth": 0,
             "ticks": ""
            },
            "colorscale": [
             [
              0,
              "#0d0887"
             ],
             [
              0.1111111111111111,
              "#46039f"
             ],
             [
              0.2222222222222222,
              "#7201a8"
             ],
             [
              0.3333333333333333,
              "#9c179e"
             ],
             [
              0.4444444444444444,
              "#bd3786"
             ],
             [
              0.5555555555555556,
              "#d8576b"
             ],
             [
              0.6666666666666666,
              "#ed7953"
             ],
             [
              0.7777777777777778,
              "#fb9f3a"
             ],
             [
              0.8888888888888888,
              "#fdca26"
             ],
             [
              1,
              "#f0f921"
             ]
            ],
            "type": "heatmapgl"
           }
          ],
          "histogram": [
           {
            "marker": {
             "pattern": {
              "fillmode": "overlay",
              "size": 10,
              "solidity": 0.2
             }
            },
            "type": "histogram"
           }
          ],
          "histogram2d": [
           {
            "colorbar": {
             "outlinewidth": 0,
             "ticks": ""
            },
            "colorscale": [
             [
              0,
              "#0d0887"
             ],
             [
              0.1111111111111111,
              "#46039f"
             ],
             [
              0.2222222222222222,
              "#7201a8"
             ],
             [
              0.3333333333333333,
              "#9c179e"
             ],
             [
              0.4444444444444444,
              "#bd3786"
             ],
             [
              0.5555555555555556,
              "#d8576b"
             ],
             [
              0.6666666666666666,
              "#ed7953"
             ],
             [
              0.7777777777777778,
              "#fb9f3a"
             ],
             [
              0.8888888888888888,
              "#fdca26"
             ],
             [
              1,
              "#f0f921"
             ]
            ],
            "type": "histogram2d"
           }
          ],
          "histogram2dcontour": [
           {
            "colorbar": {
             "outlinewidth": 0,
             "ticks": ""
            },
            "colorscale": [
             [
              0,
              "#0d0887"
             ],
             [
              0.1111111111111111,
              "#46039f"
             ],
             [
              0.2222222222222222,
              "#7201a8"
             ],
             [
              0.3333333333333333,
              "#9c179e"
             ],
             [
              0.4444444444444444,
              "#bd3786"
             ],
             [
              0.5555555555555556,
              "#d8576b"
             ],
             [
              0.6666666666666666,
              "#ed7953"
             ],
             [
              0.7777777777777778,
              "#fb9f3a"
             ],
             [
              0.8888888888888888,
              "#fdca26"
             ],
             [
              1,
              "#f0f921"
             ]
            ],
            "type": "histogram2dcontour"
           }
          ],
          "mesh3d": [
           {
            "colorbar": {
             "outlinewidth": 0,
             "ticks": ""
            },
            "type": "mesh3d"
           }
          ],
          "parcoords": [
           {
            "line": {
             "colorbar": {
              "outlinewidth": 0,
              "ticks": ""
             }
            },
            "type": "parcoords"
           }
          ],
          "pie": [
           {
            "automargin": true,
            "type": "pie"
           }
          ],
          "scatter": [
           {
            "marker": {
             "line": {
              "color": "#283442"
             }
            },
            "type": "scatter"
           }
          ],
          "scatter3d": [
           {
            "line": {
             "colorbar": {
              "outlinewidth": 0,
              "ticks": ""
             }
            },
            "marker": {
             "colorbar": {
              "outlinewidth": 0,
              "ticks": ""
             }
            },
            "type": "scatter3d"
           }
          ],
          "scattercarpet": [
           {
            "marker": {
             "colorbar": {
              "outlinewidth": 0,
              "ticks": ""
             }
            },
            "type": "scattercarpet"
           }
          ],
          "scattergeo": [
           {
            "marker": {
             "colorbar": {
              "outlinewidth": 0,
              "ticks": ""
             }
            },
            "type": "scattergeo"
           }
          ],
          "scattergl": [
           {
            "marker": {
             "line": {
              "color": "#283442"
             }
            },
            "type": "scattergl"
           }
          ],
          "scattermapbox": [
           {
            "marker": {
             "colorbar": {
              "outlinewidth": 0,
              "ticks": ""
             }
            },
            "type": "scattermapbox"
           }
          ],
          "scatterpolar": [
           {
            "marker": {
             "colorbar": {
              "outlinewidth": 0,
              "ticks": ""
             }
            },
            "type": "scatterpolar"
           }
          ],
          "scatterpolargl": [
           {
            "marker": {
             "colorbar": {
              "outlinewidth": 0,
              "ticks": ""
             }
            },
            "type": "scatterpolargl"
           }
          ],
          "scatterternary": [
           {
            "marker": {
             "colorbar": {
              "outlinewidth": 0,
              "ticks": ""
             }
            },
            "type": "scatterternary"
           }
          ],
          "surface": [
           {
            "colorbar": {
             "outlinewidth": 0,
             "ticks": ""
            },
            "colorscale": [
             [
              0,
              "#0d0887"
             ],
             [
              0.1111111111111111,
              "#46039f"
             ],
             [
              0.2222222222222222,
              "#7201a8"
             ],
             [
              0.3333333333333333,
              "#9c179e"
             ],
             [
              0.4444444444444444,
              "#bd3786"
             ],
             [
              0.5555555555555556,
              "#d8576b"
             ],
             [
              0.6666666666666666,
              "#ed7953"
             ],
             [
              0.7777777777777778,
              "#fb9f3a"
             ],
             [
              0.8888888888888888,
              "#fdca26"
             ],
             [
              1,
              "#f0f921"
             ]
            ],
            "type": "surface"
           }
          ],
          "table": [
           {
            "cells": {
             "fill": {
              "color": "#506784"
             },
             "line": {
              "color": "rgb(17,17,17)"
             }
            },
            "header": {
             "fill": {
              "color": "#2a3f5f"
             },
             "line": {
              "color": "rgb(17,17,17)"
             }
            },
            "type": "table"
           }
          ]
         },
         "layout": {
          "annotationdefaults": {
           "arrowcolor": "#f2f5fa",
           "arrowhead": 0,
           "arrowwidth": 1
          },
          "autotypenumbers": "strict",
          "coloraxis": {
           "colorbar": {
            "outlinewidth": 0,
            "ticks": ""
           }
          },
          "colorscale": {
           "diverging": [
            [
             0,
             "#8e0152"
            ],
            [
             0.1,
             "#c51b7d"
            ],
            [
             0.2,
             "#de77ae"
            ],
            [
             0.3,
             "#f1b6da"
            ],
            [
             0.4,
             "#fde0ef"
            ],
            [
             0.5,
             "#f7f7f7"
            ],
            [
             0.6,
             "#e6f5d0"
            ],
            [
             0.7,
             "#b8e186"
            ],
            [
             0.8,
             "#7fbc41"
            ],
            [
             0.9,
             "#4d9221"
            ],
            [
             1,
             "#276419"
            ]
           ],
           "sequential": [
            [
             0,
             "#0d0887"
            ],
            [
             0.1111111111111111,
             "#46039f"
            ],
            [
             0.2222222222222222,
             "#7201a8"
            ],
            [
             0.3333333333333333,
             "#9c179e"
            ],
            [
             0.4444444444444444,
             "#bd3786"
            ],
            [
             0.5555555555555556,
             "#d8576b"
            ],
            [
             0.6666666666666666,
             "#ed7953"
            ],
            [
             0.7777777777777778,
             "#fb9f3a"
            ],
            [
             0.8888888888888888,
             "#fdca26"
            ],
            [
             1,
             "#f0f921"
            ]
           ],
           "sequentialminus": [
            [
             0,
             "#0d0887"
            ],
            [
             0.1111111111111111,
             "#46039f"
            ],
            [
             0.2222222222222222,
             "#7201a8"
            ],
            [
             0.3333333333333333,
             "#9c179e"
            ],
            [
             0.4444444444444444,
             "#bd3786"
            ],
            [
             0.5555555555555556,
             "#d8576b"
            ],
            [
             0.6666666666666666,
             "#ed7953"
            ],
            [
             0.7777777777777778,
             "#fb9f3a"
            ],
            [
             0.8888888888888888,
             "#fdca26"
            ],
            [
             1,
             "#f0f921"
            ]
           ]
          },
          "colorway": [
           "#636efa",
           "#EF553B",
           "#00cc96",
           "#ab63fa",
           "#FFA15A",
           "#19d3f3",
           "#FF6692",
           "#B6E880",
           "#FF97FF",
           "#FECB52"
          ],
          "font": {
           "color": "#f2f5fa"
          },
          "geo": {
           "bgcolor": "rgb(17,17,17)",
           "lakecolor": "rgb(17,17,17)",
           "landcolor": "rgb(17,17,17)",
           "showlakes": true,
           "showland": true,
           "subunitcolor": "#506784"
          },
          "hoverlabel": {
           "align": "left"
          },
          "hovermode": "closest",
          "mapbox": {
           "style": "dark"
          },
          "paper_bgcolor": "rgb(17,17,17)",
          "plot_bgcolor": "rgb(17,17,17)",
          "polar": {
           "angularaxis": {
            "gridcolor": "#506784",
            "linecolor": "#506784",
            "ticks": ""
           },
           "bgcolor": "rgb(17,17,17)",
           "radialaxis": {
            "gridcolor": "#506784",
            "linecolor": "#506784",
            "ticks": ""
           }
          },
          "scene": {
           "xaxis": {
            "backgroundcolor": "rgb(17,17,17)",
            "gridcolor": "#506784",
            "gridwidth": 2,
            "linecolor": "#506784",
            "showbackground": true,
            "ticks": "",
            "zerolinecolor": "#C8D4E3"
           },
           "yaxis": {
            "backgroundcolor": "rgb(17,17,17)",
            "gridcolor": "#506784",
            "gridwidth": 2,
            "linecolor": "#506784",
            "showbackground": true,
            "ticks": "",
            "zerolinecolor": "#C8D4E3"
           },
           "zaxis": {
            "backgroundcolor": "rgb(17,17,17)",
            "gridcolor": "#506784",
            "gridwidth": 2,
            "linecolor": "#506784",
            "showbackground": true,
            "ticks": "",
            "zerolinecolor": "#C8D4E3"
           }
          },
          "shapedefaults": {
           "line": {
            "color": "#f2f5fa"
           }
          },
          "sliderdefaults": {
           "bgcolor": "#C8D4E3",
           "bordercolor": "rgb(17,17,17)",
           "borderwidth": 1,
           "tickwidth": 0
          },
          "ternary": {
           "aaxis": {
            "gridcolor": "#506784",
            "linecolor": "#506784",
            "ticks": ""
           },
           "baxis": {
            "gridcolor": "#506784",
            "linecolor": "#506784",
            "ticks": ""
           },
           "bgcolor": "rgb(17,17,17)",
           "caxis": {
            "gridcolor": "#506784",
            "linecolor": "#506784",
            "ticks": ""
           }
          },
          "title": {
           "x": 0.05
          },
          "updatemenudefaults": {
           "bgcolor": "#506784",
           "borderwidth": 0
          },
          "xaxis": {
           "automargin": true,
           "gridcolor": "#283442",
           "linecolor": "#506784",
           "ticks": "",
           "title": {
            "standoff": 15
           },
           "zerolinecolor": "#283442",
           "zerolinewidth": 2
          },
          "yaxis": {
           "automargin": true,
           "gridcolor": "#283442",
           "linecolor": "#506784",
           "ticks": "",
           "title": {
            "standoff": 15
           },
           "zerolinecolor": "#283442",
           "zerolinewidth": 2
          }
         }
        },
        "title": {
         "text": "Curva de Volumen Normalizado por Intervalos de 5 Minutos"
        },
        "xaxis": {
         "tickangle": 45,
         "ticktext": [
          "09:00",
          "09:50",
          "10:40",
          "11:30",
          "12:20",
          "13:10",
          "14:00",
          "14:50",
          "15:40",
          "16:30",
          "17:20"
         ],
         "tickvals": [
          0,
          10,
          20,
          30,
          40,
          50,
          60,
          70,
          80,
          90,
          100
         ],
         "title": {
          "text": "Hora de Inicio del Intervalo de 5 Minutos"
         }
        },
        "yaxis": {
         "title": {
          "text": "Volumen Normalizado"
         }
        }
       }
      }
     },
     "metadata": {},
     "output_type": "display_data"
    }
   ],
   "source": [
    "# Realizar la predicción de volumen normalizado\n",
    "algo.normalized_volume_curve()"
   ]
  },
  {
   "cell_type": "markdown",
   "id": "ff912f15",
   "metadata": {
    "id": "ff912f15"
   },
   "source": [
    "<span style=\"color:#1E90FF; font-weight:bold\">Repeat the same analysis but discriminating across days of the week so you get five different static volume curves, one per day of the week. You can also optionally consider other special days where you have detected particular volume profiles. Plot the static curves for each day of the week (and special days)."
   ]
  },
  {
   "cell_type": "code",
   "execution_count": 85,
   "id": "93203f81",
   "metadata": {
    "id": "93203f81"
   },
   "outputs": [
    {
     "data": {
      "application/vnd.plotly.v1+json": {
       "config": {
        "plotlyServerURL": "https://plot.ly"
       },
       "data": [
        {
         "line": {
          "width": 2
         },
         "mode": "lines",
         "name": "Volumen Mediano - Monday",
         "type": "scatter",
         "x": [
          "09:00",
          "09:05",
          "09:10",
          "09:15",
          "09:20",
          "09:25",
          "09:30",
          "09:35",
          "09:40",
          "09:45",
          "09:50",
          "09:55",
          "10:00",
          "10:05",
          "10:10",
          "10:15",
          "10:20",
          "10:25",
          "10:30",
          "10:35",
          "10:40",
          "10:45",
          "10:50",
          "10:55",
          "11:00",
          "11:05",
          "11:10",
          "11:15",
          "11:20",
          "11:25",
          "11:30",
          "11:35",
          "11:40",
          "11:45",
          "11:50",
          "11:55",
          "12:00",
          "12:05",
          "12:10",
          "12:15",
          "12:20",
          "12:25",
          "12:30",
          "12:35",
          "12:40",
          "12:45",
          "12:50",
          "12:55",
          "13:00",
          "13:05",
          "13:10",
          "13:15",
          "13:20",
          "13:25",
          "13:30",
          "13:35",
          "13:40",
          "13:45",
          "13:50",
          "13:55",
          "14:00",
          "14:05",
          "14:10",
          "14:15",
          "14:20",
          "14:25",
          "14:30",
          "14:35",
          "14:40",
          "14:45",
          "14:50",
          "14:55",
          "15:00",
          "15:05",
          "15:10",
          "15:15",
          "15:20",
          "15:25",
          "15:30",
          "15:35",
          "15:40",
          "15:45",
          "15:50",
          "15:55",
          "16:00",
          "16:05",
          "16:10",
          "16:15",
          "16:20",
          "16:25",
          "16:30",
          "16:35",
          "16:40",
          "16:45",
          "16:50",
          "16:55",
          "17:00",
          "17:05",
          "17:10",
          "17:15",
          "17:20",
          "17:25"
         ],
         "y": [
          17282,
          20172.5,
          15826,
          15178,
          15209.5,
          13409,
          13690,
          13919,
          10236.5,
          11344.5,
          11047,
          10346.5,
          13447,
          11215,
          11745,
          9805,
          9548,
          8309.5,
          9548.5,
          9735,
          8232,
          9940.5,
          8964.5,
          8589,
          8938.5,
          7886,
          8482,
          7736.5,
          8157.5,
          7511.5,
          8606,
          8269,
          6620.5,
          7859.5,
          7495,
          7257,
          6872.5,
          7333.5,
          6925.5,
          6373,
          5675.5,
          5809.5,
          6007,
          7128,
          6111.5,
          5261,
          5397,
          5675.5,
          4759.5,
          5686,
          5359.5,
          5293,
          5876,
          4734,
          4706.5,
          5021.5,
          4922.5,
          5157.5,
          5024,
          5178,
          5492.5,
          5249,
          4589,
          6169.5,
          5401.5,
          5849.5,
          6607.5,
          5489.5,
          5755.5,
          6293,
          5697.5,
          6411.5,
          6727.5,
          6700.5,
          5886,
          6623.5,
          6132,
          5904,
          11175,
          11301,
          9412.5,
          10365,
          11028.5,
          9222.5,
          11804.5,
          10876,
          10293.5,
          10863.5,
          10601,
          9985.5,
          9757,
          9134,
          9343,
          9903,
          11334.5,
          10413,
          12347,
          12040,
          12181.5,
          14974.5,
          14900,
          19580.5
         ]
        },
        {
         "line": {
          "width": 2
         },
         "mode": "lines",
         "name": "Volumen Mediano - Tuesday",
         "type": "scatter",
         "x": [
          "09:00",
          "09:05",
          "09:10",
          "09:15",
          "09:20",
          "09:25",
          "09:30",
          "09:35",
          "09:40",
          "09:45",
          "09:50",
          "09:55",
          "10:00",
          "10:05",
          "10:10",
          "10:15",
          "10:20",
          "10:25",
          "10:30",
          "10:35",
          "10:40",
          "10:45",
          "10:50",
          "10:55",
          "11:00",
          "11:05",
          "11:10",
          "11:15",
          "11:20",
          "11:25",
          "11:30",
          "11:35",
          "11:40",
          "11:45",
          "11:50",
          "11:55",
          "12:00",
          "12:05",
          "12:10",
          "12:15",
          "12:20",
          "12:25",
          "12:30",
          "12:35",
          "12:40",
          "12:45",
          "12:50",
          "12:55",
          "13:00",
          "13:05",
          "13:10",
          "13:15",
          "13:20",
          "13:25",
          "13:30",
          "13:35",
          "13:40",
          "13:45",
          "13:50",
          "13:55",
          "14:00",
          "14:05",
          "14:10",
          "14:15",
          "14:20",
          "14:25",
          "14:30",
          "14:35",
          "14:40",
          "14:45",
          "14:50",
          "14:55",
          "15:00",
          "15:05",
          "15:10",
          "15:15",
          "15:20",
          "15:25",
          "15:30",
          "15:35",
          "15:40",
          "15:45",
          "15:50",
          "15:55",
          "16:00",
          "16:05",
          "16:10",
          "16:15",
          "16:20",
          "16:25",
          "16:30",
          "16:35",
          "16:40",
          "16:45",
          "16:50",
          "16:55",
          "17:00",
          "17:05",
          "17:10",
          "17:15",
          "17:20",
          "17:25"
         ],
         "y": [
          15023.5,
          18736.5,
          15742.5,
          15204,
          14296,
          13999,
          14052.5,
          13478.5,
          11606,
          11274,
          11711,
          11684,
          12815.5,
          11536.5,
          11648,
          9762,
          10051.5,
          8478,
          9263.5,
          9026.5,
          7810.5,
          8002.5,
          8184,
          7885,
          10180.5,
          9571,
          8228,
          7783.5,
          8438.5,
          8183,
          6892,
          7918,
          8094,
          6891.5,
          5882,
          7209,
          7454,
          6893,
          6316,
          6717,
          5781.5,
          6391,
          6453,
          5388,
          5178.5,
          5651.5,
          5726.5,
          5377.5,
          5250,
          6298,
          4853,
          4946.5,
          5488,
          5394.5,
          5072.5,
          5629.5,
          5147,
          6237,
          5240.5,
          5953.5,
          5822.5,
          5199.5,
          5896,
          6422.5,
          5811.5,
          5742,
          7869,
          7277.5,
          6865.5,
          6807.5,
          7052,
          6651,
          8057,
          7787.5,
          7107,
          8051,
          7396.5,
          7838.5,
          14104.5,
          11887.5,
          11830.5,
          11449,
          11690.5,
          11896.5,
          14785,
          10803,
          11344,
          11479,
          10909,
          10878.5,
          11211.5,
          10809.5,
          10753,
          10331,
          11641.5,
          12708.5,
          13128,
          12906.5,
          12674.5,
          17236.5,
          14746,
          19061.5
         ]
        },
        {
         "line": {
          "width": 2
         },
         "mode": "lines",
         "name": "Volumen Mediano - Wednesday",
         "type": "scatter",
         "x": [
          "09:00",
          "09:05",
          "09:10",
          "09:15",
          "09:20",
          "09:25",
          "09:30",
          "09:35",
          "09:40",
          "09:45",
          "09:50",
          "09:55",
          "10:00",
          "10:05",
          "10:10",
          "10:15",
          "10:20",
          "10:25",
          "10:30",
          "10:35",
          "10:40",
          "10:45",
          "10:50",
          "10:55",
          "11:00",
          "11:05",
          "11:10",
          "11:15",
          "11:20",
          "11:25",
          "11:30",
          "11:35",
          "11:40",
          "11:45",
          "11:50",
          "11:55",
          "12:00",
          "12:05",
          "12:10",
          "12:15",
          "12:20",
          "12:25",
          "12:30",
          "12:35",
          "12:40",
          "12:45",
          "12:50",
          "12:55",
          "13:00",
          "13:05",
          "13:10",
          "13:15",
          "13:20",
          "13:25",
          "13:30",
          "13:35",
          "13:40",
          "13:45",
          "13:50",
          "13:55",
          "14:00",
          "14:05",
          "14:10",
          "14:15",
          "14:20",
          "14:25",
          "14:30",
          "14:35",
          "14:40",
          "14:45",
          "14:50",
          "14:55",
          "15:00",
          "15:05",
          "15:10",
          "15:15",
          "15:20",
          "15:25",
          "15:30",
          "15:35",
          "15:40",
          "15:45",
          "15:50",
          "15:55",
          "16:00",
          "16:05",
          "16:10",
          "16:15",
          "16:20",
          "16:25",
          "16:30",
          "16:35",
          "16:40",
          "16:45",
          "16:50",
          "16:55",
          "17:00",
          "17:05",
          "17:10",
          "17:15",
          "17:20",
          "17:25"
         ],
         "y": [
          16110,
          19519,
          15509,
          15152.5,
          14011,
          13034.5,
          13892.5,
          10784,
          11069,
          12709,
          10420,
          10070.5,
          13001,
          11318.5,
          10119,
          9428.5,
          9029,
          8394.5,
          9341.5,
          9359,
          8505.5,
          8721.5,
          9256,
          8169.5,
          9676,
          8673,
          8743,
          7855.5,
          8225,
          8032.5,
          8344,
          7315.5,
          7557,
          6826,
          7188.5,
          6553,
          7889.5,
          6602,
          6764,
          5809,
          5726.5,
          5217,
          5738.5,
          5490,
          5561,
          4819.5,
          4725.5,
          6084.5,
          5176,
          6177,
          4471,
          5060,
          5268.5,
          4844,
          5266,
          5671.5,
          5666.5,
          5009,
          5344.5,
          4757.5,
          5972,
          5176,
          5488,
          6012,
          6151,
          5767,
          8112,
          7300,
          7315,
          6343,
          7120,
          5882,
          7455,
          7374.5,
          6829.5,
          7236,
          6411.5,
          7525,
          12650.5,
          12218.5,
          10954,
          11670.5,
          11717.5,
          10853.5,
          14054.5,
          10905.5,
          12158.5,
          10453.5,
          10217,
          10740,
          12853.5,
          12097,
          10319,
          10924.5,
          11390.5,
          10964.5,
          12338,
          12679,
          12466.5,
          15784.5,
          16019,
          20410
         ]
        },
        {
         "line": {
          "width": 2
         },
         "mode": "lines",
         "name": "Volumen Mediano - Thursday",
         "type": "scatter",
         "x": [
          "09:00",
          "09:05",
          "09:10",
          "09:15",
          "09:20",
          "09:25",
          "09:30",
          "09:35",
          "09:40",
          "09:45",
          "09:50",
          "09:55",
          "10:00",
          "10:05",
          "10:10",
          "10:15",
          "10:20",
          "10:25",
          "10:30",
          "10:35",
          "10:40",
          "10:45",
          "10:50",
          "10:55",
          "11:00",
          "11:05",
          "11:10",
          "11:15",
          "11:20",
          "11:25",
          "11:30",
          "11:35",
          "11:40",
          "11:45",
          "11:50",
          "11:55",
          "12:00",
          "12:05",
          "12:10",
          "12:15",
          "12:20",
          "12:25",
          "12:30",
          "12:35",
          "12:40",
          "12:45",
          "12:50",
          "12:55",
          "13:00",
          "13:05",
          "13:10",
          "13:15",
          "13:20",
          "13:25",
          "13:30",
          "13:35",
          "13:40",
          "13:45",
          "13:50",
          "13:55",
          "14:00",
          "14:05",
          "14:10",
          "14:15",
          "14:20",
          "14:25",
          "14:30",
          "14:35",
          "14:40",
          "14:45",
          "14:50",
          "14:55",
          "15:00",
          "15:05",
          "15:10",
          "15:15",
          "15:20",
          "15:25",
          "15:30",
          "15:35",
          "15:40",
          "15:45",
          "15:50",
          "15:55",
          "16:00",
          "16:05",
          "16:10",
          "16:15",
          "16:20",
          "16:25",
          "16:30",
          "16:35",
          "16:40",
          "16:45",
          "16:50",
          "16:55",
          "17:00",
          "17:05",
          "17:10",
          "17:15",
          "17:20",
          "17:25"
         ],
         "y": [
          16000,
          18493,
          14985,
          14107,
          13768,
          12935,
          11781,
          10449,
          9991,
          10144,
          11276,
          10609,
          14080,
          12072,
          10273,
          10573,
          10066,
          9532,
          10123,
          8954,
          8294,
          8767,
          9170,
          9441,
          8360,
          9520,
          8461,
          8064,
          8460,
          7385,
          8355,
          8558,
          8184,
          7486,
          7561,
          6531,
          7592,
          7280,
          6866,
          6987,
          6217,
          5794,
          5660,
          6287,
          6098,
          6492,
          6208,
          5822,
          5722,
          6566,
          6117,
          5976,
          5740,
          5498,
          6769,
          6062,
          6312,
          5713,
          5811,
          5849,
          6554,
          6398,
          6037,
          6030,
          5751,
          6477,
          11650,
          8970,
          8253,
          9613,
          10261,
          7725,
          9341,
          9692,
          8450,
          9230,
          8230,
          8411,
          13668,
          14387,
          11966,
          12764,
          12483,
          11359,
          15949,
          13956,
          12827,
          12527,
          11548,
          12436,
          12048,
          10219,
          12474,
          13369,
          11850,
          12101,
          14902,
          14011,
          14999,
          18160,
          17574,
          20618
         ]
        },
        {
         "line": {
          "width": 2
         },
         "mode": "lines",
         "name": "Volumen Mediano - Friday",
         "type": "scatter",
         "x": [
          "09:00",
          "09:05",
          "09:10",
          "09:15",
          "09:20",
          "09:25",
          "09:30",
          "09:35",
          "09:40",
          "09:45",
          "09:50",
          "09:55",
          "10:00",
          "10:05",
          "10:10",
          "10:15",
          "10:20",
          "10:25",
          "10:30",
          "10:35",
          "10:40",
          "10:45",
          "10:50",
          "10:55",
          "11:00",
          "11:05",
          "11:10",
          "11:15",
          "11:20",
          "11:25",
          "11:30",
          "11:35",
          "11:40",
          "11:45",
          "11:50",
          "11:55",
          "12:00",
          "12:05",
          "12:10",
          "12:15",
          "12:20",
          "12:25",
          "12:30",
          "12:35",
          "12:40",
          "12:45",
          "12:50",
          "12:55",
          "13:00",
          "13:05",
          "13:10",
          "13:15",
          "13:20",
          "13:25",
          "13:30",
          "13:35",
          "13:40",
          "13:45",
          "13:50",
          "13:55",
          "14:00",
          "14:05",
          "14:10",
          "14:15",
          "14:20",
          "14:25",
          "14:30",
          "14:35",
          "14:40",
          "14:45",
          "14:50",
          "14:55",
          "15:00",
          "15:05",
          "15:10",
          "15:15",
          "15:20",
          "15:25",
          "15:30",
          "15:35",
          "15:40",
          "15:45",
          "15:50",
          "15:55",
          "16:00",
          "16:05",
          "16:10",
          "16:15",
          "16:20",
          "16:25",
          "16:30",
          "16:35",
          "16:40",
          "16:45",
          "16:50",
          "16:55",
          "17:00",
          "17:05",
          "17:10",
          "17:15",
          "17:20",
          "17:25"
         ],
         "y": [
          14377,
          17204,
          15406,
          16671,
          14688,
          12430,
          14416,
          12099,
          10416,
          10597,
          11023,
          10041,
          12623,
          12014,
          9335,
          9504.5,
          10599,
          8823,
          8800.5,
          8316,
          7716,
          9226.5,
          7590,
          8508.5,
          9424.5,
          9155.5,
          8526,
          9107,
          7972,
          8190,
          7198,
          7908,
          7829,
          8538,
          19100,
          18689,
          9516,
          7552,
          6909,
          6439,
          6593,
          6713,
          7337,
          5955,
          6669,
          6487,
          6526,
          6661,
          6418,
          9243,
          6057,
          6261,
          5714,
          5126,
          5593,
          6451,
          5371,
          5786,
          5234,
          6662,
          6971,
          5897,
          6009,
          5713,
          6051,
          6812,
          12799,
          10093,
          8703,
          9158,
          10190,
          9473,
          9432,
          9288,
          7744,
          8927,
          8196,
          8108,
          14302,
          12707,
          12199,
          12557,
          11743,
          10622,
          13836,
          14022,
          11659,
          11010,
          11625,
          11621,
          11552,
          11326,
          10634,
          11220,
          12415,
          11735,
          14110,
          12839,
          15764,
          17511,
          17084,
          21655
         ]
        }
       ],
       "layout": {
        "showlegend": true,
        "template": {
         "data": {
          "bar": [
           {
            "error_x": {
             "color": "#f2f5fa"
            },
            "error_y": {
             "color": "#f2f5fa"
            },
            "marker": {
             "line": {
              "color": "rgb(17,17,17)",
              "width": 0.5
             },
             "pattern": {
              "fillmode": "overlay",
              "size": 10,
              "solidity": 0.2
             }
            },
            "type": "bar"
           }
          ],
          "barpolar": [
           {
            "marker": {
             "line": {
              "color": "rgb(17,17,17)",
              "width": 0.5
             },
             "pattern": {
              "fillmode": "overlay",
              "size": 10,
              "solidity": 0.2
             }
            },
            "type": "barpolar"
           }
          ],
          "carpet": [
           {
            "aaxis": {
             "endlinecolor": "#A2B1C6",
             "gridcolor": "#506784",
             "linecolor": "#506784",
             "minorgridcolor": "#506784",
             "startlinecolor": "#A2B1C6"
            },
            "baxis": {
             "endlinecolor": "#A2B1C6",
             "gridcolor": "#506784",
             "linecolor": "#506784",
             "minorgridcolor": "#506784",
             "startlinecolor": "#A2B1C6"
            },
            "type": "carpet"
           }
          ],
          "choropleth": [
           {
            "colorbar": {
             "outlinewidth": 0,
             "ticks": ""
            },
            "type": "choropleth"
           }
          ],
          "contour": [
           {
            "colorbar": {
             "outlinewidth": 0,
             "ticks": ""
            },
            "colorscale": [
             [
              0,
              "#0d0887"
             ],
             [
              0.1111111111111111,
              "#46039f"
             ],
             [
              0.2222222222222222,
              "#7201a8"
             ],
             [
              0.3333333333333333,
              "#9c179e"
             ],
             [
              0.4444444444444444,
              "#bd3786"
             ],
             [
              0.5555555555555556,
              "#d8576b"
             ],
             [
              0.6666666666666666,
              "#ed7953"
             ],
             [
              0.7777777777777778,
              "#fb9f3a"
             ],
             [
              0.8888888888888888,
              "#fdca26"
             ],
             [
              1,
              "#f0f921"
             ]
            ],
            "type": "contour"
           }
          ],
          "contourcarpet": [
           {
            "colorbar": {
             "outlinewidth": 0,
             "ticks": ""
            },
            "type": "contourcarpet"
           }
          ],
          "heatmap": [
           {
            "colorbar": {
             "outlinewidth": 0,
             "ticks": ""
            },
            "colorscale": [
             [
              0,
              "#0d0887"
             ],
             [
              0.1111111111111111,
              "#46039f"
             ],
             [
              0.2222222222222222,
              "#7201a8"
             ],
             [
              0.3333333333333333,
              "#9c179e"
             ],
             [
              0.4444444444444444,
              "#bd3786"
             ],
             [
              0.5555555555555556,
              "#d8576b"
             ],
             [
              0.6666666666666666,
              "#ed7953"
             ],
             [
              0.7777777777777778,
              "#fb9f3a"
             ],
             [
              0.8888888888888888,
              "#fdca26"
             ],
             [
              1,
              "#f0f921"
             ]
            ],
            "type": "heatmap"
           }
          ],
          "heatmapgl": [
           {
            "colorbar": {
             "outlinewidth": 0,
             "ticks": ""
            },
            "colorscale": [
             [
              0,
              "#0d0887"
             ],
             [
              0.1111111111111111,
              "#46039f"
             ],
             [
              0.2222222222222222,
              "#7201a8"
             ],
             [
              0.3333333333333333,
              "#9c179e"
             ],
             [
              0.4444444444444444,
              "#bd3786"
             ],
             [
              0.5555555555555556,
              "#d8576b"
             ],
             [
              0.6666666666666666,
              "#ed7953"
             ],
             [
              0.7777777777777778,
              "#fb9f3a"
             ],
             [
              0.8888888888888888,
              "#fdca26"
             ],
             [
              1,
              "#f0f921"
             ]
            ],
            "type": "heatmapgl"
           }
          ],
          "histogram": [
           {
            "marker": {
             "pattern": {
              "fillmode": "overlay",
              "size": 10,
              "solidity": 0.2
             }
            },
            "type": "histogram"
           }
          ],
          "histogram2d": [
           {
            "colorbar": {
             "outlinewidth": 0,
             "ticks": ""
            },
            "colorscale": [
             [
              0,
              "#0d0887"
             ],
             [
              0.1111111111111111,
              "#46039f"
             ],
             [
              0.2222222222222222,
              "#7201a8"
             ],
             [
              0.3333333333333333,
              "#9c179e"
             ],
             [
              0.4444444444444444,
              "#bd3786"
             ],
             [
              0.5555555555555556,
              "#d8576b"
             ],
             [
              0.6666666666666666,
              "#ed7953"
             ],
             [
              0.7777777777777778,
              "#fb9f3a"
             ],
             [
              0.8888888888888888,
              "#fdca26"
             ],
             [
              1,
              "#f0f921"
             ]
            ],
            "type": "histogram2d"
           }
          ],
          "histogram2dcontour": [
           {
            "colorbar": {
             "outlinewidth": 0,
             "ticks": ""
            },
            "colorscale": [
             [
              0,
              "#0d0887"
             ],
             [
              0.1111111111111111,
              "#46039f"
             ],
             [
              0.2222222222222222,
              "#7201a8"
             ],
             [
              0.3333333333333333,
              "#9c179e"
             ],
             [
              0.4444444444444444,
              "#bd3786"
             ],
             [
              0.5555555555555556,
              "#d8576b"
             ],
             [
              0.6666666666666666,
              "#ed7953"
             ],
             [
              0.7777777777777778,
              "#fb9f3a"
             ],
             [
              0.8888888888888888,
              "#fdca26"
             ],
             [
              1,
              "#f0f921"
             ]
            ],
            "type": "histogram2dcontour"
           }
          ],
          "mesh3d": [
           {
            "colorbar": {
             "outlinewidth": 0,
             "ticks": ""
            },
            "type": "mesh3d"
           }
          ],
          "parcoords": [
           {
            "line": {
             "colorbar": {
              "outlinewidth": 0,
              "ticks": ""
             }
            },
            "type": "parcoords"
           }
          ],
          "pie": [
           {
            "automargin": true,
            "type": "pie"
           }
          ],
          "scatter": [
           {
            "marker": {
             "line": {
              "color": "#283442"
             }
            },
            "type": "scatter"
           }
          ],
          "scatter3d": [
           {
            "line": {
             "colorbar": {
              "outlinewidth": 0,
              "ticks": ""
             }
            },
            "marker": {
             "colorbar": {
              "outlinewidth": 0,
              "ticks": ""
             }
            },
            "type": "scatter3d"
           }
          ],
          "scattercarpet": [
           {
            "marker": {
             "colorbar": {
              "outlinewidth": 0,
              "ticks": ""
             }
            },
            "type": "scattercarpet"
           }
          ],
          "scattergeo": [
           {
            "marker": {
             "colorbar": {
              "outlinewidth": 0,
              "ticks": ""
             }
            },
            "type": "scattergeo"
           }
          ],
          "scattergl": [
           {
            "marker": {
             "line": {
              "color": "#283442"
             }
            },
            "type": "scattergl"
           }
          ],
          "scattermapbox": [
           {
            "marker": {
             "colorbar": {
              "outlinewidth": 0,
              "ticks": ""
             }
            },
            "type": "scattermapbox"
           }
          ],
          "scatterpolar": [
           {
            "marker": {
             "colorbar": {
              "outlinewidth": 0,
              "ticks": ""
             }
            },
            "type": "scatterpolar"
           }
          ],
          "scatterpolargl": [
           {
            "marker": {
             "colorbar": {
              "outlinewidth": 0,
              "ticks": ""
             }
            },
            "type": "scatterpolargl"
           }
          ],
          "scatterternary": [
           {
            "marker": {
             "colorbar": {
              "outlinewidth": 0,
              "ticks": ""
             }
            },
            "type": "scatterternary"
           }
          ],
          "surface": [
           {
            "colorbar": {
             "outlinewidth": 0,
             "ticks": ""
            },
            "colorscale": [
             [
              0,
              "#0d0887"
             ],
             [
              0.1111111111111111,
              "#46039f"
             ],
             [
              0.2222222222222222,
              "#7201a8"
             ],
             [
              0.3333333333333333,
              "#9c179e"
             ],
             [
              0.4444444444444444,
              "#bd3786"
             ],
             [
              0.5555555555555556,
              "#d8576b"
             ],
             [
              0.6666666666666666,
              "#ed7953"
             ],
             [
              0.7777777777777778,
              "#fb9f3a"
             ],
             [
              0.8888888888888888,
              "#fdca26"
             ],
             [
              1,
              "#f0f921"
             ]
            ],
            "type": "surface"
           }
          ],
          "table": [
           {
            "cells": {
             "fill": {
              "color": "#506784"
             },
             "line": {
              "color": "rgb(17,17,17)"
             }
            },
            "header": {
             "fill": {
              "color": "#2a3f5f"
             },
             "line": {
              "color": "rgb(17,17,17)"
             }
            },
            "type": "table"
           }
          ]
         },
         "layout": {
          "annotationdefaults": {
           "arrowcolor": "#f2f5fa",
           "arrowhead": 0,
           "arrowwidth": 1
          },
          "autotypenumbers": "strict",
          "coloraxis": {
           "colorbar": {
            "outlinewidth": 0,
            "ticks": ""
           }
          },
          "colorscale": {
           "diverging": [
            [
             0,
             "#8e0152"
            ],
            [
             0.1,
             "#c51b7d"
            ],
            [
             0.2,
             "#de77ae"
            ],
            [
             0.3,
             "#f1b6da"
            ],
            [
             0.4,
             "#fde0ef"
            ],
            [
             0.5,
             "#f7f7f7"
            ],
            [
             0.6,
             "#e6f5d0"
            ],
            [
             0.7,
             "#b8e186"
            ],
            [
             0.8,
             "#7fbc41"
            ],
            [
             0.9,
             "#4d9221"
            ],
            [
             1,
             "#276419"
            ]
           ],
           "sequential": [
            [
             0,
             "#0d0887"
            ],
            [
             0.1111111111111111,
             "#46039f"
            ],
            [
             0.2222222222222222,
             "#7201a8"
            ],
            [
             0.3333333333333333,
             "#9c179e"
            ],
            [
             0.4444444444444444,
             "#bd3786"
            ],
            [
             0.5555555555555556,
             "#d8576b"
            ],
            [
             0.6666666666666666,
             "#ed7953"
            ],
            [
             0.7777777777777778,
             "#fb9f3a"
            ],
            [
             0.8888888888888888,
             "#fdca26"
            ],
            [
             1,
             "#f0f921"
            ]
           ],
           "sequentialminus": [
            [
             0,
             "#0d0887"
            ],
            [
             0.1111111111111111,
             "#46039f"
            ],
            [
             0.2222222222222222,
             "#7201a8"
            ],
            [
             0.3333333333333333,
             "#9c179e"
            ],
            [
             0.4444444444444444,
             "#bd3786"
            ],
            [
             0.5555555555555556,
             "#d8576b"
            ],
            [
             0.6666666666666666,
             "#ed7953"
            ],
            [
             0.7777777777777778,
             "#fb9f3a"
            ],
            [
             0.8888888888888888,
             "#fdca26"
            ],
            [
             1,
             "#f0f921"
            ]
           ]
          },
          "colorway": [
           "#636efa",
           "#EF553B",
           "#00cc96",
           "#ab63fa",
           "#FFA15A",
           "#19d3f3",
           "#FF6692",
           "#B6E880",
           "#FF97FF",
           "#FECB52"
          ],
          "font": {
           "color": "#f2f5fa"
          },
          "geo": {
           "bgcolor": "rgb(17,17,17)",
           "lakecolor": "rgb(17,17,17)",
           "landcolor": "rgb(17,17,17)",
           "showlakes": true,
           "showland": true,
           "subunitcolor": "#506784"
          },
          "hoverlabel": {
           "align": "left"
          },
          "hovermode": "closest",
          "mapbox": {
           "style": "dark"
          },
          "paper_bgcolor": "rgb(17,17,17)",
          "plot_bgcolor": "rgb(17,17,17)",
          "polar": {
           "angularaxis": {
            "gridcolor": "#506784",
            "linecolor": "#506784",
            "ticks": ""
           },
           "bgcolor": "rgb(17,17,17)",
           "radialaxis": {
            "gridcolor": "#506784",
            "linecolor": "#506784",
            "ticks": ""
           }
          },
          "scene": {
           "xaxis": {
            "backgroundcolor": "rgb(17,17,17)",
            "gridcolor": "#506784",
            "gridwidth": 2,
            "linecolor": "#506784",
            "showbackground": true,
            "ticks": "",
            "zerolinecolor": "#C8D4E3"
           },
           "yaxis": {
            "backgroundcolor": "rgb(17,17,17)",
            "gridcolor": "#506784",
            "gridwidth": 2,
            "linecolor": "#506784",
            "showbackground": true,
            "ticks": "",
            "zerolinecolor": "#C8D4E3"
           },
           "zaxis": {
            "backgroundcolor": "rgb(17,17,17)",
            "gridcolor": "#506784",
            "gridwidth": 2,
            "linecolor": "#506784",
            "showbackground": true,
            "ticks": "",
            "zerolinecolor": "#C8D4E3"
           }
          },
          "shapedefaults": {
           "line": {
            "color": "#f2f5fa"
           }
          },
          "sliderdefaults": {
           "bgcolor": "#C8D4E3",
           "bordercolor": "rgb(17,17,17)",
           "borderwidth": 1,
           "tickwidth": 0
          },
          "ternary": {
           "aaxis": {
            "gridcolor": "#506784",
            "linecolor": "#506784",
            "ticks": ""
           },
           "baxis": {
            "gridcolor": "#506784",
            "linecolor": "#506784",
            "ticks": ""
           },
           "bgcolor": "rgb(17,17,17)",
           "caxis": {
            "gridcolor": "#506784",
            "linecolor": "#506784",
            "ticks": ""
           }
          },
          "title": {
           "x": 0.05
          },
          "updatemenudefaults": {
           "bgcolor": "#506784",
           "borderwidth": 0
          },
          "xaxis": {
           "automargin": true,
           "gridcolor": "#283442",
           "linecolor": "#506784",
           "ticks": "",
           "title": {
            "standoff": 15
           },
           "zerolinecolor": "#283442",
           "zerolinewidth": 2
          },
          "yaxis": {
           "automargin": true,
           "gridcolor": "#283442",
           "linecolor": "#506784",
           "ticks": "",
           "title": {
            "standoff": 15
           },
           "zerolinecolor": "#283442",
           "zerolinewidth": 2
          }
         }
        },
        "title": {
         "text": "Curvas de Volumen Mediano por Día de la Semana"
        },
        "xaxis": {
         "tickangle": 45,
         "tickvals": [
          0,
          20,
          40,
          60,
          80,
          100
         ],
         "title": {
          "text": "Hora de Inicio del Intervalo de 5 Minutos"
         }
        },
        "yaxis": {
         "title": {
          "text": "Volumen Mediano"
         }
        }
       }
      }
     },
     "metadata": {},
     "output_type": "display_data"
    }
   ],
   "source": [
    "# Realizar la predicción de volumen estático discriminando por días de la semana\n",
    "algo.static_volume_by_weekday()"
   ]
  },
  {
   "cell_type": "markdown",
   "id": "e39b280c",
   "metadata": {
    "id": "e39b280c"
   },
   "source": [
    "<span style=\"color:#1E90FF; font-weight:bold\">Evaluate the quality of this baseline static volume predictor in the test set. For that, you need to normalize to one each of the daily volume profiles of the test set, and then compare the prediction for each 5 minute interval with the actual value. Use RMSE as the quality metric."
   ]
  },
  {
   "cell_type": "code",
   "execution_count": 12,
   "id": "7799fe6b",
   "metadata": {},
   "outputs": [
    {
     "name": "stdout",
     "output_type": "stream",
     "text": [
      "RMSE Promedio del Predictor de Volumen Estático en el Conjunto de Prueba: 0.0066\n"
     ]
    }
   ],
   "source": [
    "# Evaluar la calidad del predictor de volumen estático en el conjunto de prueba\n",
    "algo.evaluate_static_volume_predictor()"
   ]
  },
  {
   "cell_type": "markdown",
   "id": "262843b1",
   "metadata": {
    "id": "262843b1"
   },
   "source": [
    "<span style=\"color:#1E90FF; font-weight:bold\">This error as it is does not tell us much. We need to compare with some benchmark to make sense of it. Use as a benchmark a uniform prediction, i.e., the same percentage for each bin"
   ]
  },
  {
   "cell_type": "code",
   "execution_count": 13,
   "id": "db14ebe0",
   "metadata": {},
   "outputs": [
    {
     "name": "stdout",
     "output_type": "stream",
     "text": [
      "RMSE Promedio del Predictor Uniforme en el Conjunto de Prueba: 0.0076\n"
     ]
    }
   ],
   "source": [
    "# Evaluar la calidad del predictor de volumen uniforme en el conjunto de prueba\n",
    "algo.evaluate_uniform_volume_predictor()"
   ]
  },
  {
   "cell_type": "markdown",
   "id": "fbe2505f",
   "metadata": {
    "id": "fbe2505f"
   },
   "source": [
    "<span style=\"color:#1E90FF; font-weight:bold\">Improve your prediction: instead of using a static separation train - test, using a moving average to compute the static curves. You can play with the length N of the window (before it was 3 years, maybe shorter works better?). In this case, for each day of the test set, 1) generate the static prediction using the N previous days, 2) compare this prediction with the actual normalized volume per bin that day and compute the mean square error of the prediction, 3) repeat for every day of the test set, 4) the final RMSE is the square root of the sum of mean square errors per day in the test set. Does the RMSE improve? To simplify the code, wrap it in the following class structure. You will also use it for the trading algorithm later"
   ]
  },
  {
   "cell_type": "markdown",
   "id": "9eed52c7",
   "metadata": {
    "id": "9eed52c7"
   },
   "source": [
    "<span style=\"color:#1E90FF; font-weight:bold\">To instantiate your predictor and train it, use the following code. Assuming historical_df is the dataframe for training:"
   ]
  },
  {
   "cell_type": "code",
   "execution_count": 86,
   "id": "02f911d2",
   "metadata": {},
   "outputs": [
    {
     "name": "stdout",
     "output_type": "stream",
     "text": [
      "RMSE del predictor de volumen estático: 0.007438875108908694\n"
     ]
    },
    {
     "data": {
      "application/vnd.plotly.v1+json": {
       "config": {
        "plotlyServerURL": "https://plot.ly"
       },
       "data": [
        {
         "line": {
          "color": "blue",
          "width": 2
         },
         "mode": "lines",
         "name": "Volumen Real Normalizado",
         "type": "scatter",
         "x": [
          32400000000000,
          32700000000000,
          33000000000000,
          33300000000000,
          33600000000000,
          33900000000000,
          34200000000000,
          34500000000000,
          34800000000000,
          35100000000000,
          35400000000000,
          35700000000000,
          36000000000000,
          36300000000000,
          36600000000000,
          36900000000000,
          37200000000000,
          37500000000000,
          37800000000000,
          38100000000000,
          38400000000000,
          38700000000000,
          39000000000000,
          39300000000000,
          39600000000000,
          39900000000000,
          40200000000000,
          40500000000000,
          40800000000000,
          41100000000000,
          41400000000000,
          41700000000000,
          42000000000000,
          42300000000000,
          42600000000000,
          42900000000000,
          43200000000000,
          43500000000000,
          43800000000000,
          44100000000000,
          44400000000000,
          44700000000000,
          45000000000000,
          45300000000000,
          45600000000000,
          45900000000000,
          46200000000000,
          46500000000000,
          46800000000000,
          47100000000000,
          47400000000000,
          47700000000000,
          48000000000000,
          48300000000000,
          48600000000000,
          48900000000000,
          49200000000000,
          49500000000000,
          49800000000000,
          50100000000000,
          50400000000000,
          50700000000000,
          51000000000000,
          51300000000000,
          51600000000000,
          51900000000000,
          52200000000000,
          52500000000000,
          52800000000000,
          53100000000000,
          53400000000000,
          53700000000000,
          54000000000000,
          54300000000000,
          54600000000000,
          54900000000000,
          55200000000000,
          55500000000000,
          55800000000000,
          56100000000000,
          56400000000000,
          56700000000000,
          57000000000000,
          57300000000000,
          57600000000000,
          57900000000000,
          58200000000000,
          58500000000000,
          58800000000000,
          59100000000000,
          59400000000000,
          59700000000000,
          60000000000000,
          60300000000000,
          60600000000000,
          60900000000000,
          61200000000000,
          61500000000000,
          61800000000000,
          62100000000000,
          62400000000000,
          62700000000000
         ],
         "y": [
          0.018978070237151617,
          0.014008032731269337,
          0.01673459624503426,
          0.01478660419334212,
          0.014617757370241999,
          0.011120439376955223,
          0.030189186611697644,
          0.007892025583420493,
          0.011136073342057086,
          0.04889209906305647,
          0.016487579596424825,
          0.03674294478239866,
          0.04325136445430427,
          0.018901463808152486,
          0.012463396979205264,
          0.033895999737349386,
          0.01350305565847916,
          0.014975775171074663,
          0.013145037857646494,
          0.013639071154865368,
          0.013540577174723631,
          0.014436403375060386,
          0.010946902364324542,
          0.0048152612513738344,
          0.014253485983368588,
          0.009611761744625434,
          0.010351248293943559,
          0.006575645721843619,
          0.005437493062427986,
          0.018582530920074482,
          0.00885507783369526,
          0.008392312466680112,
          0.005168588862675941,
          0.013571845104927358,
          0.015246242767336896,
          0.006911775971533677,
          0.002950129214721567,
          0.003167441329637464,
          0.002649957084765795,
          0.002421701194278594,
          0.005839285965545868,
          0.0010271515071924057,
          0.006830479353003988,
          0.0023325875931979744,
          0.0028234940973964756,
          0.0039679003428528545,
          0.005587579127405872,
          0.0028782129752529966,
          0.003797490123242547,
          0.0006237952075643377,
          0.0029126076984770954,
          0.018682588296726404,
          0.004021055824199189,
          0.00594403353172835,
          0.007452711164058139,
          0.0008301635469089306,
          0.006078485631604373,
          0.0015759036822678004,
          0.01997708060716067,
          0.0010334050932331508,
          0.017522548086168162,
          0.026402640264026403,
          0.0036130093350405625,
          0.001760384470469785,
          0.004662048393375576,
          0.003936632412649128,
          0.006747619337964114,
          0.003411331185226528,
          0.0019526822412227012,
          0.002315390231585925,
          0.0031862020877596996,
          0.0031111590552707568,
          0.0030783277285568443,
          0.0036442772652442884,
          0.0044681872261124736,
          0.01041847434388157,
          0.018276105204077964,
          0.016787751726380598,
          0.013349842800480901,
          0.004441609485439307,
          0.011192355616423793,
          0.005226434533552834,
          0.008506440411923713,
          0.006814845387902125,
          0.0031611877435967187,
          0.008379805294598622,
          0.005729848209832826,
          0.0019792599818958686,
          0.008891035953429544,
          0.0034066409956959695,
          0.002002710929548663,
          0.004196156233340056,
          0.00831726943419117,
          0.004391580797113345,
          0.0033409783422681445,
          0.0030548767809040495,
          0.003930378826608383,
          0.0036083191455100034,
          0.0066788298915159165,
          0.02162802732191741,
          0.014975775171074663,
          0.020038053071057934
         ]
        },
        {
         "line": {
          "color": "red",
          "dash": "dash",
          "width": 2
         },
         "mode": "lines",
         "name": "Volumen Predicho Normalizado",
         "type": "scatter",
         "x": [
          32400000000000,
          32700000000000,
          33000000000000,
          33300000000000,
          33600000000000,
          33900000000000,
          34200000000000,
          34500000000000,
          34800000000000,
          35100000000000,
          35400000000000,
          35700000000000,
          36000000000000,
          36300000000000,
          36600000000000,
          36900000000000,
          37200000000000,
          37500000000000,
          37800000000000,
          38100000000000,
          38400000000000,
          38700000000000,
          39000000000000,
          39300000000000,
          39600000000000,
          39900000000000,
          40200000000000,
          40500000000000,
          40800000000000,
          41100000000000,
          41400000000000,
          41700000000000,
          42000000000000,
          42300000000000,
          42600000000000,
          42900000000000,
          43200000000000,
          43500000000000,
          43800000000000,
          44100000000000,
          44400000000000,
          44700000000000,
          45000000000000,
          45300000000000,
          45600000000000,
          45900000000000,
          46200000000000,
          46500000000000,
          46800000000000,
          47100000000000,
          47400000000000,
          47700000000000,
          48000000000000,
          48300000000000,
          48600000000000,
          48900000000000,
          49200000000000,
          49500000000000,
          49800000000000,
          50100000000000,
          50400000000000,
          50700000000000,
          51000000000000,
          51300000000000,
          51600000000000,
          51900000000000,
          52200000000000,
          52500000000000,
          52800000000000,
          53100000000000,
          53400000000000,
          53700000000000,
          54000000000000,
          54300000000000,
          54600000000000,
          54900000000000,
          55200000000000,
          55500000000000,
          55800000000000,
          56100000000000,
          56400000000000,
          56700000000000,
          57000000000000,
          57300000000000,
          57600000000000,
          57900000000000,
          58200000000000,
          58500000000000,
          58800000000000,
          59100000000000,
          59400000000000,
          59700000000000,
          60000000000000,
          60300000000000,
          60600000000000,
          60900000000000,
          61200000000000,
          61500000000000,
          61800000000000,
          62100000000000,
          62400000000000,
          62700000000000
         ],
         "y": [
          0.014196575536207973,
          0.015111246814936549,
          0.015658453041556306,
          0.01610804050164622,
          0.016296565737559467,
          0.016386289459218113,
          0.016454477716515703,
          0.016179493064317,
          0.01577661499885524,
          0.015154689057343471,
          0.014343262605067937,
          0.013444548744869366,
          0.013038002539228028,
          0.012556406819583237,
          0.012125831699775502,
          0.011810467636213415,
          0.011421096935656537,
          0.011082441189701201,
          0.010897985594901662,
          0.010650833985766923,
          0.010398891065057377,
          0.010189779728354676,
          0.009802395564642826,
          0.009536901480495808,
          0.009430420599867408,
          0.009304411471061608,
          0.009152840218172711,
          0.009087063354684895,
          0.008972328879581583,
          0.008859903669381218,
          0.008809452887055475,
          0.00871145779414943,
          0.008635055858046262,
          0.008556884739868884,
          0.008961785243826782,
          0.009333170993886666,
          0.009263888888164663,
          0.009146600548536962,
          0.009006511849964335,
          0.008891290251435008,
          0.008776844607219569,
          0.008584806496101686,
          0.008434979459721522,
          0.008290054283942316,
          0.007546791337855737,
          0.006875822662709004,
          0.006702284758326428,
          0.006601438695448002,
          0.0063823906235681875,
          0.006572672884061069,
          0.006512635776202374,
          0.006470530681853279,
          0.006399138273552266,
          0.006293870808123525,
          0.00625486121187515,
          0.006225598310498582,
          0.006206035911818583,
          0.006250151669065079,
          0.006237531274053702,
          0.006070692203108513,
          0.006117571659582241,
          0.006126089015639827,
          0.006122510512792361,
          0.0062207858530091975,
          0.00627223073634933,
          0.0062960882187788865,
          0.00677546714729658,
          0.007015659901625371,
          0.007259767866947014,
          0.00751139410890636,
          0.007728327954747281,
          0.0079166166333056,
          0.00817310669555635,
          0.008355507096710433,
          0.008534707334801127,
          0.008741235608377182,
          0.008439042864753764,
          0.008348667532516129,
          0.008758333860088193,
          0.00911366979845876,
          0.00937632658692856,
          0.00973806515713755,
          0.010063809757007025,
          0.010313588816576996,
          0.010870089613860328,
          0.011241883886614809,
          0.011616110273415844,
          0.011918506166704163,
          0.011742161387786599,
          0.011631787959715744,
          0.0115946224408223,
          0.011513257582635389,
          0.011426730565472668,
          0.01146300278579909,
          0.011226810214417886,
          0.011213445074546613,
          0.011373125981356877,
          0.011514307010819213,
          0.011748857092043902,
          0.012183973782357482,
          0.012620837708013527,
          0.013348429061466684
         ]
        }
       ],
       "layout": {
        "showlegend": true,
        "template": {
         "data": {
          "bar": [
           {
            "error_x": {
             "color": "#f2f5fa"
            },
            "error_y": {
             "color": "#f2f5fa"
            },
            "marker": {
             "line": {
              "color": "rgb(17,17,17)",
              "width": 0.5
             },
             "pattern": {
              "fillmode": "overlay",
              "size": 10,
              "solidity": 0.2
             }
            },
            "type": "bar"
           }
          ],
          "barpolar": [
           {
            "marker": {
             "line": {
              "color": "rgb(17,17,17)",
              "width": 0.5
             },
             "pattern": {
              "fillmode": "overlay",
              "size": 10,
              "solidity": 0.2
             }
            },
            "type": "barpolar"
           }
          ],
          "carpet": [
           {
            "aaxis": {
             "endlinecolor": "#A2B1C6",
             "gridcolor": "#506784",
             "linecolor": "#506784",
             "minorgridcolor": "#506784",
             "startlinecolor": "#A2B1C6"
            },
            "baxis": {
             "endlinecolor": "#A2B1C6",
             "gridcolor": "#506784",
             "linecolor": "#506784",
             "minorgridcolor": "#506784",
             "startlinecolor": "#A2B1C6"
            },
            "type": "carpet"
           }
          ],
          "choropleth": [
           {
            "colorbar": {
             "outlinewidth": 0,
             "ticks": ""
            },
            "type": "choropleth"
           }
          ],
          "contour": [
           {
            "colorbar": {
             "outlinewidth": 0,
             "ticks": ""
            },
            "colorscale": [
             [
              0,
              "#0d0887"
             ],
             [
              0.1111111111111111,
              "#46039f"
             ],
             [
              0.2222222222222222,
              "#7201a8"
             ],
             [
              0.3333333333333333,
              "#9c179e"
             ],
             [
              0.4444444444444444,
              "#bd3786"
             ],
             [
              0.5555555555555556,
              "#d8576b"
             ],
             [
              0.6666666666666666,
              "#ed7953"
             ],
             [
              0.7777777777777778,
              "#fb9f3a"
             ],
             [
              0.8888888888888888,
              "#fdca26"
             ],
             [
              1,
              "#f0f921"
             ]
            ],
            "type": "contour"
           }
          ],
          "contourcarpet": [
           {
            "colorbar": {
             "outlinewidth": 0,
             "ticks": ""
            },
            "type": "contourcarpet"
           }
          ],
          "heatmap": [
           {
            "colorbar": {
             "outlinewidth": 0,
             "ticks": ""
            },
            "colorscale": [
             [
              0,
              "#0d0887"
             ],
             [
              0.1111111111111111,
              "#46039f"
             ],
             [
              0.2222222222222222,
              "#7201a8"
             ],
             [
              0.3333333333333333,
              "#9c179e"
             ],
             [
              0.4444444444444444,
              "#bd3786"
             ],
             [
              0.5555555555555556,
              "#d8576b"
             ],
             [
              0.6666666666666666,
              "#ed7953"
             ],
             [
              0.7777777777777778,
              "#fb9f3a"
             ],
             [
              0.8888888888888888,
              "#fdca26"
             ],
             [
              1,
              "#f0f921"
             ]
            ],
            "type": "heatmap"
           }
          ],
          "heatmapgl": [
           {
            "colorbar": {
             "outlinewidth": 0,
             "ticks": ""
            },
            "colorscale": [
             [
              0,
              "#0d0887"
             ],
             [
              0.1111111111111111,
              "#46039f"
             ],
             [
              0.2222222222222222,
              "#7201a8"
             ],
             [
              0.3333333333333333,
              "#9c179e"
             ],
             [
              0.4444444444444444,
              "#bd3786"
             ],
             [
              0.5555555555555556,
              "#d8576b"
             ],
             [
              0.6666666666666666,
              "#ed7953"
             ],
             [
              0.7777777777777778,
              "#fb9f3a"
             ],
             [
              0.8888888888888888,
              "#fdca26"
             ],
             [
              1,
              "#f0f921"
             ]
            ],
            "type": "heatmapgl"
           }
          ],
          "histogram": [
           {
            "marker": {
             "pattern": {
              "fillmode": "overlay",
              "size": 10,
              "solidity": 0.2
             }
            },
            "type": "histogram"
           }
          ],
          "histogram2d": [
           {
            "colorbar": {
             "outlinewidth": 0,
             "ticks": ""
            },
            "colorscale": [
             [
              0,
              "#0d0887"
             ],
             [
              0.1111111111111111,
              "#46039f"
             ],
             [
              0.2222222222222222,
              "#7201a8"
             ],
             [
              0.3333333333333333,
              "#9c179e"
             ],
             [
              0.4444444444444444,
              "#bd3786"
             ],
             [
              0.5555555555555556,
              "#d8576b"
             ],
             [
              0.6666666666666666,
              "#ed7953"
             ],
             [
              0.7777777777777778,
              "#fb9f3a"
             ],
             [
              0.8888888888888888,
              "#fdca26"
             ],
             [
              1,
              "#f0f921"
             ]
            ],
            "type": "histogram2d"
           }
          ],
          "histogram2dcontour": [
           {
            "colorbar": {
             "outlinewidth": 0,
             "ticks": ""
            },
            "colorscale": [
             [
              0,
              "#0d0887"
             ],
             [
              0.1111111111111111,
              "#46039f"
             ],
             [
              0.2222222222222222,
              "#7201a8"
             ],
             [
              0.3333333333333333,
              "#9c179e"
             ],
             [
              0.4444444444444444,
              "#bd3786"
             ],
             [
              0.5555555555555556,
              "#d8576b"
             ],
             [
              0.6666666666666666,
              "#ed7953"
             ],
             [
              0.7777777777777778,
              "#fb9f3a"
             ],
             [
              0.8888888888888888,
              "#fdca26"
             ],
             [
              1,
              "#f0f921"
             ]
            ],
            "type": "histogram2dcontour"
           }
          ],
          "mesh3d": [
           {
            "colorbar": {
             "outlinewidth": 0,
             "ticks": ""
            },
            "type": "mesh3d"
           }
          ],
          "parcoords": [
           {
            "line": {
             "colorbar": {
              "outlinewidth": 0,
              "ticks": ""
             }
            },
            "type": "parcoords"
           }
          ],
          "pie": [
           {
            "automargin": true,
            "type": "pie"
           }
          ],
          "scatter": [
           {
            "marker": {
             "line": {
              "color": "#283442"
             }
            },
            "type": "scatter"
           }
          ],
          "scatter3d": [
           {
            "line": {
             "colorbar": {
              "outlinewidth": 0,
              "ticks": ""
             }
            },
            "marker": {
             "colorbar": {
              "outlinewidth": 0,
              "ticks": ""
             }
            },
            "type": "scatter3d"
           }
          ],
          "scattercarpet": [
           {
            "marker": {
             "colorbar": {
              "outlinewidth": 0,
              "ticks": ""
             }
            },
            "type": "scattercarpet"
           }
          ],
          "scattergeo": [
           {
            "marker": {
             "colorbar": {
              "outlinewidth": 0,
              "ticks": ""
             }
            },
            "type": "scattergeo"
           }
          ],
          "scattergl": [
           {
            "marker": {
             "line": {
              "color": "#283442"
             }
            },
            "type": "scattergl"
           }
          ],
          "scattermapbox": [
           {
            "marker": {
             "colorbar": {
              "outlinewidth": 0,
              "ticks": ""
             }
            },
            "type": "scattermapbox"
           }
          ],
          "scatterpolar": [
           {
            "marker": {
             "colorbar": {
              "outlinewidth": 0,
              "ticks": ""
             }
            },
            "type": "scatterpolar"
           }
          ],
          "scatterpolargl": [
           {
            "marker": {
             "colorbar": {
              "outlinewidth": 0,
              "ticks": ""
             }
            },
            "type": "scatterpolargl"
           }
          ],
          "scatterternary": [
           {
            "marker": {
             "colorbar": {
              "outlinewidth": 0,
              "ticks": ""
             }
            },
            "type": "scatterternary"
           }
          ],
          "surface": [
           {
            "colorbar": {
             "outlinewidth": 0,
             "ticks": ""
            },
            "colorscale": [
             [
              0,
              "#0d0887"
             ],
             [
              0.1111111111111111,
              "#46039f"
             ],
             [
              0.2222222222222222,
              "#7201a8"
             ],
             [
              0.3333333333333333,
              "#9c179e"
             ],
             [
              0.4444444444444444,
              "#bd3786"
             ],
             [
              0.5555555555555556,
              "#d8576b"
             ],
             [
              0.6666666666666666,
              "#ed7953"
             ],
             [
              0.7777777777777778,
              "#fb9f3a"
             ],
             [
              0.8888888888888888,
              "#fdca26"
             ],
             [
              1,
              "#f0f921"
             ]
            ],
            "type": "surface"
           }
          ],
          "table": [
           {
            "cells": {
             "fill": {
              "color": "#506784"
             },
             "line": {
              "color": "rgb(17,17,17)"
             }
            },
            "header": {
             "fill": {
              "color": "#2a3f5f"
             },
             "line": {
              "color": "rgb(17,17,17)"
             }
            },
            "type": "table"
           }
          ]
         },
         "layout": {
          "annotationdefaults": {
           "arrowcolor": "#f2f5fa",
           "arrowhead": 0,
           "arrowwidth": 1
          },
          "autotypenumbers": "strict",
          "coloraxis": {
           "colorbar": {
            "outlinewidth": 0,
            "ticks": ""
           }
          },
          "colorscale": {
           "diverging": [
            [
             0,
             "#8e0152"
            ],
            [
             0.1,
             "#c51b7d"
            ],
            [
             0.2,
             "#de77ae"
            ],
            [
             0.3,
             "#f1b6da"
            ],
            [
             0.4,
             "#fde0ef"
            ],
            [
             0.5,
             "#f7f7f7"
            ],
            [
             0.6,
             "#e6f5d0"
            ],
            [
             0.7,
             "#b8e186"
            ],
            [
             0.8,
             "#7fbc41"
            ],
            [
             0.9,
             "#4d9221"
            ],
            [
             1,
             "#276419"
            ]
           ],
           "sequential": [
            [
             0,
             "#0d0887"
            ],
            [
             0.1111111111111111,
             "#46039f"
            ],
            [
             0.2222222222222222,
             "#7201a8"
            ],
            [
             0.3333333333333333,
             "#9c179e"
            ],
            [
             0.4444444444444444,
             "#bd3786"
            ],
            [
             0.5555555555555556,
             "#d8576b"
            ],
            [
             0.6666666666666666,
             "#ed7953"
            ],
            [
             0.7777777777777778,
             "#fb9f3a"
            ],
            [
             0.8888888888888888,
             "#fdca26"
            ],
            [
             1,
             "#f0f921"
            ]
           ],
           "sequentialminus": [
            [
             0,
             "#0d0887"
            ],
            [
             0.1111111111111111,
             "#46039f"
            ],
            [
             0.2222222222222222,
             "#7201a8"
            ],
            [
             0.3333333333333333,
             "#9c179e"
            ],
            [
             0.4444444444444444,
             "#bd3786"
            ],
            [
             0.5555555555555556,
             "#d8576b"
            ],
            [
             0.6666666666666666,
             "#ed7953"
            ],
            [
             0.7777777777777778,
             "#fb9f3a"
            ],
            [
             0.8888888888888888,
             "#fdca26"
            ],
            [
             1,
             "#f0f921"
            ]
           ]
          },
          "colorway": [
           "#636efa",
           "#EF553B",
           "#00cc96",
           "#ab63fa",
           "#FFA15A",
           "#19d3f3",
           "#FF6692",
           "#B6E880",
           "#FF97FF",
           "#FECB52"
          ],
          "font": {
           "color": "#f2f5fa"
          },
          "geo": {
           "bgcolor": "rgb(17,17,17)",
           "lakecolor": "rgb(17,17,17)",
           "landcolor": "rgb(17,17,17)",
           "showlakes": true,
           "showland": true,
           "subunitcolor": "#506784"
          },
          "hoverlabel": {
           "align": "left"
          },
          "hovermode": "closest",
          "mapbox": {
           "style": "dark"
          },
          "paper_bgcolor": "rgb(17,17,17)",
          "plot_bgcolor": "rgb(17,17,17)",
          "polar": {
           "angularaxis": {
            "gridcolor": "#506784",
            "linecolor": "#506784",
            "ticks": ""
           },
           "bgcolor": "rgb(17,17,17)",
           "radialaxis": {
            "gridcolor": "#506784",
            "linecolor": "#506784",
            "ticks": ""
           }
          },
          "scene": {
           "xaxis": {
            "backgroundcolor": "rgb(17,17,17)",
            "gridcolor": "#506784",
            "gridwidth": 2,
            "linecolor": "#506784",
            "showbackground": true,
            "ticks": "",
            "zerolinecolor": "#C8D4E3"
           },
           "yaxis": {
            "backgroundcolor": "rgb(17,17,17)",
            "gridcolor": "#506784",
            "gridwidth": 2,
            "linecolor": "#506784",
            "showbackground": true,
            "ticks": "",
            "zerolinecolor": "#C8D4E3"
           },
           "zaxis": {
            "backgroundcolor": "rgb(17,17,17)",
            "gridcolor": "#506784",
            "gridwidth": 2,
            "linecolor": "#506784",
            "showbackground": true,
            "ticks": "",
            "zerolinecolor": "#C8D4E3"
           }
          },
          "shapedefaults": {
           "line": {
            "color": "#f2f5fa"
           }
          },
          "sliderdefaults": {
           "bgcolor": "#C8D4E3",
           "bordercolor": "rgb(17,17,17)",
           "borderwidth": 1,
           "tickwidth": 0
          },
          "ternary": {
           "aaxis": {
            "gridcolor": "#506784",
            "linecolor": "#506784",
            "ticks": ""
           },
           "baxis": {
            "gridcolor": "#506784",
            "linecolor": "#506784",
            "ticks": ""
           },
           "bgcolor": "rgb(17,17,17)",
           "caxis": {
            "gridcolor": "#506784",
            "linecolor": "#506784",
            "ticks": ""
           }
          },
          "title": {
           "x": 0.05
          },
          "updatemenudefaults": {
           "bgcolor": "#506784",
           "borderwidth": 0
          },
          "xaxis": {
           "automargin": true,
           "gridcolor": "#283442",
           "linecolor": "#506784",
           "ticks": "",
           "title": {
            "standoff": 15
           },
           "zerolinecolor": "#283442",
           "zerolinewidth": 2
          },
          "yaxis": {
           "automargin": true,
           "gridcolor": "#283442",
           "linecolor": "#506784",
           "ticks": "",
           "title": {
            "standoff": 15
           },
           "zerolinecolor": "#283442",
           "zerolinewidth": 2
          }
         }
        },
        "title": {
         "text": "Predicción de Volumen Normalizado vs Volumen Real para 2017-01-02"
        },
        "xaxis": {
         "tickangle": 45,
         "title": {
          "text": "Hora del Día"
         }
        },
        "yaxis": {
         "title": {
          "text": "Volumen Normalizado"
         }
        }
       }
      }
     },
     "metadata": {},
     "output_type": "display_data"
    }
   ],
   "source": [
    "from sklearn.metrics import mean_squared_error\n",
    "\n",
    "\n",
    "class StaticBinVolumePredictor:\n",
    "    def __init__(self, window_size):\n",
    "        \"\"\"\n",
    "        Clase para predecir la curva de volumen utilizando una media móvil para mejorar la separación de entrenamiento y prueba.\n",
    "\n",
    "        Args:\n",
    "            window_size (int): Tamaño de la ventana para calcular la media móvil.\n",
    "        \"\"\"\n",
    "        self.window_size = window_size\n",
    "        self.moving_avg_curve = None\n",
    "\n",
    "    def train(self, train_df):\n",
    "        \"\"\"\n",
    "        Entrenar el predictor utilizando los datos de volumen con una media móvil.\n",
    "\n",
    "        Args:\n",
    "            train_df (DataFrame): Datos de entrenamiento con las columnas ['date', 'time_5min', 'volume', 'vwap', 'day_of_week'].\n",
    "        \"\"\"\n",
    "        # Calcular la media móvil para cada timestamp (promedio de volúmenes anteriores por ventana)\n",
    "        self.moving_avg_curve = (\n",
    "            train_df['volume']\n",
    "            .rolling(window=self.window_size, min_periods=1)\n",
    "            .mean()\n",
    "            .groupby(train_df['time_5min'])\n",
    "            .mean()\n",
    "        )\n",
    "        # Normalizar la curva de volumen\n",
    "        self.moving_avg_curve /= self.moving_avg_curve.sum()\n",
    "\n",
    "    def predict(self, day_times=None):\n",
    "        \"\"\"\n",
    "        Predecir la curva de volumen estático para un día dado o para toda la serie.\n",
    "\n",
    "        Args:\n",
    "            day_times (Index, optional): Índices de tiempo del día a predecir. Si no se proporciona, se predice para todos los tiempos.\n",
    "\n",
    "        Returns:\n",
    "            Series: Predicción de la curva de volumen para el día o para toda la serie, con los índices correspondientes.\n",
    "        \"\"\"\n",
    "        if day_times is None:\n",
    "            return self.moving_avg_curve.fillna(0)\n",
    "        else:\n",
    "            return self.moving_avg_curve.reindex(day_times).fillna(0)\n",
    "\n",
    "    def evaluate(self, test_df):\n",
    "        \"\"\"\n",
    "        Evaluar el rendimiento del predictor comparando las predicciones con los valores reales normalizados.\n",
    "\n",
    "        Args:\n",
    "            test_df (DataFrame): Datos de prueba con las columnas ['date', 'time_5min', 'volume', 'vwap'].\n",
    "\n",
    "        Returns:\n",
    "            float: RMSE (Raíz del Error Cuadrático Medio) de la predicción.\n",
    "        \"\"\"\n",
    "        mse_list = []\n",
    "        unique_dates = test_df['date'].unique()\n",
    "        for date in unique_dates:\n",
    "            day_df = test_df[test_df['date'] == date]\n",
    "            actual_curve = day_df.set_index('time_5min')['volume']\n",
    "            actual_curve /= actual_curve.sum()  # Normalizar la curva de volumen real\n",
    "            predicted_curve = self.predict(actual_curve.index)\n",
    "            mse = mean_squared_error(actual_curve, predicted_curve)\n",
    "            mse_list.append(mse)\n",
    "\n",
    "        final_rmse = np.sqrt(np.mean(mse_list))\n",
    "\n",
    "        print(f\"RMSE del predictor de volumen estático: {final_rmse}\")\n",
    "        \n",
    "\n",
    "    def visualize_prediction(self, test_df, date):\n",
    "        \"\"\"\n",
    "        Visualizar la predicción frente a los valores reales normalizados para un día específico.\n",
    "\n",
    "        Args:\n",
    "            test_df (DataFrame): Datos de prueba con las columnas ['date', 'time_5min', 'volume', 'vwap'].\n",
    "            date (str): Fecha específica para la cual se desea visualizar la predicción.\n",
    "        \"\"\"\n",
    "        day_df = test_df[test_df['date'] == date]\n",
    "        actual_curve = day_df.set_index('time_5min')['volume']\n",
    "        actual_curve /= actual_curve.sum()  # Normalizar la curva de volumen real\n",
    "        predicted_curve = self.predict(actual_curve.index)\n",
    "\n",
    "        # Crear la figura\n",
    "        fig = go.Figure()\n",
    "\n",
    "        # Añadir la curva de volumen real normalizado\n",
    "        fig.add_trace(go.Scatter(\n",
    "            x=actual_curve.index,\n",
    "            y=actual_curve.values,\n",
    "            mode='lines',\n",
    "            name='Volumen Real Normalizado',\n",
    "            line=dict(color='blue', width=2)\n",
    "        ))\n",
    "\n",
    "        # Añadir la curva de volumen predicho normalizado\n",
    "        fig.add_trace(go.Scatter(\n",
    "            x=predicted_curve.index,\n",
    "            y=predicted_curve.values,\n",
    "            mode='lines',\n",
    "            name='Volumen Predicho Normalizado',\n",
    "            line=dict(color='red', width=2, dash='dash')\n",
    "        ))\n",
    "\n",
    "        # Configuración del layout\n",
    "        fig.update_layout(\n",
    "            title=f'Predicción de Volumen Normalizado vs Volumen Real para {date}',\n",
    "            xaxis_title='Hora del Día',\n",
    "            yaxis_title='Volumen Normalizado',\n",
    "            template='plotly_dark',\n",
    "            showlegend=True\n",
    "        )\n",
    "\n",
    "        # Ajuste de los ticks del eje x\n",
    "        fig.update_xaxes(tickangle=45)\n",
    "\n",
    "        # Mostrar la figura\n",
    "        fig.show()\n",
    "\n",
    "\n",
    "\n",
    "# Ejemplo de uso\n",
    "volume_predictor = StaticBinVolumePredictor(window_size=10)  # Ajustar el hiperparámetro de la ventana\n",
    "\n",
    "# Asumiendo que 'algo.resampled_df' tiene las columnas ['date', 'time_5min', 'volume', 'vwap']\n",
    "\n",
    "# Entrenar el predictor\n",
    "volume_predictor.train(algo.resampled_df)\n",
    "\n",
    "# Predecir la curva de volumen estático\n",
    "predicted_curve = volume_predictor.predict()\n",
    "\n",
    "# Evaluar el rendimiento del predictor\n",
    "rmse = volume_predictor.evaluate(algo.test_df)\n",
    "\n",
    "# Visualizar la predicción para una fecha específica\n",
    "volume_predictor.visualize_prediction(algo.test_df, '2017-01-02')\n"
   ]
  },
  {
   "cell_type": "markdown",
   "id": "6f75fef1",
   "metadata": {
    "id": "6f75fef1"
   },
   "source": [
    "<span style=\"color:#1E90FF; font-weight:bold\">Try to improve your prediction using other predictive models. Bear in mind that the target is a normalized vector where all weights sum to one (i.e. akin to multi-class probability problem). Alternatively you can see the problem as a target percentage of volume by using at least one feature: the time bin"
   ]
  },
  {
   "cell_type": "code",
   "execution_count": 87,
   "id": "5bee8a96",
   "metadata": {},
   "outputs": [
    {
     "name": "stderr",
     "output_type": "stream",
     "text": [
      "2024-11-13 14:50:17.095553: I tensorflow/core/platform/cpu_feature_guard.cc:182] This TensorFlow binary is optimized to use available CPU instructions in performance-critical operations.\n",
      "To enable the following instructions: SSE4.1 SSE4.2, in other operations, rebuild TensorFlow with the appropriate compiler flags.\n",
      "2024-11-13 14:50:21.757598: I tensorflow/core/common_runtime/executor.cc:1197] [/device:CPU:0] (DEBUG INFO) Executor start aborting (this does not indicate an error and you can ignore this message): INVALID_ARGUMENT: You must feed a value for placeholder tensor 'gradients/split_2_grad/concat/split_2/split_dim' with dtype int32\n",
      "\t [[{{node gradients/split_2_grad/concat/split_2/split_dim}}]]\n",
      "2024-11-13 14:50:21.759417: I tensorflow/core/common_runtime/executor.cc:1197] [/device:CPU:0] (DEBUG INFO) Executor start aborting (this does not indicate an error and you can ignore this message): INVALID_ARGUMENT: You must feed a value for placeholder tensor 'gradients/split_grad/concat/split/split_dim' with dtype int32\n",
      "\t [[{{node gradients/split_grad/concat/split/split_dim}}]]\n",
      "2024-11-13 14:50:21.760624: I tensorflow/core/common_runtime/executor.cc:1197] [/device:CPU:0] (DEBUG INFO) Executor start aborting (this does not indicate an error and you can ignore this message): INVALID_ARGUMENT: You must feed a value for placeholder tensor 'gradients/split_1_grad/concat/split_1/split_dim' with dtype int32\n",
      "\t [[{{node gradients/split_1_grad/concat/split_1/split_dim}}]]\n",
      "2024-11-13 14:50:21.954307: I tensorflow/core/common_runtime/executor.cc:1197] [/device:CPU:0] (DEBUG INFO) Executor start aborting (this does not indicate an error and you can ignore this message): INVALID_ARGUMENT: You must feed a value for placeholder tensor 'gradients/split_2_grad/concat/split_2/split_dim' with dtype int32\n",
      "\t [[{{node gradients/split_2_grad/concat/split_2/split_dim}}]]\n",
      "2024-11-13 14:50:21.955471: I tensorflow/core/common_runtime/executor.cc:1197] [/device:CPU:0] (DEBUG INFO) Executor start aborting (this does not indicate an error and you can ignore this message): INVALID_ARGUMENT: You must feed a value for placeholder tensor 'gradients/split_grad/concat/split/split_dim' with dtype int32\n",
      "\t [[{{node gradients/split_grad/concat/split/split_dim}}]]\n",
      "2024-11-13 14:50:21.956759: I tensorflow/core/common_runtime/executor.cc:1197] [/device:CPU:0] (DEBUG INFO) Executor start aborting (this does not indicate an error and you can ignore this message): INVALID_ARGUMENT: You must feed a value for placeholder tensor 'gradients/split_1_grad/concat/split_1/split_dim' with dtype int32\n",
      "\t [[{{node gradients/split_1_grad/concat/split_1/split_dim}}]]\n",
      "2024-11-13 14:50:22.575616: I tensorflow/core/common_runtime/executor.cc:1197] [/device:CPU:0] (DEBUG INFO) Executor start aborting (this does not indicate an error and you can ignore this message): INVALID_ARGUMENT: You must feed a value for placeholder tensor 'gradients/split_2_grad/concat/split_2/split_dim' with dtype int32\n",
      "\t [[{{node gradients/split_2_grad/concat/split_2/split_dim}}]]\n",
      "2024-11-13 14:50:22.577364: I tensorflow/core/common_runtime/executor.cc:1197] [/device:CPU:0] (DEBUG INFO) Executor start aborting (this does not indicate an error and you can ignore this message): INVALID_ARGUMENT: You must feed a value for placeholder tensor 'gradients/split_grad/concat/split/split_dim' with dtype int32\n",
      "\t [[{{node gradients/split_grad/concat/split/split_dim}}]]\n",
      "2024-11-13 14:50:22.578694: I tensorflow/core/common_runtime/executor.cc:1197] [/device:CPU:0] (DEBUG INFO) Executor start aborting (this does not indicate an error and you can ignore this message): INVALID_ARGUMENT: You must feed a value for placeholder tensor 'gradients/split_1_grad/concat/split_1/split_dim' with dtype int32\n",
      "\t [[{{node gradients/split_1_grad/concat/split_1/split_dim}}]]\n",
      "2024-11-13 14:50:22.741762: I tensorflow/core/common_runtime/executor.cc:1197] [/device:CPU:0] (DEBUG INFO) Executor start aborting (this does not indicate an error and you can ignore this message): INVALID_ARGUMENT: You must feed a value for placeholder tensor 'gradients/split_2_grad/concat/split_2/split_dim' with dtype int32\n",
      "\t [[{{node gradients/split_2_grad/concat/split_2/split_dim}}]]\n",
      "2024-11-13 14:50:22.742808: I tensorflow/core/common_runtime/executor.cc:1197] [/device:CPU:0] (DEBUG INFO) Executor start aborting (this does not indicate an error and you can ignore this message): INVALID_ARGUMENT: You must feed a value for placeholder tensor 'gradients/split_grad/concat/split/split_dim' with dtype int32\n",
      "\t [[{{node gradients/split_grad/concat/split/split_dim}}]]\n",
      "2024-11-13 14:50:22.743963: I tensorflow/core/common_runtime/executor.cc:1197] [/device:CPU:0] (DEBUG INFO) Executor start aborting (this does not indicate an error and you can ignore this message): INVALID_ARGUMENT: You must feed a value for placeholder tensor 'gradients/split_1_grad/concat/split_1/split_dim' with dtype int32\n",
      "\t [[{{node gradients/split_1_grad/concat/split_1/split_dim}}]]\n",
      "2024-11-13 14:50:23.505363: I tensorflow/core/common_runtime/executor.cc:1197] [/device:CPU:0] (DEBUG INFO) Executor start aborting (this does not indicate an error and you can ignore this message): INVALID_ARGUMENT: You must feed a value for placeholder tensor 'gradients/split_2_grad/concat/split_2/split_dim' with dtype int32\n",
      "\t [[{{node gradients/split_2_grad/concat/split_2/split_dim}}]]\n",
      "2024-11-13 14:50:23.507009: I tensorflow/core/common_runtime/executor.cc:1197] [/device:CPU:0] (DEBUG INFO) Executor start aborting (this does not indicate an error and you can ignore this message): INVALID_ARGUMENT: You must feed a value for placeholder tensor 'gradients/split_grad/concat/split/split_dim' with dtype int32\n",
      "\t [[{{node gradients/split_grad/concat/split/split_dim}}]]\n",
      "2024-11-13 14:50:23.507975: I tensorflow/core/common_runtime/executor.cc:1197] [/device:CPU:0] (DEBUG INFO) Executor start aborting (this does not indicate an error and you can ignore this message): INVALID_ARGUMENT: You must feed a value for placeholder tensor 'gradients/split_1_grad/concat/split_1/split_dim' with dtype int32\n",
      "\t [[{{node gradients/split_1_grad/concat/split_1/split_dim}}]]\n",
      "2024-11-13 14:50:23.650401: I tensorflow/core/common_runtime/executor.cc:1197] [/device:CPU:0] (DEBUG INFO) Executor start aborting (this does not indicate an error and you can ignore this message): INVALID_ARGUMENT: You must feed a value for placeholder tensor 'gradients/split_2_grad/concat/split_2/split_dim' with dtype int32\n",
      "\t [[{{node gradients/split_2_grad/concat/split_2/split_dim}}]]\n",
      "2024-11-13 14:50:23.651393: I tensorflow/core/common_runtime/executor.cc:1197] [/device:CPU:0] (DEBUG INFO) Executor start aborting (this does not indicate an error and you can ignore this message): INVALID_ARGUMENT: You must feed a value for placeholder tensor 'gradients/split_grad/concat/split/split_dim' with dtype int32\n",
      "\t [[{{node gradients/split_grad/concat/split/split_dim}}]]\n",
      "2024-11-13 14:50:23.652276: I tensorflow/core/common_runtime/executor.cc:1197] [/device:CPU:0] (DEBUG INFO) Executor start aborting (this does not indicate an error and you can ignore this message): INVALID_ARGUMENT: You must feed a value for placeholder tensor 'gradients/split_1_grad/concat/split_1/split_dim' with dtype int32\n",
      "\t [[{{node gradients/split_1_grad/concat/split_1/split_dim}}]]\n",
      "2024-11-13 14:50:25.984183: I tensorflow/core/common_runtime/executor.cc:1197] [/device:CPU:0] (DEBUG INFO) Executor start aborting (this does not indicate an error and you can ignore this message): INVALID_ARGUMENT: You must feed a value for placeholder tensor 'gradients/split_2_grad/concat/split_2/split_dim' with dtype int32\n",
      "\t [[{{node gradients/split_2_grad/concat/split_2/split_dim}}]]\n",
      "2024-11-13 14:50:25.985484: I tensorflow/core/common_runtime/executor.cc:1197] [/device:CPU:0] (DEBUG INFO) Executor start aborting (this does not indicate an error and you can ignore this message): INVALID_ARGUMENT: You must feed a value for placeholder tensor 'gradients/split_grad/concat/split/split_dim' with dtype int32\n",
      "\t [[{{node gradients/split_grad/concat/split/split_dim}}]]\n",
      "2024-11-13 14:50:25.986446: I tensorflow/core/common_runtime/executor.cc:1197] [/device:CPU:0] (DEBUG INFO) Executor start aborting (this does not indicate an error and you can ignore this message): INVALID_ARGUMENT: You must feed a value for placeholder tensor 'gradients/split_1_grad/concat/split_1/split_dim' with dtype int32\n",
      "\t [[{{node gradients/split_1_grad/concat/split_1/split_dim}}]]\n",
      "2024-11-13 14:50:26.123755: I tensorflow/core/common_runtime/executor.cc:1197] [/device:CPU:0] (DEBUG INFO) Executor start aborting (this does not indicate an error and you can ignore this message): INVALID_ARGUMENT: You must feed a value for placeholder tensor 'gradients/split_2_grad/concat/split_2/split_dim' with dtype int32\n",
      "\t [[{{node gradients/split_2_grad/concat/split_2/split_dim}}]]\n",
      "2024-11-13 14:50:26.124840: I tensorflow/core/common_runtime/executor.cc:1197] [/device:CPU:0] (DEBUG INFO) Executor start aborting (this does not indicate an error and you can ignore this message): INVALID_ARGUMENT: You must feed a value for placeholder tensor 'gradients/split_grad/concat/split/split_dim' with dtype int32\n",
      "\t [[{{node gradients/split_grad/concat/split/split_dim}}]]\n",
      "2024-11-13 14:50:26.125767: I tensorflow/core/common_runtime/executor.cc:1197] [/device:CPU:0] (DEBUG INFO) Executor start aborting (this does not indicate an error and you can ignore this message): INVALID_ARGUMENT: You must feed a value for placeholder tensor 'gradients/split_1_grad/concat/split_1/split_dim' with dtype int32\n",
      "\t [[{{node gradients/split_1_grad/concat/split_1/split_dim}}]]\n"
     ]
    },
    {
     "name": "stdout",
     "output_type": "stream",
     "text": [
      "RMSE del predictor de volumen utilizando la RNN: 0.11871889299184739\n"
     ]
    },
    {
     "data": {
      "application/vnd.plotly.v1+json": {
       "config": {
        "plotlyServerURL": "https://plot.ly"
       },
       "data": [
        {
         "line": {
          "color": "blue",
          "width": 2
         },
         "mode": "lines",
         "name": "Volumen Real Normalizado",
         "type": "scatter",
         "x": [
          32400000000000,
          32700000000000,
          33000000000000,
          33300000000000,
          33600000000000,
          33900000000000,
          34200000000000,
          34500000000000,
          34800000000000,
          35100000000000,
          35400000000000,
          35700000000000,
          36000000000000,
          36300000000000,
          36600000000000,
          36900000000000,
          37200000000000,
          37500000000000,
          37800000000000,
          38100000000000,
          38400000000000,
          38700000000000,
          39000000000000,
          39300000000000,
          39600000000000,
          39900000000000,
          40200000000000,
          40500000000000,
          40800000000000,
          41100000000000,
          41400000000000,
          41700000000000,
          42000000000000,
          42300000000000,
          42600000000000,
          42900000000000,
          43200000000000,
          43500000000000,
          43800000000000,
          44100000000000,
          44400000000000,
          44700000000000,
          45000000000000,
          45300000000000,
          45600000000000,
          45900000000000,
          46200000000000,
          46500000000000,
          46800000000000,
          47100000000000,
          47400000000000,
          47700000000000,
          48000000000000,
          48300000000000,
          48600000000000,
          48900000000000,
          49200000000000,
          49500000000000,
          49800000000000,
          50100000000000,
          50400000000000,
          50700000000000,
          51000000000000,
          51300000000000,
          51600000000000,
          51900000000000,
          52200000000000,
          52500000000000,
          52800000000000,
          53100000000000,
          53400000000000,
          53700000000000,
          54000000000000,
          54300000000000,
          54600000000000,
          54900000000000,
          55200000000000,
          55500000000000,
          55800000000000,
          56100000000000,
          56400000000000,
          56700000000000,
          57000000000000,
          57300000000000,
          57600000000000,
          57900000000000,
          58200000000000,
          58500000000000,
          58800000000000,
          59100000000000,
          59400000000000,
          59700000000000,
          60000000000000,
          60300000000000,
          60600000000000,
          60900000000000,
          61200000000000,
          61500000000000,
          61800000000000,
          62100000000000,
          62400000000000,
          62700000000000
         ],
         "y": [
          0.018978070237151617,
          0.014008032731269337,
          0.01673459624503426,
          0.01478660419334212,
          0.014617757370241999,
          0.011120439376955223,
          0.030189186611697644,
          0.007892025583420493,
          0.011136073342057086,
          0.04889209906305647,
          0.016487579596424825,
          0.03674294478239866,
          0.04325136445430427,
          0.018901463808152486,
          0.012463396979205264,
          0.033895999737349386,
          0.01350305565847916,
          0.014975775171074663,
          0.013145037857646494,
          0.013639071154865368,
          0.013540577174723631,
          0.014436403375060386,
          0.010946902364324542,
          0.0048152612513738344,
          0.014253485983368588,
          0.009611761744625434,
          0.010351248293943559,
          0.006575645721843619,
          0.005437493062427986,
          0.018582530920074482,
          0.00885507783369526,
          0.008392312466680112,
          0.005168588862675941,
          0.013571845104927358,
          0.015246242767336896,
          0.006911775971533677,
          0.002950129214721567,
          0.003167441329637464,
          0.002649957084765795,
          0.002421701194278594,
          0.005839285965545868,
          0.0010271515071924057,
          0.006830479353003988,
          0.0023325875931979744,
          0.0028234940973964756,
          0.0039679003428528545,
          0.005587579127405872,
          0.0028782129752529966,
          0.003797490123242547,
          0.0006237952075643377,
          0.0029126076984770954,
          0.018682588296726404,
          0.004021055824199189,
          0.00594403353172835,
          0.007452711164058139,
          0.0008301635469089306,
          0.006078485631604373,
          0.0015759036822678004,
          0.01997708060716067,
          0.0010334050932331508,
          0.017522548086168162,
          0.026402640264026403,
          0.0036130093350405625,
          0.001760384470469785,
          0.004662048393375576,
          0.003936632412649128,
          0.006747619337964114,
          0.003411331185226528,
          0.0019526822412227012,
          0.002315390231585925,
          0.0031862020877596996,
          0.0031111590552707568,
          0.0030783277285568443,
          0.0036442772652442884,
          0.0044681872261124736,
          0.01041847434388157,
          0.018276105204077964,
          0.016787751726380598,
          0.013349842800480901,
          0.004441609485439307,
          0.011192355616423793,
          0.005226434533552834,
          0.008506440411923713,
          0.006814845387902125,
          0.0031611877435967187,
          0.008379805294598622,
          0.005729848209832826,
          0.0019792599818958686,
          0.008891035953429544,
          0.0034066409956959695,
          0.002002710929548663,
          0.004196156233340056,
          0.00831726943419117,
          0.004391580797113345,
          0.0033409783422681445,
          0.0030548767809040495,
          0.003930378826608383,
          0.0036083191455100034,
          0.0066788298915159165,
          0.02162802732191741,
          0.014975775171074663,
          0.020038053071057934
         ]
        },
        {
         "line": {
          "color": "red",
          "dash": "dash",
          "width": 2
         },
         "mode": "lines",
         "name": "Volumen Predicho Normalizado",
         "type": "scatter",
         "x": [
          34500000000000,
          34800000000000,
          35100000000000,
          35400000000000,
          35700000000000,
          36000000000000,
          36300000000000,
          36600000000000,
          36900000000000,
          37200000000000,
          37500000000000,
          37800000000000,
          38100000000000,
          38400000000000,
          38700000000000,
          39000000000000,
          39300000000000,
          39600000000000,
          39900000000000,
          40200000000000,
          40500000000000,
          40800000000000,
          41100000000000,
          41400000000000,
          41700000000000,
          42000000000000,
          42300000000000,
          42600000000000,
          42900000000000,
          43200000000000,
          43500000000000,
          43800000000000,
          44100000000000,
          44400000000000,
          44700000000000,
          45000000000000,
          45300000000000,
          45600000000000,
          45900000000000,
          46200000000000,
          46500000000000,
          46800000000000,
          47100000000000,
          47400000000000,
          47700000000000,
          48000000000000,
          48300000000000,
          48600000000000,
          48900000000000,
          49200000000000,
          49500000000000,
          49800000000000,
          50100000000000,
          50400000000000,
          50700000000000,
          51000000000000,
          51300000000000,
          51600000000000,
          51900000000000,
          52200000000000,
          52500000000000,
          52800000000000,
          53100000000000,
          53400000000000,
          53700000000000,
          54000000000000,
          54300000000000,
          54600000000000,
          54900000000000,
          55200000000000,
          55500000000000,
          55800000000000,
          56100000000000,
          56400000000000,
          56700000000000,
          57000000000000,
          57300000000000,
          57600000000000,
          57900000000000,
          58200000000000,
          58500000000000,
          58800000000000,
          59100000000000,
          59400000000000,
          59700000000000,
          60000000000000,
          60300000000000,
          60600000000000,
          60900000000000,
          61200000000000,
          61500000000000,
          61800000000000,
          62100000000000,
          62400000000000,
          62700000000000
         ],
         "y": [
          0.029405899345874786,
          0.028022758662700653,
          0.027852673083543777,
          0.03307589143514633,
          0.03786156699061394,
          0.04530338943004608,
          0.057131119072437286,
          0.05792587250471115,
          0.06459218263626099,
          0.07072103023529053,
          0.05790650472044945,
          0.057653363794088364,
          0.04721931368112564,
          0.034064240753650665,
          0.031455911695957184,
          0.03150968253612518,
          0.022035906091332436,
          0.020053742453455925,
          0.018136102706193924,
          0.016746696084737778,
          0.015144562348723412,
          0.01294616423547268,
          0.00978143885731697,
          0.010143887251615524,
          0.012701800093054771,
          0.01089956983923912,
          0.010210361331701279,
          0.010121479630470276,
          0.012602382339537144,
          0.01459230575710535,
          0.00972029473632574,
          0.008093524724245071,
          0.005887277889996767,
          0.004446615930646658,
          -0.000041850747948046774,
          -0.005343983415514231,
          -0.006343727000057697,
          -0.005985342897474766,
          -0.005883963778614998,
          -0.005514249205589294,
          -0.00473363883793354,
          -0.005520780570805073,
          -0.004400435369461775,
          -0.006176286842674017,
          -0.006134707946330309,
          -0.0034925569780170918,
          -0.0017912413459271193,
          -0.0008961665444076061,
          0.00116427568718791,
          0.00160136166960001,
          0.003254743292927742,
          0.0030719127971678972,
          -0.0005377223715186119,
          0.0008175320690497756,
          0.0033182583283632994,
          0.008375674486160278,
          0.01402974221855402,
          0.015126806683838367,
          0.016792479902505875,
          0.009880926460027695,
          0.011001563630998135,
          0.004762626718729734,
          -0.004879922140389681,
          -0.005163360852748156,
          -0.004776574671268463,
          -0.005590582266449928,
          -0.006083573214709759,
          -0.007508351933211088,
          -0.007287225220352411,
          -0.005263628903776407,
          -0.0010728290071710944,
          0.004185914061963558,
          0.009679894894361496,
          0.013359450735151768,
          0.016483476385474205,
          0.017820388078689575,
          0.016245335340499878,
          0.011109094135463238,
          0.006076145451515913,
          0.003131762845441699,
          0.0037602803204208612,
          0.0008544489392079413,
          0.0011377627961337566,
          -0.00033259904012084007,
          -0.0016320544527843595,
          -0.0014981315471231937,
          -0.0027048399206250906,
          -0.00286693568341434,
          -0.0018495847471058369,
          -0.003892912296578288,
          -0.003713990794494748,
          -0.003110629739239812,
          -0.002942365361377597,
          -0.0012659952044487,
          0.003225408960133791
         ]
        }
       ],
       "layout": {
        "showlegend": true,
        "template": {
         "data": {
          "bar": [
           {
            "error_x": {
             "color": "#f2f5fa"
            },
            "error_y": {
             "color": "#f2f5fa"
            },
            "marker": {
             "line": {
              "color": "rgb(17,17,17)",
              "width": 0.5
             },
             "pattern": {
              "fillmode": "overlay",
              "size": 10,
              "solidity": 0.2
             }
            },
            "type": "bar"
           }
          ],
          "barpolar": [
           {
            "marker": {
             "line": {
              "color": "rgb(17,17,17)",
              "width": 0.5
             },
             "pattern": {
              "fillmode": "overlay",
              "size": 10,
              "solidity": 0.2
             }
            },
            "type": "barpolar"
           }
          ],
          "carpet": [
           {
            "aaxis": {
             "endlinecolor": "#A2B1C6",
             "gridcolor": "#506784",
             "linecolor": "#506784",
             "minorgridcolor": "#506784",
             "startlinecolor": "#A2B1C6"
            },
            "baxis": {
             "endlinecolor": "#A2B1C6",
             "gridcolor": "#506784",
             "linecolor": "#506784",
             "minorgridcolor": "#506784",
             "startlinecolor": "#A2B1C6"
            },
            "type": "carpet"
           }
          ],
          "choropleth": [
           {
            "colorbar": {
             "outlinewidth": 0,
             "ticks": ""
            },
            "type": "choropleth"
           }
          ],
          "contour": [
           {
            "colorbar": {
             "outlinewidth": 0,
             "ticks": ""
            },
            "colorscale": [
             [
              0,
              "#0d0887"
             ],
             [
              0.1111111111111111,
              "#46039f"
             ],
             [
              0.2222222222222222,
              "#7201a8"
             ],
             [
              0.3333333333333333,
              "#9c179e"
             ],
             [
              0.4444444444444444,
              "#bd3786"
             ],
             [
              0.5555555555555556,
              "#d8576b"
             ],
             [
              0.6666666666666666,
              "#ed7953"
             ],
             [
              0.7777777777777778,
              "#fb9f3a"
             ],
             [
              0.8888888888888888,
              "#fdca26"
             ],
             [
              1,
              "#f0f921"
             ]
            ],
            "type": "contour"
           }
          ],
          "contourcarpet": [
           {
            "colorbar": {
             "outlinewidth": 0,
             "ticks": ""
            },
            "type": "contourcarpet"
           }
          ],
          "heatmap": [
           {
            "colorbar": {
             "outlinewidth": 0,
             "ticks": ""
            },
            "colorscale": [
             [
              0,
              "#0d0887"
             ],
             [
              0.1111111111111111,
              "#46039f"
             ],
             [
              0.2222222222222222,
              "#7201a8"
             ],
             [
              0.3333333333333333,
              "#9c179e"
             ],
             [
              0.4444444444444444,
              "#bd3786"
             ],
             [
              0.5555555555555556,
              "#d8576b"
             ],
             [
              0.6666666666666666,
              "#ed7953"
             ],
             [
              0.7777777777777778,
              "#fb9f3a"
             ],
             [
              0.8888888888888888,
              "#fdca26"
             ],
             [
              1,
              "#f0f921"
             ]
            ],
            "type": "heatmap"
           }
          ],
          "heatmapgl": [
           {
            "colorbar": {
             "outlinewidth": 0,
             "ticks": ""
            },
            "colorscale": [
             [
              0,
              "#0d0887"
             ],
             [
              0.1111111111111111,
              "#46039f"
             ],
             [
              0.2222222222222222,
              "#7201a8"
             ],
             [
              0.3333333333333333,
              "#9c179e"
             ],
             [
              0.4444444444444444,
              "#bd3786"
             ],
             [
              0.5555555555555556,
              "#d8576b"
             ],
             [
              0.6666666666666666,
              "#ed7953"
             ],
             [
              0.7777777777777778,
              "#fb9f3a"
             ],
             [
              0.8888888888888888,
              "#fdca26"
             ],
             [
              1,
              "#f0f921"
             ]
            ],
            "type": "heatmapgl"
           }
          ],
          "histogram": [
           {
            "marker": {
             "pattern": {
              "fillmode": "overlay",
              "size": 10,
              "solidity": 0.2
             }
            },
            "type": "histogram"
           }
          ],
          "histogram2d": [
           {
            "colorbar": {
             "outlinewidth": 0,
             "ticks": ""
            },
            "colorscale": [
             [
              0,
              "#0d0887"
             ],
             [
              0.1111111111111111,
              "#46039f"
             ],
             [
              0.2222222222222222,
              "#7201a8"
             ],
             [
              0.3333333333333333,
              "#9c179e"
             ],
             [
              0.4444444444444444,
              "#bd3786"
             ],
             [
              0.5555555555555556,
              "#d8576b"
             ],
             [
              0.6666666666666666,
              "#ed7953"
             ],
             [
              0.7777777777777778,
              "#fb9f3a"
             ],
             [
              0.8888888888888888,
              "#fdca26"
             ],
             [
              1,
              "#f0f921"
             ]
            ],
            "type": "histogram2d"
           }
          ],
          "histogram2dcontour": [
           {
            "colorbar": {
             "outlinewidth": 0,
             "ticks": ""
            },
            "colorscale": [
             [
              0,
              "#0d0887"
             ],
             [
              0.1111111111111111,
              "#46039f"
             ],
             [
              0.2222222222222222,
              "#7201a8"
             ],
             [
              0.3333333333333333,
              "#9c179e"
             ],
             [
              0.4444444444444444,
              "#bd3786"
             ],
             [
              0.5555555555555556,
              "#d8576b"
             ],
             [
              0.6666666666666666,
              "#ed7953"
             ],
             [
              0.7777777777777778,
              "#fb9f3a"
             ],
             [
              0.8888888888888888,
              "#fdca26"
             ],
             [
              1,
              "#f0f921"
             ]
            ],
            "type": "histogram2dcontour"
           }
          ],
          "mesh3d": [
           {
            "colorbar": {
             "outlinewidth": 0,
             "ticks": ""
            },
            "type": "mesh3d"
           }
          ],
          "parcoords": [
           {
            "line": {
             "colorbar": {
              "outlinewidth": 0,
              "ticks": ""
             }
            },
            "type": "parcoords"
           }
          ],
          "pie": [
           {
            "automargin": true,
            "type": "pie"
           }
          ],
          "scatter": [
           {
            "marker": {
             "line": {
              "color": "#283442"
             }
            },
            "type": "scatter"
           }
          ],
          "scatter3d": [
           {
            "line": {
             "colorbar": {
              "outlinewidth": 0,
              "ticks": ""
             }
            },
            "marker": {
             "colorbar": {
              "outlinewidth": 0,
              "ticks": ""
             }
            },
            "type": "scatter3d"
           }
          ],
          "scattercarpet": [
           {
            "marker": {
             "colorbar": {
              "outlinewidth": 0,
              "ticks": ""
             }
            },
            "type": "scattercarpet"
           }
          ],
          "scattergeo": [
           {
            "marker": {
             "colorbar": {
              "outlinewidth": 0,
              "ticks": ""
             }
            },
            "type": "scattergeo"
           }
          ],
          "scattergl": [
           {
            "marker": {
             "line": {
              "color": "#283442"
             }
            },
            "type": "scattergl"
           }
          ],
          "scattermapbox": [
           {
            "marker": {
             "colorbar": {
              "outlinewidth": 0,
              "ticks": ""
             }
            },
            "type": "scattermapbox"
           }
          ],
          "scatterpolar": [
           {
            "marker": {
             "colorbar": {
              "outlinewidth": 0,
              "ticks": ""
             }
            },
            "type": "scatterpolar"
           }
          ],
          "scatterpolargl": [
           {
            "marker": {
             "colorbar": {
              "outlinewidth": 0,
              "ticks": ""
             }
            },
            "type": "scatterpolargl"
           }
          ],
          "scatterternary": [
           {
            "marker": {
             "colorbar": {
              "outlinewidth": 0,
              "ticks": ""
             }
            },
            "type": "scatterternary"
           }
          ],
          "surface": [
           {
            "colorbar": {
             "outlinewidth": 0,
             "ticks": ""
            },
            "colorscale": [
             [
              0,
              "#0d0887"
             ],
             [
              0.1111111111111111,
              "#46039f"
             ],
             [
              0.2222222222222222,
              "#7201a8"
             ],
             [
              0.3333333333333333,
              "#9c179e"
             ],
             [
              0.4444444444444444,
              "#bd3786"
             ],
             [
              0.5555555555555556,
              "#d8576b"
             ],
             [
              0.6666666666666666,
              "#ed7953"
             ],
             [
              0.7777777777777778,
              "#fb9f3a"
             ],
             [
              0.8888888888888888,
              "#fdca26"
             ],
             [
              1,
              "#f0f921"
             ]
            ],
            "type": "surface"
           }
          ],
          "table": [
           {
            "cells": {
             "fill": {
              "color": "#506784"
             },
             "line": {
              "color": "rgb(17,17,17)"
             }
            },
            "header": {
             "fill": {
              "color": "#2a3f5f"
             },
             "line": {
              "color": "rgb(17,17,17)"
             }
            },
            "type": "table"
           }
          ]
         },
         "layout": {
          "annotationdefaults": {
           "arrowcolor": "#f2f5fa",
           "arrowhead": 0,
           "arrowwidth": 1
          },
          "autotypenumbers": "strict",
          "coloraxis": {
           "colorbar": {
            "outlinewidth": 0,
            "ticks": ""
           }
          },
          "colorscale": {
           "diverging": [
            [
             0,
             "#8e0152"
            ],
            [
             0.1,
             "#c51b7d"
            ],
            [
             0.2,
             "#de77ae"
            ],
            [
             0.3,
             "#f1b6da"
            ],
            [
             0.4,
             "#fde0ef"
            ],
            [
             0.5,
             "#f7f7f7"
            ],
            [
             0.6,
             "#e6f5d0"
            ],
            [
             0.7,
             "#b8e186"
            ],
            [
             0.8,
             "#7fbc41"
            ],
            [
             0.9,
             "#4d9221"
            ],
            [
             1,
             "#276419"
            ]
           ],
           "sequential": [
            [
             0,
             "#0d0887"
            ],
            [
             0.1111111111111111,
             "#46039f"
            ],
            [
             0.2222222222222222,
             "#7201a8"
            ],
            [
             0.3333333333333333,
             "#9c179e"
            ],
            [
             0.4444444444444444,
             "#bd3786"
            ],
            [
             0.5555555555555556,
             "#d8576b"
            ],
            [
             0.6666666666666666,
             "#ed7953"
            ],
            [
             0.7777777777777778,
             "#fb9f3a"
            ],
            [
             0.8888888888888888,
             "#fdca26"
            ],
            [
             1,
             "#f0f921"
            ]
           ],
           "sequentialminus": [
            [
             0,
             "#0d0887"
            ],
            [
             0.1111111111111111,
             "#46039f"
            ],
            [
             0.2222222222222222,
             "#7201a8"
            ],
            [
             0.3333333333333333,
             "#9c179e"
            ],
            [
             0.4444444444444444,
             "#bd3786"
            ],
            [
             0.5555555555555556,
             "#d8576b"
            ],
            [
             0.6666666666666666,
             "#ed7953"
            ],
            [
             0.7777777777777778,
             "#fb9f3a"
            ],
            [
             0.8888888888888888,
             "#fdca26"
            ],
            [
             1,
             "#f0f921"
            ]
           ]
          },
          "colorway": [
           "#636efa",
           "#EF553B",
           "#00cc96",
           "#ab63fa",
           "#FFA15A",
           "#19d3f3",
           "#FF6692",
           "#B6E880",
           "#FF97FF",
           "#FECB52"
          ],
          "font": {
           "color": "#f2f5fa"
          },
          "geo": {
           "bgcolor": "rgb(17,17,17)",
           "lakecolor": "rgb(17,17,17)",
           "landcolor": "rgb(17,17,17)",
           "showlakes": true,
           "showland": true,
           "subunitcolor": "#506784"
          },
          "hoverlabel": {
           "align": "left"
          },
          "hovermode": "closest",
          "mapbox": {
           "style": "dark"
          },
          "paper_bgcolor": "rgb(17,17,17)",
          "plot_bgcolor": "rgb(17,17,17)",
          "polar": {
           "angularaxis": {
            "gridcolor": "#506784",
            "linecolor": "#506784",
            "ticks": ""
           },
           "bgcolor": "rgb(17,17,17)",
           "radialaxis": {
            "gridcolor": "#506784",
            "linecolor": "#506784",
            "ticks": ""
           }
          },
          "scene": {
           "xaxis": {
            "backgroundcolor": "rgb(17,17,17)",
            "gridcolor": "#506784",
            "gridwidth": 2,
            "linecolor": "#506784",
            "showbackground": true,
            "ticks": "",
            "zerolinecolor": "#C8D4E3"
           },
           "yaxis": {
            "backgroundcolor": "rgb(17,17,17)",
            "gridcolor": "#506784",
            "gridwidth": 2,
            "linecolor": "#506784",
            "showbackground": true,
            "ticks": "",
            "zerolinecolor": "#C8D4E3"
           },
           "zaxis": {
            "backgroundcolor": "rgb(17,17,17)",
            "gridcolor": "#506784",
            "gridwidth": 2,
            "linecolor": "#506784",
            "showbackground": true,
            "ticks": "",
            "zerolinecolor": "#C8D4E3"
           }
          },
          "shapedefaults": {
           "line": {
            "color": "#f2f5fa"
           }
          },
          "sliderdefaults": {
           "bgcolor": "#C8D4E3",
           "bordercolor": "rgb(17,17,17)",
           "borderwidth": 1,
           "tickwidth": 0
          },
          "ternary": {
           "aaxis": {
            "gridcolor": "#506784",
            "linecolor": "#506784",
            "ticks": ""
           },
           "baxis": {
            "gridcolor": "#506784",
            "linecolor": "#506784",
            "ticks": ""
           },
           "bgcolor": "rgb(17,17,17)",
           "caxis": {
            "gridcolor": "#506784",
            "linecolor": "#506784",
            "ticks": ""
           }
          },
          "title": {
           "x": 0.05
          },
          "updatemenudefaults": {
           "bgcolor": "#506784",
           "borderwidth": 0
          },
          "xaxis": {
           "automargin": true,
           "gridcolor": "#283442",
           "linecolor": "#506784",
           "ticks": "",
           "title": {
            "standoff": 15
           },
           "zerolinecolor": "#283442",
           "zerolinewidth": 2
          },
          "yaxis": {
           "automargin": true,
           "gridcolor": "#283442",
           "linecolor": "#506784",
           "ticks": "",
           "title": {
            "standoff": 15
           },
           "zerolinecolor": "#283442",
           "zerolinewidth": 2
          }
         }
        },
        "title": {
         "text": "Predicción de Volumen Normalizado vs Volumen Real para 2017-01-02"
        },
        "xaxis": {
         "tickangle": 45,
         "title": {
          "text": "Hora del Día"
         }
        },
        "yaxis": {
         "title": {
          "text": "Volumen Normalizado"
         }
        }
       }
      }
     },
     "metadata": {},
     "output_type": "display_data"
    }
   ],
   "source": [
    "import os\n",
    "import pandas as pd\n",
    "import numpy as np\n",
    "import matplotlib.pyplot as plt\n",
    "from sklearn.metrics import mean_squared_error\n",
    "from sklearn.preprocessing import MinMaxScaler\n",
    "from tensorflow.keras.models import Sequential\n",
    "from tensorflow.keras.layers import LSTM, Dense\n",
    "import tensorflow as tf\n",
    "import logging\n",
    "\n",
    "# Configuración para eliminar mensajes de advertencia\n",
    "os.environ['TF_CPP_MIN_LOG_LEVEL'] = '3'\n",
    "logging.getLogger('tensorflow').setLevel(logging.FATAL)\n",
    "\n",
    "# Deshabilitar toda salida de TensorFlow\n",
    "tf.get_logger().setLevel('FATAL')\n",
    "\n",
    "# Forzar uso de CPU si la GPU está causando problemas\n",
    "tf.config.set_visible_devices([], 'GPU')\n",
    "\n",
    "class RNNVolumePredictor:\n",
    "    def __init__(self, window_size, lstm_units=50, epochs=10, batch_size=64):\n",
    "        \"\"\"\n",
    "        Clase para predecir la curva de volumen utilizando una RNN (LSTM) para mejorar la predicción del volumen.\n",
    "\n",
    "        Args:\n",
    "            window_size (int): Tamaño de la ventana para los datos secuenciales.\n",
    "            lstm_units (int): Número de unidades LSTM en la capa.\n",
    "            epochs (int): Número de épocas para el entrenamiento.\n",
    "            batch_size (int): Tamaño del batch para el entrenamiento.\n",
    "        \"\"\"\n",
    "        self.window_size = window_size\n",
    "        self.lstm_units = lstm_units\n",
    "        self.epochs = epochs\n",
    "        self.batch_size = batch_size\n",
    "        self.model = None\n",
    "        self.scaler = MinMaxScaler()\n",
    "\n",
    "    def train(self, train_df):\n",
    "        \"\"\"\n",
    "        Entrenar el predictor utilizando una RNN (LSTM).\n",
    "\n",
    "        Args:\n",
    "            train_df (DataFrame): Datos de entrenamiento con las columnas ['date', 'time_5min', 'volume', 'vwap', 'day_of_week'].\n",
    "        \"\"\"\n",
    "        # Preprocesamiento de los datos\n",
    "        grouped = train_df.groupby('time_5min')['volume'].mean()\n",
    "        normalized_volume = self.scaler.fit_transform(grouped.values.reshape(-1, 1)).flatten()\n",
    "\n",
    "        X, y = [], []\n",
    "        for i in range(self.window_size, len(normalized_volume)):\n",
    "            X.append(normalized_volume[i - self.window_size:i])\n",
    "            y.append(normalized_volume[i])\n",
    "\n",
    "        X, y = np.array(X), np.array(y)\n",
    "        X = np.reshape(X, (X.shape[0], X.shape[1], 1))  # Reshape para LSTM\n",
    "\n",
    "        # Crear el modelo LSTM\n",
    "        self.model = Sequential()\n",
    "        self.model.add(LSTM(units=self.lstm_units, input_shape=(X.shape[1], 1), return_sequences=True))\n",
    "        self.model.add(LSTM(units=self.lstm_units))\n",
    "        self.model.add(Dense(1, activation='linear'))\n",
    "        self.model.compile(optimizer='adam', loss='mean_squared_error')\n",
    "\n",
    "        # Entrenar el modelo\n",
    "        self.model.fit(X, y, epochs=self.epochs, batch_size=self.batch_size, verbose=0)\n",
    "\n",
    "    def predict(self, test_df):\n",
    "        \"\"\"\n",
    "        Predecir la curva de volumen utilizando el modelo entrenado.\n",
    "\n",
    "        Args:\n",
    "            test_df (DataFrame): Datos de prueba con las columnas ['date', 'time_5min', 'volume', 'vwap'].\n",
    "\n",
    "        Returns:\n",
    "            Series: Predicción de la curva de volumen normalizada para el día o para toda la serie, con los índices correspondientes.\n",
    "        \"\"\"\n",
    "        if self.model is None:\n",
    "            raise ValueError(\"El modelo no ha sido entrenado aún.\")\n",
    "\n",
    "        grouped = test_df.groupby('time_5min')['volume'].mean()\n",
    "        normalized_volume = self.scaler.transform(grouped.values.reshape(-1, 1)).flatten()\n",
    "\n",
    "        X_pred = []\n",
    "        for i in range(self.window_size, len(normalized_volume)):\n",
    "            X_pred.append(normalized_volume[i - self.window_size:i])\n",
    "\n",
    "        X_pred = np.array(X_pred)\n",
    "        X_pred = np.reshape(X_pred, (X_pred.shape[0], X_pred.shape[1], 1))\n",
    "        predictions = self.model.predict(X_pred, verbose=0)\n",
    "\n",
    "        return pd.Series(predictions.flatten(), index=grouped.index[self.window_size:])\n",
    "\n",
    "    def evaluate(self, test_df):\n",
    "        \"\"\"\n",
    "        Evaluar el rendimiento del predictor comparando las predicciones con los valores reales normalizados.\n",
    "\n",
    "        Args:\n",
    "            test_df (DataFrame): Datos de prueba con las columnas ['date', 'time_5min', 'volume', 'vwap'].\n",
    "\n",
    "        Returns:\n",
    "            float: RMSE (Raíz del Error Cuadrático Medio) de la predicción.\n",
    "        \"\"\"\n",
    "        if self.model is None:\n",
    "            raise ValueError(\"El modelo no ha sido entrenado aún.\")\n",
    "\n",
    "        grouped = test_df.groupby('time_5min')['volume'].mean()\n",
    "        normalized_volume = self.scaler.transform(grouped.values.reshape(-1, 1)).flatten()\n",
    "\n",
    "        X_test, y_test = [], []\n",
    "        for i in range(self.window_size, len(normalized_volume)):\n",
    "            X_test.append(normalized_volume[i - self.window_size:i])\n",
    "            y_test.append(normalized_volume[i])\n",
    "\n",
    "        X_test, y_test = np.array(X_test), np.array(y_test)\n",
    "        X_test = np.reshape(X_test, (X_test.shape[0], X_test.shape[1], 1))\n",
    "\n",
    "        predictions = self.model.predict(X_test, verbose=0).flatten()\n",
    "\n",
    "        mse = mean_squared_error(y_test, predictions)\n",
    "        rmse = np.sqrt(mse)\n",
    "        print(f\"RMSE del predictor de volumen utilizando la RNN: {rmse}\")\n",
    "        return rmse\n",
    "\n",
    "    def visualize_prediction(self, test_df, date):\n",
    "        \"\"\"\n",
    "        Visualizar la predicción frente a los valores reales normalizados para un día específico.\n",
    "\n",
    "        Args:\n",
    "            test_df (DataFrame): Datos de prueba con las columnas ['date', 'time_5min', 'volume', 'vwap'].\n",
    "            date (str): Fecha específica para la cual se desea visualizar la predicción.\n",
    "        \"\"\"\n",
    "        day_df = test_df[test_df['date'] == date]\n",
    "        actual_curve = day_df.set_index('time_5min')['volume']\n",
    "        actual_curve /= actual_curve.sum()  # Normalizar la curva de volumen real\n",
    "        predicted_curve = self.predict(day_df)\n",
    "        predicted_curve /= predicted_curve.sum()  # Normalizar la curva de volumen predicho\n",
    "\n",
    "        \n",
    "        # Crear la figura en Plotly\n",
    "        fig = go.Figure()\n",
    "\n",
    "        # Añadir la curva de volumen real normalizado\n",
    "        fig.add_trace(go.Scatter(\n",
    "            x=actual_curve.index,\n",
    "            y=actual_curve.values,\n",
    "            mode='lines',\n",
    "            name='Volumen Real Normalizado',\n",
    "            line=dict(color='blue', width=2)\n",
    "        ))\n",
    "\n",
    "        # Añadir la curva de volumen predicho normalizado\n",
    "        fig.add_trace(go.Scatter(\n",
    "            x=predicted_curve.index,\n",
    "            y=predicted_curve.values,\n",
    "            mode='lines',\n",
    "            name='Volumen Predicho Normalizado',\n",
    "            line=dict(color='red', width=2, dash='dash')\n",
    "        ))\n",
    "\n",
    "        # Configuración del layout\n",
    "        fig.update_layout(\n",
    "            title=f'Predicción de Volumen Normalizado vs Volumen Real para {date}',\n",
    "            xaxis_title='Hora del Día',\n",
    "            yaxis_title='Volumen Normalizado',\n",
    "            template='plotly_dark',\n",
    "            showlegend=True\n",
    "        )\n",
    "\n",
    "        # Ajuste de los ticks del eje x\n",
    "        fig.update_xaxes(tickangle=45)\n",
    "\n",
    "        # Mostrar la figura\n",
    "        fig.show()\n",
    "\n",
    "\n",
    "# Ejemplo de uso\n",
    "volume_predictor = RNNVolumePredictor(window_size=7, lstm_units=50, epochs=10, batch_size=32)  # Ajustar hiperparámetros para mayor estabilidad\n",
    "\n",
    "# Asumiendo que 'algo.resampled_df' tiene las columnas ['date', 'time_5min', 'volume', 'vwap']\n",
    "\n",
    "# Entrenar el predictor\n",
    "volume_predictor.train(algo.resampled_df)\n",
    "\n",
    "# Evaluar el rendimiento del predictor\n",
    "rmse = volume_predictor.evaluate(algo.test_df)\n",
    "\n",
    "# Visualizar la predicción para una fecha específica\n",
    "volume_predictor.visualize_prediction(algo.test_df, '2017-01-02')"
   ]
  },
  {
   "cell_type": "markdown",
   "id": "cf4d8113",
   "metadata": {
    "id": "cf4d8113"
   },
   "source": [
    "<span style=\"color:#1E90FF; font-weight:bold\">**Dynamic volume predictor**\n",
    "\n",
    "<span style=\"color:#1E90FF; font-weight:bold\">The static volume predictor developed so far does not use the current intraday information to update predictions. This can be a weakness if we observe intraday volume patterns that differ from the historical ones, since the model cannot adapt to them. You will implement a K-nearest neighbours model for dynamic prediction with the following logic:\n",
    "\n",
    "<span style=\"color:#1E90FF; font-weight:bold\">* The training of the model is simple, we just store all the days of the training set which contain volumes per bin intraday\n",
    "\n",
    "<span style=\"color:#1E90FF; font-weight:bold\">* For prediction, given the current day with n bins already known, we calculate the Euclidean distance with respect to every curve in the training set (truncated of course to have the same number of bins). We sort the results by this distance and select the K nearest.\n",
    "\n",
    "<span style=\"color:#1E90FF; font-weight:bold\">* The prediction will be then the median of volume in the next bin using those K nearest neighbours. You will also predict in this model the volume until the end of the day.\n",
    "\n",
    "<span style=\"color:#1E90FF; font-weight:bold\">* You need to decide how to handle the initilization, when you don't have data from the intraday (or even when you just have a few bins) as to calculate the nearest neighbours.\n",
    "\n",
    "<span style=\"color:#1E90FF; font-weight:bold\">* The output will be a tuple with the prediction for next bin, and the prediction until the end of the day\n",
    "\n",
    "<span style=\"color:#1E90FF; font-weight:bold\">I recommend to implement this from scratch in code, but is up to you if you want to adapt any existing implementation of KNN like the one in sklearn.\n",
    "\n",
    "<span style=\"color:#1E90FF; font-weight:bold\">Wrap your model also in a class structure:"
   ]
  },
  {
   "cell_type": "code",
   "execution_count": 88,
   "id": "5faf8f84",
   "metadata": {},
   "outputs": [
    {
     "name": "stdout",
     "output_type": "stream",
     "text": [
      "          date   vwap_algo  vwap_market\n",
      "0   2017-01-02  156.979715   156.856686\n",
      "1   2017-01-03  159.366235   159.190686\n",
      "2   2017-01-04  160.371809   160.329800\n",
      "3   2017-01-05  160.923692   160.868180\n",
      "4   2017-01-06  160.562283   160.546158\n",
      "..         ...         ...          ...\n",
      "238 2017-12-19  200.447950   200.406543\n",
      "239 2017-12-20  197.998050   197.522090\n",
      "240 2017-12-21  195.253610   195.313176\n",
      "241 2017-12-22  195.210285   195.249884\n",
      "242 2017-12-28  194.166354   194.027319\n",
      "\n",
      "[243 rows x 3 columns]\n",
      "MAE entre vwap_algo y vwap_market: 0.08208068823802087\n"
     ]
    },
    {
     "data": {
      "application/vnd.plotly.v1+json": {
       "config": {
        "plotlyServerURL": "https://plot.ly"
       },
       "data": [
        {
         "line": {
          "width": 2
         },
         "mode": "lines",
         "name": "VWAP Algoritmo",
         "type": "scatter",
         "x": [
          "2017-01-02T00:00:00",
          "2017-01-03T00:00:00",
          "2017-01-04T00:00:00",
          "2017-01-05T00:00:00",
          "2017-01-06T00:00:00",
          "2017-01-09T00:00:00",
          "2017-01-10T00:00:00",
          "2017-01-11T00:00:00",
          "2017-01-12T00:00:00",
          "2017-01-13T00:00:00",
          "2017-01-16T00:00:00",
          "2017-01-17T00:00:00",
          "2017-01-18T00:00:00",
          "2017-01-19T00:00:00",
          "2017-01-20T00:00:00",
          "2017-01-23T00:00:00",
          "2017-01-24T00:00:00",
          "2017-01-25T00:00:00",
          "2017-01-26T00:00:00",
          "2017-01-27T00:00:00",
          "2017-01-30T00:00:00",
          "2017-01-31T00:00:00",
          "2017-02-01T00:00:00",
          "2017-02-02T00:00:00",
          "2017-02-03T00:00:00",
          "2017-02-06T00:00:00",
          "2017-02-07T00:00:00",
          "2017-02-08T00:00:00",
          "2017-02-09T00:00:00",
          "2017-02-10T00:00:00",
          "2017-02-13T00:00:00",
          "2017-02-14T00:00:00",
          "2017-02-15T00:00:00",
          "2017-02-16T00:00:00",
          "2017-02-17T00:00:00",
          "2017-02-20T00:00:00",
          "2017-02-21T00:00:00",
          "2017-02-22T00:00:00",
          "2017-02-23T00:00:00",
          "2017-02-24T00:00:00",
          "2017-02-27T00:00:00",
          "2017-02-28T00:00:00",
          "2017-03-01T00:00:00",
          "2017-03-02T00:00:00",
          "2017-03-03T00:00:00",
          "2017-03-06T00:00:00",
          "2017-03-07T00:00:00",
          "2017-03-08T00:00:00",
          "2017-03-09T00:00:00",
          "2017-03-10T00:00:00",
          "2017-03-13T00:00:00",
          "2017-03-14T00:00:00",
          "2017-03-15T00:00:00",
          "2017-03-16T00:00:00",
          "2017-03-17T00:00:00",
          "2017-03-20T00:00:00",
          "2017-03-21T00:00:00",
          "2017-03-22T00:00:00",
          "2017-03-23T00:00:00",
          "2017-03-24T00:00:00",
          "2017-03-27T00:00:00",
          "2017-03-28T00:00:00",
          "2017-03-29T00:00:00",
          "2017-03-30T00:00:00",
          "2017-03-31T00:00:00",
          "2017-04-03T00:00:00",
          "2017-04-04T00:00:00",
          "2017-04-05T00:00:00",
          "2017-04-06T00:00:00",
          "2017-04-07T00:00:00",
          "2017-04-10T00:00:00",
          "2017-04-11T00:00:00",
          "2017-04-12T00:00:00",
          "2017-04-13T00:00:00",
          "2017-04-18T00:00:00",
          "2017-04-19T00:00:00",
          "2017-04-20T00:00:00",
          "2017-04-21T00:00:00",
          "2017-04-24T00:00:00",
          "2017-04-25T00:00:00",
          "2017-04-26T00:00:00",
          "2017-04-27T00:00:00",
          "2017-04-28T00:00:00",
          "2017-05-02T00:00:00",
          "2017-05-03T00:00:00",
          "2017-05-04T00:00:00",
          "2017-05-05T00:00:00",
          "2017-05-08T00:00:00",
          "2017-05-09T00:00:00",
          "2017-05-10T00:00:00",
          "2017-05-11T00:00:00",
          "2017-05-12T00:00:00",
          "2017-05-15T00:00:00",
          "2017-05-16T00:00:00",
          "2017-05-17T00:00:00",
          "2017-05-18T00:00:00",
          "2017-05-19T00:00:00",
          "2017-05-22T00:00:00",
          "2017-05-23T00:00:00",
          "2017-05-24T00:00:00",
          "2017-05-25T00:00:00",
          "2017-05-26T00:00:00",
          "2017-05-30T00:00:00",
          "2017-05-31T00:00:00",
          "2017-06-01T00:00:00",
          "2017-06-02T00:00:00",
          "2017-06-07T00:00:00",
          "2017-06-08T00:00:00",
          "2017-06-09T00:00:00",
          "2017-06-12T00:00:00",
          "2017-06-13T00:00:00",
          "2017-06-14T00:00:00",
          "2017-06-15T00:00:00",
          "2017-06-16T00:00:00",
          "2017-06-19T00:00:00",
          "2017-06-20T00:00:00",
          "2017-06-21T00:00:00",
          "2017-06-22T00:00:00",
          "2017-06-23T00:00:00",
          "2017-06-26T00:00:00",
          "2017-06-27T00:00:00",
          "2017-06-28T00:00:00",
          "2017-06-29T00:00:00",
          "2017-06-30T00:00:00",
          "2017-07-03T00:00:00",
          "2017-07-04T00:00:00",
          "2017-07-05T00:00:00",
          "2017-07-06T00:00:00",
          "2017-07-07T00:00:00",
          "2017-07-10T00:00:00",
          "2017-07-11T00:00:00",
          "2017-07-12T00:00:00",
          "2017-07-13T00:00:00",
          "2017-07-14T00:00:00",
          "2017-07-17T00:00:00",
          "2017-07-18T00:00:00",
          "2017-07-19T00:00:00",
          "2017-07-20T00:00:00",
          "2017-07-21T00:00:00",
          "2017-07-24T00:00:00",
          "2017-07-25T00:00:00",
          "2017-07-26T00:00:00",
          "2017-07-27T00:00:00",
          "2017-07-28T00:00:00",
          "2017-07-31T00:00:00",
          "2017-08-01T00:00:00",
          "2017-08-02T00:00:00",
          "2017-08-03T00:00:00",
          "2017-08-04T00:00:00",
          "2017-08-07T00:00:00",
          "2017-08-08T00:00:00",
          "2017-08-09T00:00:00",
          "2017-08-10T00:00:00",
          "2017-08-11T00:00:00",
          "2017-08-14T00:00:00",
          "2017-08-15T00:00:00",
          "2017-08-16T00:00:00",
          "2017-08-17T00:00:00",
          "2017-08-18T00:00:00",
          "2017-08-21T00:00:00",
          "2017-08-22T00:00:00",
          "2017-08-23T00:00:00",
          "2017-08-29T00:00:00",
          "2017-08-31T00:00:00",
          "2017-09-01T00:00:00",
          "2017-09-04T00:00:00",
          "2017-09-05T00:00:00",
          "2017-09-06T00:00:00",
          "2017-09-07T00:00:00",
          "2017-09-08T00:00:00",
          "2017-09-11T00:00:00",
          "2017-09-12T00:00:00",
          "2017-09-13T00:00:00",
          "2017-09-14T00:00:00",
          "2017-09-15T00:00:00",
          "2017-09-18T00:00:00",
          "2017-09-19T00:00:00",
          "2017-09-20T00:00:00",
          "2017-09-21T00:00:00",
          "2017-09-22T00:00:00",
          "2017-09-25T00:00:00",
          "2017-09-26T00:00:00",
          "2017-09-27T00:00:00",
          "2017-09-28T00:00:00",
          "2017-09-29T00:00:00",
          "2017-10-02T00:00:00",
          "2017-10-04T00:00:00",
          "2017-10-05T00:00:00",
          "2017-10-06T00:00:00",
          "2017-10-09T00:00:00",
          "2017-10-10T00:00:00",
          "2017-10-11T00:00:00",
          "2017-10-12T00:00:00",
          "2017-10-13T00:00:00",
          "2017-10-17T00:00:00",
          "2017-10-18T00:00:00",
          "2017-10-19T00:00:00",
          "2017-10-20T00:00:00",
          "2017-10-23T00:00:00",
          "2017-10-24T00:00:00",
          "2017-10-25T00:00:00",
          "2017-10-26T00:00:00",
          "2017-10-27T00:00:00",
          "2017-10-30T00:00:00",
          "2017-11-01T00:00:00",
          "2017-11-02T00:00:00",
          "2017-11-03T00:00:00",
          "2017-11-06T00:00:00",
          "2017-11-07T00:00:00",
          "2017-11-08T00:00:00",
          "2017-11-09T00:00:00",
          "2017-11-10T00:00:00",
          "2017-11-13T00:00:00",
          "2017-11-14T00:00:00",
          "2017-11-15T00:00:00",
          "2017-11-16T00:00:00",
          "2017-11-17T00:00:00",
          "2017-11-20T00:00:00",
          "2017-11-21T00:00:00",
          "2017-11-22T00:00:00",
          "2017-11-23T00:00:00",
          "2017-11-24T00:00:00",
          "2017-11-27T00:00:00",
          "2017-11-28T00:00:00",
          "2017-11-29T00:00:00",
          "2017-11-30T00:00:00",
          "2017-12-01T00:00:00",
          "2017-12-04T00:00:00",
          "2017-12-05T00:00:00",
          "2017-12-06T00:00:00",
          "2017-12-07T00:00:00",
          "2017-12-08T00:00:00",
          "2017-12-11T00:00:00",
          "2017-12-12T00:00:00",
          "2017-12-13T00:00:00",
          "2017-12-14T00:00:00",
          "2017-12-15T00:00:00",
          "2017-12-18T00:00:00",
          "2017-12-19T00:00:00",
          "2017-12-20T00:00:00",
          "2017-12-21T00:00:00",
          "2017-12-22T00:00:00",
          "2017-12-28T00:00:00"
         ],
         "y": [
          156.97971460438893,
          159.36623524991205,
          160.37180935805335,
          160.92369214373804,
          160.56228339836457,
          159.935775625882,
          159.81444055520984,
          159.8987267847777,
          159.78675843683666,
          160.07216740775308,
          159.34381280214765,
          159.14505740921433,
          159.17323152777362,
          159.76636713162543,
          159.22778301617566,
          157.84475124067902,
          155.95965518821413,
          160.60178201108408,
          163.2473098230711,
          161.95487148654027,
          159.39124273922215,
          159.26732720070328,
          157.69643020834235,
          157.51489928381454,
          158.41217888591245,
          157.18662246192616,
          156.38976936108128,
          156.02200867189129,
          155.87701517506366,
          156.6897042416038,
          158.27700151055046,
          158.34687329216268,
          159.29393478394977,
          157.7058100501916,
          162.23296352169177,
          164.3235723669144,
          164.71185208522672,
          166.70510407511017,
          165.52759686991746,
          164.1435545261721,
          163.74734177291808,
          164.00899309637816,
          167.02990868562546,
          167.41493420229975,
          167.21999754178242,
          167.69526780827223,
          167.98721778357282,
          168.54365696918853,
          169.06269582393554,
          170.89758516148362,
          169.51562342985122,
          169.19019696259318,
          169.59329368084204,
          170.69315637887902,
          171.02222706227178,
          170.37487935886242,
          170.71903523590217,
          169.19558241713432,
          169.9341458760856,
          169.19629937822637,
          168.63806503260452,
          170.2742232779759,
          172.65827155351184,
          172.77663611750827,
          172.78195684223917,
          173.40072864467817,
          173.18999190491806,
          172.7683876613309,
          172.45482412646723,
          171.96228156999211,
          172.45668958414964,
          171.3555132754678,
          171.59388941663246,
          170.72481850942944,
          169.86579621227904,
          169.17811823851525,
          169.15359096310152,
          169.9823484801879,
          174.87978162358462,
          175.53662873348586,
          175.1581967339876,
          174.70008794185412,
          174.78691360408587,
          175.8806841613791,
          177.14573923779108,
          172.24227917844863,
          173.16210834529141,
          173.18891873394497,
          173.82763555796268,
          173.26677033295348,
          173.12332277982378,
          172.6723778363887,
          173.67375697463083,
          173.33229466847618,
          172.04445959967646,
          169.2470194189482,
          170.1899965736902,
          170.68451496146199,
          171.45651518718478,
          171.56791762022212,
          171.30723706614384,
          170.30143214851788,
          171.11774832327293,
          171.90353183550238,
          171.47940921127167,
          173.86595244585507,
          171.34642079641878,
          172.31969780147153,
          173.49602953209956,
          173.6902481004101,
          173.88488677599187,
          174.73825903750034,
          172.60270223142194,
          173.6042135097934,
          176.14432797688536,
          177.21706519268963,
          174.6050860792064,
          174.3896028475289,
          173.88787084140503,
          175.379869258125,
          174.32383297784267,
          173.93725218042314,
          175.15648506016478,
          173.79701224868083,
          174.31788327577533,
          176.78957538666447,
          177.0446874964889,
          176.99963285383598,
          177.58717228668974,
          179.87330040045947,
          180.69441006539452,
          181.33826259925573,
          183.73434671185305,
          183.0688101027973,
          182.12106458815427,
          179.91069201905054,
          179.488879712792,
          179.52423109248434,
          177.80747382707966,
          176.26992492817945,
          178.5281721650175,
          179.26887316041245,
          182.24856686569998,
          180.2204564471617,
          180.37807765694086,
          181.28070846245942,
          183.49819569609903,
          183.075256672682,
          184.22729980233058,
          186.32876678742505,
          185.65079059401054,
          184.43756072488185,
          182.8800163768561,
          179.26612317400645,
          182.75445739560567,
          183.33819578674192,
          184.16728537821655,
          182.8685809969994,
          181.95852954487026,
          181.86603314890561,
          182.8072189771336,
          182.2522930675746,
          177.7818757876532,
          180.12936467933096,
          180.74976792240454,
          180.6843896030456,
          180.28440164825696,
          178.64435733021162,
          180.75228246090546,
          180.58050390387447,
          183.5098358782502,
          184.13882780796158,
          184.19371025377993,
          184.29454622944024,
          184.64611053317137,
          185.56081903250785,
          185.27779890317268,
          184.21425526382708,
          186.02048413658045,
          186.38033774545715,
          186.1592618784216,
          185.55382442793984,
          186.8827177644793,
          186.73203147423303,
          188.26991403534737,
          190.1967548040186,
          191.8207768300892,
          192.66687348801582,
          194.1931887589763,
          193.60114246731266,
          193.60275546490743,
          193.66031939721955,
          194.82711992012221,
          195.871516360312,
          195.58577996194072,
          195.91808521100293,
          195.54429962879675,
          196.715822982188,
          196.79596966612345,
          197.29129981869488,
          197.27636436097998,
          198.38860947308999,
          200.16287339924733,
          199.65425531095357,
          202.50270889910112,
          203.2420492472768,
          203.4009513455706,
          201.85870420968868,
          203.05344941623113,
          200.98281953954597,
          200.89735641870266,
          201.46655319939552,
          198.57481520762516,
          198.1955586371697,
          196.09891347972822,
          197.67516114949632,
          198.12256305958653,
          196.63498400628265,
          198.41120877317476,
          198.6081110418133,
          196.11862527977223,
          197.74577993020256,
          197.78555934047424,
          196.95241023921696,
          200.14823271292235,
          200.08800737415297,
          196.27021164389808,
          198.99193279268198,
          198.88805521651386,
          197.5357746745433,
          198.83965037979766,
          199.66720169463827,
          198.9790636781167,
          197.55962213263828,
          196.93811717486938,
          195.9741517691786,
          195.6490360494493,
          200.30704249632288,
          200.44795029695663,
          197.99805015210703,
          195.25360972201827,
          195.21028458047164,
          194.16635387631183
         ]
        },
        {
         "line": {
          "dash": "dash",
          "width": 2
         },
         "mode": "lines",
         "name": "VWAP Mercado",
         "type": "scatter",
         "x": [
          "2017-01-02T00:00:00",
          "2017-01-03T00:00:00",
          "2017-01-04T00:00:00",
          "2017-01-05T00:00:00",
          "2017-01-06T00:00:00",
          "2017-01-09T00:00:00",
          "2017-01-10T00:00:00",
          "2017-01-11T00:00:00",
          "2017-01-12T00:00:00",
          "2017-01-13T00:00:00",
          "2017-01-16T00:00:00",
          "2017-01-17T00:00:00",
          "2017-01-18T00:00:00",
          "2017-01-19T00:00:00",
          "2017-01-20T00:00:00",
          "2017-01-23T00:00:00",
          "2017-01-24T00:00:00",
          "2017-01-25T00:00:00",
          "2017-01-26T00:00:00",
          "2017-01-27T00:00:00",
          "2017-01-30T00:00:00",
          "2017-01-31T00:00:00",
          "2017-02-01T00:00:00",
          "2017-02-02T00:00:00",
          "2017-02-03T00:00:00",
          "2017-02-06T00:00:00",
          "2017-02-07T00:00:00",
          "2017-02-08T00:00:00",
          "2017-02-09T00:00:00",
          "2017-02-10T00:00:00",
          "2017-02-13T00:00:00",
          "2017-02-14T00:00:00",
          "2017-02-15T00:00:00",
          "2017-02-16T00:00:00",
          "2017-02-17T00:00:00",
          "2017-02-20T00:00:00",
          "2017-02-21T00:00:00",
          "2017-02-22T00:00:00",
          "2017-02-23T00:00:00",
          "2017-02-24T00:00:00",
          "2017-02-27T00:00:00",
          "2017-02-28T00:00:00",
          "2017-03-01T00:00:00",
          "2017-03-02T00:00:00",
          "2017-03-03T00:00:00",
          "2017-03-06T00:00:00",
          "2017-03-07T00:00:00",
          "2017-03-08T00:00:00",
          "2017-03-09T00:00:00",
          "2017-03-10T00:00:00",
          "2017-03-13T00:00:00",
          "2017-03-14T00:00:00",
          "2017-03-15T00:00:00",
          "2017-03-16T00:00:00",
          "2017-03-17T00:00:00",
          "2017-03-20T00:00:00",
          "2017-03-21T00:00:00",
          "2017-03-22T00:00:00",
          "2017-03-23T00:00:00",
          "2017-03-24T00:00:00",
          "2017-03-27T00:00:00",
          "2017-03-28T00:00:00",
          "2017-03-29T00:00:00",
          "2017-03-30T00:00:00",
          "2017-03-31T00:00:00",
          "2017-04-03T00:00:00",
          "2017-04-04T00:00:00",
          "2017-04-05T00:00:00",
          "2017-04-06T00:00:00",
          "2017-04-07T00:00:00",
          "2017-04-10T00:00:00",
          "2017-04-11T00:00:00",
          "2017-04-12T00:00:00",
          "2017-04-13T00:00:00",
          "2017-04-18T00:00:00",
          "2017-04-19T00:00:00",
          "2017-04-20T00:00:00",
          "2017-04-21T00:00:00",
          "2017-04-24T00:00:00",
          "2017-04-25T00:00:00",
          "2017-04-26T00:00:00",
          "2017-04-27T00:00:00",
          "2017-04-28T00:00:00",
          "2017-05-02T00:00:00",
          "2017-05-03T00:00:00",
          "2017-05-04T00:00:00",
          "2017-05-05T00:00:00",
          "2017-05-08T00:00:00",
          "2017-05-09T00:00:00",
          "2017-05-10T00:00:00",
          "2017-05-11T00:00:00",
          "2017-05-12T00:00:00",
          "2017-05-15T00:00:00",
          "2017-05-16T00:00:00",
          "2017-05-17T00:00:00",
          "2017-05-18T00:00:00",
          "2017-05-19T00:00:00",
          "2017-05-22T00:00:00",
          "2017-05-23T00:00:00",
          "2017-05-24T00:00:00",
          "2017-05-25T00:00:00",
          "2017-05-26T00:00:00",
          "2017-05-30T00:00:00",
          "2017-05-31T00:00:00",
          "2017-06-01T00:00:00",
          "2017-06-02T00:00:00",
          "2017-06-07T00:00:00",
          "2017-06-08T00:00:00",
          "2017-06-09T00:00:00",
          "2017-06-12T00:00:00",
          "2017-06-13T00:00:00",
          "2017-06-14T00:00:00",
          "2017-06-15T00:00:00",
          "2017-06-16T00:00:00",
          "2017-06-19T00:00:00",
          "2017-06-20T00:00:00",
          "2017-06-21T00:00:00",
          "2017-06-22T00:00:00",
          "2017-06-23T00:00:00",
          "2017-06-26T00:00:00",
          "2017-06-27T00:00:00",
          "2017-06-28T00:00:00",
          "2017-06-29T00:00:00",
          "2017-06-30T00:00:00",
          "2017-07-03T00:00:00",
          "2017-07-04T00:00:00",
          "2017-07-05T00:00:00",
          "2017-07-06T00:00:00",
          "2017-07-07T00:00:00",
          "2017-07-10T00:00:00",
          "2017-07-11T00:00:00",
          "2017-07-12T00:00:00",
          "2017-07-13T00:00:00",
          "2017-07-14T00:00:00",
          "2017-07-17T00:00:00",
          "2017-07-18T00:00:00",
          "2017-07-19T00:00:00",
          "2017-07-20T00:00:00",
          "2017-07-21T00:00:00",
          "2017-07-24T00:00:00",
          "2017-07-25T00:00:00",
          "2017-07-26T00:00:00",
          "2017-07-27T00:00:00",
          "2017-07-28T00:00:00",
          "2017-07-31T00:00:00",
          "2017-08-01T00:00:00",
          "2017-08-02T00:00:00",
          "2017-08-03T00:00:00",
          "2017-08-04T00:00:00",
          "2017-08-07T00:00:00",
          "2017-08-08T00:00:00",
          "2017-08-09T00:00:00",
          "2017-08-10T00:00:00",
          "2017-08-11T00:00:00",
          "2017-08-14T00:00:00",
          "2017-08-15T00:00:00",
          "2017-08-16T00:00:00",
          "2017-08-17T00:00:00",
          "2017-08-18T00:00:00",
          "2017-08-21T00:00:00",
          "2017-08-22T00:00:00",
          "2017-08-23T00:00:00",
          "2017-08-29T00:00:00",
          "2017-08-31T00:00:00",
          "2017-09-01T00:00:00",
          "2017-09-04T00:00:00",
          "2017-09-05T00:00:00",
          "2017-09-06T00:00:00",
          "2017-09-07T00:00:00",
          "2017-09-08T00:00:00",
          "2017-09-11T00:00:00",
          "2017-09-12T00:00:00",
          "2017-09-13T00:00:00",
          "2017-09-14T00:00:00",
          "2017-09-15T00:00:00",
          "2017-09-18T00:00:00",
          "2017-09-19T00:00:00",
          "2017-09-20T00:00:00",
          "2017-09-21T00:00:00",
          "2017-09-22T00:00:00",
          "2017-09-25T00:00:00",
          "2017-09-26T00:00:00",
          "2017-09-27T00:00:00",
          "2017-09-28T00:00:00",
          "2017-09-29T00:00:00",
          "2017-10-02T00:00:00",
          "2017-10-04T00:00:00",
          "2017-10-05T00:00:00",
          "2017-10-06T00:00:00",
          "2017-10-09T00:00:00",
          "2017-10-10T00:00:00",
          "2017-10-11T00:00:00",
          "2017-10-12T00:00:00",
          "2017-10-13T00:00:00",
          "2017-10-17T00:00:00",
          "2017-10-18T00:00:00",
          "2017-10-19T00:00:00",
          "2017-10-20T00:00:00",
          "2017-10-23T00:00:00",
          "2017-10-24T00:00:00",
          "2017-10-25T00:00:00",
          "2017-10-26T00:00:00",
          "2017-10-27T00:00:00",
          "2017-10-30T00:00:00",
          "2017-11-01T00:00:00",
          "2017-11-02T00:00:00",
          "2017-11-03T00:00:00",
          "2017-11-06T00:00:00",
          "2017-11-07T00:00:00",
          "2017-11-08T00:00:00",
          "2017-11-09T00:00:00",
          "2017-11-10T00:00:00",
          "2017-11-13T00:00:00",
          "2017-11-14T00:00:00",
          "2017-11-15T00:00:00",
          "2017-11-16T00:00:00",
          "2017-11-17T00:00:00",
          "2017-11-20T00:00:00",
          "2017-11-21T00:00:00",
          "2017-11-22T00:00:00",
          "2017-11-23T00:00:00",
          "2017-11-24T00:00:00",
          "2017-11-27T00:00:00",
          "2017-11-28T00:00:00",
          "2017-11-29T00:00:00",
          "2017-11-30T00:00:00",
          "2017-12-01T00:00:00",
          "2017-12-04T00:00:00",
          "2017-12-05T00:00:00",
          "2017-12-06T00:00:00",
          "2017-12-07T00:00:00",
          "2017-12-08T00:00:00",
          "2017-12-11T00:00:00",
          "2017-12-12T00:00:00",
          "2017-12-13T00:00:00",
          "2017-12-14T00:00:00",
          "2017-12-15T00:00:00",
          "2017-12-18T00:00:00",
          "2017-12-19T00:00:00",
          "2017-12-20T00:00:00",
          "2017-12-21T00:00:00",
          "2017-12-22T00:00:00",
          "2017-12-28T00:00:00"
         ],
         "y": [
          156.85668561784647,
          159.1906860302464,
          160.329799589378,
          160.8681804546915,
          160.54615816793438,
          160.01930653719842,
          159.68069184123058,
          159.8448167148521,
          159.75868909721993,
          160.06793429829037,
          159.257961423251,
          159.20210752625601,
          159.22030879168815,
          159.8265723336093,
          159.257295656512,
          157.6766643810473,
          155.91553418580753,
          160.65574883281363,
          163.19107411039573,
          161.9542363159015,
          159.39358110405988,
          158.8491574736189,
          157.7087710455776,
          157.48394462084136,
          158.40646027069775,
          157.14035023766232,
          156.27219700226894,
          155.7490726421516,
          155.9605418114035,
          156.68002106407147,
          158.38316156770566,
          158.38047305571237,
          159.23855589735237,
          157.78243629231338,
          162.47393679349074,
          164.36294326038941,
          164.86265725803054,
          166.77658083402414,
          165.4277738823172,
          164.1454249371808,
          163.7477381306892,
          163.95323084479256,
          166.9546037702757,
          167.40723687566665,
          167.22783147887648,
          167.5381848481595,
          167.9337686055114,
          168.47698069901844,
          169.26744605340343,
          170.76713044562803,
          169.51853353483537,
          169.16715517669442,
          169.62656587232144,
          170.8068924343753,
          171.13759673474362,
          170.35623026443298,
          170.59750577000582,
          169.13991553737367,
          170.17357401693008,
          169.27150338301036,
          168.54813554674632,
          170.42421856723948,
          172.63322878872714,
          172.79018467018167,
          172.82253158497562,
          173.4083019605192,
          173.1543147407454,
          172.7807482855906,
          172.40909350101785,
          171.94524355332038,
          172.5021440196538,
          171.03405870669917,
          171.83460837527502,
          170.73313938034033,
          169.9471164544843,
          169.18764770351055,
          168.98236686314453,
          169.97710634847567,
          174.83861362981278,
          175.58429053615873,
          175.2064601126588,
          174.69873050280782,
          174.73093187603098,
          175.83547151315423,
          177.0985744075738,
          171.83322619184028,
          173.21438937636,
          173.32574509194328,
          173.79081960555928,
          173.32004124758865,
          173.10860966837822,
          172.6813976349664,
          173.6486488023313,
          173.3330146864503,
          171.44270293792684,
          169.25363376007323,
          170.26889160524775,
          170.75209347223006,
          171.3709475619269,
          171.57215401444196,
          171.2230574231446,
          170.30887278245285,
          171.07745952345223,
          171.96198415463155,
          171.45409426168058,
          173.77259793984302,
          171.23719626331655,
          172.24139665428518,
          173.52693858703418,
          173.70430474484476,
          173.95255713712243,
          174.7144488164889,
          172.52519066906953,
          173.48327829092767,
          176.11452079494666,
          177.22315180717843,
          174.61370193354685,
          174.37449834467725,
          173.83221227905736,
          175.2815527109865,
          174.3290252810732,
          173.8904077909243,
          174.50132412388885,
          173.547982561396,
          174.4775934203985,
          176.6831912610822,
          177.03236607245427,
          176.99451716566944,
          177.61046891645992,
          179.93415310867888,
          180.68356806868343,
          181.51084426166835,
          183.75105140927323,
          183.00517029622486,
          182.13834818760944,
          179.82782593852116,
          179.55143512246707,
          179.33398178147505,
          177.50418603945357,
          176.19207331596178,
          178.4430775982267,
          179.2648181969004,
          182.43322472754699,
          180.24385439296412,
          180.30097903452346,
          181.6896912985444,
          183.5071853189078,
          183.04444865004356,
          184.45820002534163,
          186.41786527800127,
          185.77101345001822,
          184.49639125680957,
          182.55587391811898,
          179.1085624805158,
          182.63431945690152,
          183.332847803631,
          184.14979792426615,
          182.84015389320308,
          181.75660791947124,
          181.60435090182372,
          182.904284234735,
          182.07121391005668,
          177.88560176503478,
          180.06787279126888,
          180.7735732549134,
          180.589554847897,
          180.08433674830806,
          178.7697633816998,
          180.64392021209133,
          180.60199313481954,
          183.4913721044306,
          184.10103499864607,
          184.21270740674467,
          184.31181319798583,
          184.88062669543908,
          185.55436405094324,
          185.2730936976457,
          184.23084063976174,
          185.93603497170983,
          186.32928515299682,
          186.1655584858241,
          185.52929593811373,
          186.8392403725312,
          186.74094320918965,
          188.26984864935875,
          190.26307154785405,
          191.819658275807,
          192.6924986280236,
          194.12212697964904,
          193.6509978493327,
          193.60420873392363,
          193.72911693951855,
          194.8815680265919,
          195.84098841035242,
          195.61592702066378,
          195.8867812328322,
          195.61672822417157,
          196.7058274722798,
          196.75551275617622,
          197.1587007805376,
          197.14266066085963,
          198.63869968083284,
          200.35866306474207,
          199.71708329692535,
          202.40828154683575,
          203.35619999930273,
          203.26274849517543,
          201.93639802462414,
          203.00351154607404,
          200.97425380598887,
          200.85788219928537,
          201.496526220696,
          198.58918946391017,
          198.2313267710481,
          196.1489098122143,
          197.59210544227773,
          198.06293122540862,
          196.53360388842475,
          198.38630583605186,
          198.74537573242782,
          196.0698650383017,
          197.81935527923414,
          197.7673398741385,
          196.96203601332257,
          200.02618888434873,
          199.90918521481387,
          196.2937956280652,
          199.17476712383342,
          198.93641325656588,
          197.60210770971398,
          198.8804769317579,
          199.6204282778736,
          198.8557049788281,
          197.4333866177381,
          196.87073495438872,
          196.02268999148987,
          195.55873717617828,
          200.15873505055046,
          200.40654308638528,
          197.52208986430162,
          195.31317574171908,
          195.24988440327135,
          194.02731928032597
         ]
        }
       ],
       "layout": {
        "showlegend": true,
        "template": {
         "data": {
          "bar": [
           {
            "error_x": {
             "color": "#f2f5fa"
            },
            "error_y": {
             "color": "#f2f5fa"
            },
            "marker": {
             "line": {
              "color": "rgb(17,17,17)",
              "width": 0.5
             },
             "pattern": {
              "fillmode": "overlay",
              "size": 10,
              "solidity": 0.2
             }
            },
            "type": "bar"
           }
          ],
          "barpolar": [
           {
            "marker": {
             "line": {
              "color": "rgb(17,17,17)",
              "width": 0.5
             },
             "pattern": {
              "fillmode": "overlay",
              "size": 10,
              "solidity": 0.2
             }
            },
            "type": "barpolar"
           }
          ],
          "carpet": [
           {
            "aaxis": {
             "endlinecolor": "#A2B1C6",
             "gridcolor": "#506784",
             "linecolor": "#506784",
             "minorgridcolor": "#506784",
             "startlinecolor": "#A2B1C6"
            },
            "baxis": {
             "endlinecolor": "#A2B1C6",
             "gridcolor": "#506784",
             "linecolor": "#506784",
             "minorgridcolor": "#506784",
             "startlinecolor": "#A2B1C6"
            },
            "type": "carpet"
           }
          ],
          "choropleth": [
           {
            "colorbar": {
             "outlinewidth": 0,
             "ticks": ""
            },
            "type": "choropleth"
           }
          ],
          "contour": [
           {
            "colorbar": {
             "outlinewidth": 0,
             "ticks": ""
            },
            "colorscale": [
             [
              0,
              "#0d0887"
             ],
             [
              0.1111111111111111,
              "#46039f"
             ],
             [
              0.2222222222222222,
              "#7201a8"
             ],
             [
              0.3333333333333333,
              "#9c179e"
             ],
             [
              0.4444444444444444,
              "#bd3786"
             ],
             [
              0.5555555555555556,
              "#d8576b"
             ],
             [
              0.6666666666666666,
              "#ed7953"
             ],
             [
              0.7777777777777778,
              "#fb9f3a"
             ],
             [
              0.8888888888888888,
              "#fdca26"
             ],
             [
              1,
              "#f0f921"
             ]
            ],
            "type": "contour"
           }
          ],
          "contourcarpet": [
           {
            "colorbar": {
             "outlinewidth": 0,
             "ticks": ""
            },
            "type": "contourcarpet"
           }
          ],
          "heatmap": [
           {
            "colorbar": {
             "outlinewidth": 0,
             "ticks": ""
            },
            "colorscale": [
             [
              0,
              "#0d0887"
             ],
             [
              0.1111111111111111,
              "#46039f"
             ],
             [
              0.2222222222222222,
              "#7201a8"
             ],
             [
              0.3333333333333333,
              "#9c179e"
             ],
             [
              0.4444444444444444,
              "#bd3786"
             ],
             [
              0.5555555555555556,
              "#d8576b"
             ],
             [
              0.6666666666666666,
              "#ed7953"
             ],
             [
              0.7777777777777778,
              "#fb9f3a"
             ],
             [
              0.8888888888888888,
              "#fdca26"
             ],
             [
              1,
              "#f0f921"
             ]
            ],
            "type": "heatmap"
           }
          ],
          "heatmapgl": [
           {
            "colorbar": {
             "outlinewidth": 0,
             "ticks": ""
            },
            "colorscale": [
             [
              0,
              "#0d0887"
             ],
             [
              0.1111111111111111,
              "#46039f"
             ],
             [
              0.2222222222222222,
              "#7201a8"
             ],
             [
              0.3333333333333333,
              "#9c179e"
             ],
             [
              0.4444444444444444,
              "#bd3786"
             ],
             [
              0.5555555555555556,
              "#d8576b"
             ],
             [
              0.6666666666666666,
              "#ed7953"
             ],
             [
              0.7777777777777778,
              "#fb9f3a"
             ],
             [
              0.8888888888888888,
              "#fdca26"
             ],
             [
              1,
              "#f0f921"
             ]
            ],
            "type": "heatmapgl"
           }
          ],
          "histogram": [
           {
            "marker": {
             "pattern": {
              "fillmode": "overlay",
              "size": 10,
              "solidity": 0.2
             }
            },
            "type": "histogram"
           }
          ],
          "histogram2d": [
           {
            "colorbar": {
             "outlinewidth": 0,
             "ticks": ""
            },
            "colorscale": [
             [
              0,
              "#0d0887"
             ],
             [
              0.1111111111111111,
              "#46039f"
             ],
             [
              0.2222222222222222,
              "#7201a8"
             ],
             [
              0.3333333333333333,
              "#9c179e"
             ],
             [
              0.4444444444444444,
              "#bd3786"
             ],
             [
              0.5555555555555556,
              "#d8576b"
             ],
             [
              0.6666666666666666,
              "#ed7953"
             ],
             [
              0.7777777777777778,
              "#fb9f3a"
             ],
             [
              0.8888888888888888,
              "#fdca26"
             ],
             [
              1,
              "#f0f921"
             ]
            ],
            "type": "histogram2d"
           }
          ],
          "histogram2dcontour": [
           {
            "colorbar": {
             "outlinewidth": 0,
             "ticks": ""
            },
            "colorscale": [
             [
              0,
              "#0d0887"
             ],
             [
              0.1111111111111111,
              "#46039f"
             ],
             [
              0.2222222222222222,
              "#7201a8"
             ],
             [
              0.3333333333333333,
              "#9c179e"
             ],
             [
              0.4444444444444444,
              "#bd3786"
             ],
             [
              0.5555555555555556,
              "#d8576b"
             ],
             [
              0.6666666666666666,
              "#ed7953"
             ],
             [
              0.7777777777777778,
              "#fb9f3a"
             ],
             [
              0.8888888888888888,
              "#fdca26"
             ],
             [
              1,
              "#f0f921"
             ]
            ],
            "type": "histogram2dcontour"
           }
          ],
          "mesh3d": [
           {
            "colorbar": {
             "outlinewidth": 0,
             "ticks": ""
            },
            "type": "mesh3d"
           }
          ],
          "parcoords": [
           {
            "line": {
             "colorbar": {
              "outlinewidth": 0,
              "ticks": ""
             }
            },
            "type": "parcoords"
           }
          ],
          "pie": [
           {
            "automargin": true,
            "type": "pie"
           }
          ],
          "scatter": [
           {
            "marker": {
             "line": {
              "color": "#283442"
             }
            },
            "type": "scatter"
           }
          ],
          "scatter3d": [
           {
            "line": {
             "colorbar": {
              "outlinewidth": 0,
              "ticks": ""
             }
            },
            "marker": {
             "colorbar": {
              "outlinewidth": 0,
              "ticks": ""
             }
            },
            "type": "scatter3d"
           }
          ],
          "scattercarpet": [
           {
            "marker": {
             "colorbar": {
              "outlinewidth": 0,
              "ticks": ""
             }
            },
            "type": "scattercarpet"
           }
          ],
          "scattergeo": [
           {
            "marker": {
             "colorbar": {
              "outlinewidth": 0,
              "ticks": ""
             }
            },
            "type": "scattergeo"
           }
          ],
          "scattergl": [
           {
            "marker": {
             "line": {
              "color": "#283442"
             }
            },
            "type": "scattergl"
           }
          ],
          "scattermapbox": [
           {
            "marker": {
             "colorbar": {
              "outlinewidth": 0,
              "ticks": ""
             }
            },
            "type": "scattermapbox"
           }
          ],
          "scatterpolar": [
           {
            "marker": {
             "colorbar": {
              "outlinewidth": 0,
              "ticks": ""
             }
            },
            "type": "scatterpolar"
           }
          ],
          "scatterpolargl": [
           {
            "marker": {
             "colorbar": {
              "outlinewidth": 0,
              "ticks": ""
             }
            },
            "type": "scatterpolargl"
           }
          ],
          "scatterternary": [
           {
            "marker": {
             "colorbar": {
              "outlinewidth": 0,
              "ticks": ""
             }
            },
            "type": "scatterternary"
           }
          ],
          "surface": [
           {
            "colorbar": {
             "outlinewidth": 0,
             "ticks": ""
            },
            "colorscale": [
             [
              0,
              "#0d0887"
             ],
             [
              0.1111111111111111,
              "#46039f"
             ],
             [
              0.2222222222222222,
              "#7201a8"
             ],
             [
              0.3333333333333333,
              "#9c179e"
             ],
             [
              0.4444444444444444,
              "#bd3786"
             ],
             [
              0.5555555555555556,
              "#d8576b"
             ],
             [
              0.6666666666666666,
              "#ed7953"
             ],
             [
              0.7777777777777778,
              "#fb9f3a"
             ],
             [
              0.8888888888888888,
              "#fdca26"
             ],
             [
              1,
              "#f0f921"
             ]
            ],
            "type": "surface"
           }
          ],
          "table": [
           {
            "cells": {
             "fill": {
              "color": "#506784"
             },
             "line": {
              "color": "rgb(17,17,17)"
             }
            },
            "header": {
             "fill": {
              "color": "#2a3f5f"
             },
             "line": {
              "color": "rgb(17,17,17)"
             }
            },
            "type": "table"
           }
          ]
         },
         "layout": {
          "annotationdefaults": {
           "arrowcolor": "#f2f5fa",
           "arrowhead": 0,
           "arrowwidth": 1
          },
          "autotypenumbers": "strict",
          "coloraxis": {
           "colorbar": {
            "outlinewidth": 0,
            "ticks": ""
           }
          },
          "colorscale": {
           "diverging": [
            [
             0,
             "#8e0152"
            ],
            [
             0.1,
             "#c51b7d"
            ],
            [
             0.2,
             "#de77ae"
            ],
            [
             0.3,
             "#f1b6da"
            ],
            [
             0.4,
             "#fde0ef"
            ],
            [
             0.5,
             "#f7f7f7"
            ],
            [
             0.6,
             "#e6f5d0"
            ],
            [
             0.7,
             "#b8e186"
            ],
            [
             0.8,
             "#7fbc41"
            ],
            [
             0.9,
             "#4d9221"
            ],
            [
             1,
             "#276419"
            ]
           ],
           "sequential": [
            [
             0,
             "#0d0887"
            ],
            [
             0.1111111111111111,
             "#46039f"
            ],
            [
             0.2222222222222222,
             "#7201a8"
            ],
            [
             0.3333333333333333,
             "#9c179e"
            ],
            [
             0.4444444444444444,
             "#bd3786"
            ],
            [
             0.5555555555555556,
             "#d8576b"
            ],
            [
             0.6666666666666666,
             "#ed7953"
            ],
            [
             0.7777777777777778,
             "#fb9f3a"
            ],
            [
             0.8888888888888888,
             "#fdca26"
            ],
            [
             1,
             "#f0f921"
            ]
           ],
           "sequentialminus": [
            [
             0,
             "#0d0887"
            ],
            [
             0.1111111111111111,
             "#46039f"
            ],
            [
             0.2222222222222222,
             "#7201a8"
            ],
            [
             0.3333333333333333,
             "#9c179e"
            ],
            [
             0.4444444444444444,
             "#bd3786"
            ],
            [
             0.5555555555555556,
             "#d8576b"
            ],
            [
             0.6666666666666666,
             "#ed7953"
            ],
            [
             0.7777777777777778,
             "#fb9f3a"
            ],
            [
             0.8888888888888888,
             "#fdca26"
            ],
            [
             1,
             "#f0f921"
            ]
           ]
          },
          "colorway": [
           "#636efa",
           "#EF553B",
           "#00cc96",
           "#ab63fa",
           "#FFA15A",
           "#19d3f3",
           "#FF6692",
           "#B6E880",
           "#FF97FF",
           "#FECB52"
          ],
          "font": {
           "color": "#f2f5fa"
          },
          "geo": {
           "bgcolor": "rgb(17,17,17)",
           "lakecolor": "rgb(17,17,17)",
           "landcolor": "rgb(17,17,17)",
           "showlakes": true,
           "showland": true,
           "subunitcolor": "#506784"
          },
          "hoverlabel": {
           "align": "left"
          },
          "hovermode": "closest",
          "mapbox": {
           "style": "dark"
          },
          "paper_bgcolor": "rgb(17,17,17)",
          "plot_bgcolor": "rgb(17,17,17)",
          "polar": {
           "angularaxis": {
            "gridcolor": "#506784",
            "linecolor": "#506784",
            "ticks": ""
           },
           "bgcolor": "rgb(17,17,17)",
           "radialaxis": {
            "gridcolor": "#506784",
            "linecolor": "#506784",
            "ticks": ""
           }
          },
          "scene": {
           "xaxis": {
            "backgroundcolor": "rgb(17,17,17)",
            "gridcolor": "#506784",
            "gridwidth": 2,
            "linecolor": "#506784",
            "showbackground": true,
            "ticks": "",
            "zerolinecolor": "#C8D4E3"
           },
           "yaxis": {
            "backgroundcolor": "rgb(17,17,17)",
            "gridcolor": "#506784",
            "gridwidth": 2,
            "linecolor": "#506784",
            "showbackground": true,
            "ticks": "",
            "zerolinecolor": "#C8D4E3"
           },
           "zaxis": {
            "backgroundcolor": "rgb(17,17,17)",
            "gridcolor": "#506784",
            "gridwidth": 2,
            "linecolor": "#506784",
            "showbackground": true,
            "ticks": "",
            "zerolinecolor": "#C8D4E3"
           }
          },
          "shapedefaults": {
           "line": {
            "color": "#f2f5fa"
           }
          },
          "sliderdefaults": {
           "bgcolor": "#C8D4E3",
           "bordercolor": "rgb(17,17,17)",
           "borderwidth": 1,
           "tickwidth": 0
          },
          "ternary": {
           "aaxis": {
            "gridcolor": "#506784",
            "linecolor": "#506784",
            "ticks": ""
           },
           "baxis": {
            "gridcolor": "#506784",
            "linecolor": "#506784",
            "ticks": ""
           },
           "bgcolor": "rgb(17,17,17)",
           "caxis": {
            "gridcolor": "#506784",
            "linecolor": "#506784",
            "ticks": ""
           }
          },
          "title": {
           "x": 0.05
          },
          "updatemenudefaults": {
           "bgcolor": "#506784",
           "borderwidth": 0
          },
          "xaxis": {
           "automargin": true,
           "gridcolor": "#283442",
           "linecolor": "#506784",
           "ticks": "",
           "title": {
            "standoff": 15
           },
           "zerolinecolor": "#283442",
           "zerolinewidth": 2
          },
          "yaxis": {
           "automargin": true,
           "gridcolor": "#283442",
           "linecolor": "#506784",
           "ticks": "",
           "title": {
            "standoff": 15
           },
           "zerolinecolor": "#283442",
           "zerolinewidth": 2
          }
         }
        },
        "title": {
         "text": "Comparación de VWAP: Algoritmo vs Mercado"
        },
        "xaxis": {
         "tickangle": 45,
         "title": {
          "text": "Fecha"
         }
        },
        "yaxis": {
         "title": {
          "text": "VWAP"
         }
        }
       }
      }
     },
     "metadata": {},
     "output_type": "display_data"
    }
   ],
   "source": [
    "import numpy as np\n",
    "import pandas as pd\n",
    "import matplotlib.pyplot as plt\n",
    "from sklearn.metrics import euclidean_distances, mean_squared_error, mean_absolute_error\n",
    "\n",
    "class dynamicVolumePredictor:\n",
    "    def __init__(self, k=5):\n",
    "        \"\"\"\n",
    "        Clase para predecir la curva de volumen utilizando un modelo K-Nearest Neighbours (KNN) para predicciones dinámicas.\n",
    "\n",
    "        Args:\n",
    "            k (int): Número de vecinos cercanos a considerar para la predicción.\n",
    "        \"\"\"\n",
    "        self.k = k\n",
    "        self.historical_data = None  # Para almacenar los datos históricos\n",
    "\n",
    "    def train(self, historical_df):\n",
    "        \"\"\"\n",
    "        Entrenar el modelo almacenando los datos históricos.\n",
    "\n",
    "        Args:\n",
    "            historical_df (DataFrame): Datos históricos con columnas ['date', 'time_5min', 'volume'].\n",
    "        \"\"\"\n",
    "        # Almacenar las curvas de volumen diarias para entrenamiento\n",
    "        self.historical_data = historical_df.pivot(index='date', columns='time_5min', values='volume')\n",
    "\n",
    "    def predict(self, intraday_df):\n",
    "        \"\"\"\n",
    "        Predecir el volumen para el siguiente intervalo de tiempo y hasta el final del día.\n",
    "\n",
    "        Args:\n",
    "            intraday_df (DataFrame): Datos intradía conocidos con columnas ['date', 'time_5min', 'volume'].\n",
    "\n",
    "        Returns:\n",
    "            tuple: Predicción del siguiente intervalo y predicción hasta el final del día.\n",
    "        \"\"\"\n",
    "        if self.historical_data is None:\n",
    "            raise ValueError(\"El modelo no ha sido entrenado aún con datos históricos.\")\n",
    "\n",
    "        # Obtener la curva parcial del día actual\n",
    "        current_day = intraday_df['date'].iloc[0]\n",
    "        current_curve = intraday_df.pivot(index='date', columns='time_5min', values='volume').iloc[0]\n",
    "        current_curve = current_curve.dropna()  # Eliminar valores no conocidos\n",
    "        n_bins = len(current_curve)\n",
    "\n",
    "        # Caso de inicialización: si no hay suficientes datos intradía, usar promedio histórico\n",
    "        if n_bins == 0:\n",
    "            avg_volume = self.historical_data.mean(axis=0)\n",
    "            next_bin_prediction = avg_volume.iloc[0]\n",
    "            full_day_prediction = avg_volume.sum()\n",
    "            return next_bin_prediction, full_day_prediction\n",
    "\n",
    "        # Calcular la distancia euclidiana entre la curva parcial actual y las curvas históricas\n",
    "        historical_truncated = self.historical_data.iloc[:, :n_bins].dropna()\n",
    "        distances = euclidean_distances([current_curve], historical_truncated.values)[0]\n",
    "\n",
    "        # Encontrar los K vecinos más cercanos\n",
    "        nearest_indices = np.argsort(distances)[:self.k]\n",
    "        nearest_curves = self.historical_data.iloc[nearest_indices]\n",
    "\n",
    "        # Predicción para el siguiente intervalo\n",
    "        next_bin_volumes = nearest_curves.iloc[:, n_bins]\n",
    "        next_bin_prediction = np.median(next_bin_volumes)\n",
    "\n",
    "        # Predicción para el resto del día\n",
    "        remaining_volumes = nearest_curves.iloc[:, n_bins:].sum(axis=1)\n",
    "        full_day_prediction = np.median(remaining_volumes)\n",
    "\n",
    "        return next_bin_prediction, full_day_prediction\n",
    "\n",
    "    def evaluate(self, test_df):\n",
    "        \"\"\"\n",
    "        Evaluar el rendimiento del predictor utilizando datos de prueba.\n",
    "\n",
    "        Args:\n",
    "            test_df (DataFrame): Datos de prueba con columnas ['date', 'time_5min', 'volume'].\n",
    "\n",
    "        Returns:\n",
    "            dict: Métricas de rendimiento (RMSE, MAE).\n",
    "        \"\"\"\n",
    "        dates = test_df['date'].unique()\n",
    "        predictions = []\n",
    "        actuals = []\n",
    "\n",
    "        for date in dates:\n",
    "            intraday_df = test_df[test_df['date'] == date].iloc[:10]  # Tomar los primeros 10 registros del día actual\n",
    "            next_bin_prediction, _ = self.predict(intraday_df)\n",
    "            actual_volume = test_df[(test_df['date'] == date) & (test_df['time_5min'] == intraday_df['time_5min'].iloc[-1])]['volume'].values[0]\n",
    "            predictions.append(next_bin_prediction)\n",
    "            actuals.append(actual_volume)\n",
    "\n",
    "        rmse = np.sqrt(mean_squared_error(actuals, predictions))\n",
    "        mae = mean_absolute_error(actuals, predictions)\n",
    "\n",
    "        return {'RMSE': rmse, 'MAE': mae}\n",
    "\n",
    "class Order:\n",
    "    def __init__(self, side, volume):\n",
    "        self.side = side\n",
    "        self.volume = volume\n",
    "\n",
    "class OrderManager:\n",
    "    def __init__(self):\n",
    "        self.orders = []\n",
    "\n",
    "    def submitOrder(self, side, volume):\n",
    "        order = Order(side, volume)\n",
    "        self.orders.append(order)\n",
    "\n",
    "class BacktestingSession:\n",
    "    def run_backtest(self, historical_df, trading_algo, start_date, end_date=None):\n",
    "        backtesting_result = []\n",
    "        full_test_df = historical_df[historical_df[\"date\"] >= start_date]\n",
    "        if end_date is not None:\n",
    "            full_test_df = full_test_df[full_test_df[\"date\"] <= end_date]\n",
    "        test_dates = np.unique(full_test_df[\"date\"])\n",
    "        # Run backtest for each date between start_date and end_date (if none until last date in historical_df)\n",
    "        for date in test_dates:\n",
    "            # Train trading algorithm before the market opens with historical data\n",
    "            train_df = historical_df[historical_df[\"date\"] < date]\n",
    "            trading_algo.beforeMarketOpen(train_df)\n",
    "            # Now start the market session. We shift the dataframe to pass the algo info about previous bin at current time\n",
    "            test_df = historical_df[historical_df[\"date\"] == date]\n",
    "            shifted_test_df = test_df.set_index(\"time_5min\").shift(1).reset_index()\n",
    "            vwap_algo = 0\n",
    "            volume_algo = 0\n",
    "            for bin_time in shifted_test_df[\"time_5min\"]:\n",
    "                # Call onDataEvent and pass the current market information: time (start of next bin), previous volume and vwap\n",
    "                # It returns order manager object with orders submitted by algo\n",
    "                order_manager = trading_algo.onDataEvent(shifted_test_df[shifted_test_df[\"time_5min\"] == bin_time])\n",
    "                vwap_next_bin = float(test_df[test_df[\"time_5min\"] == bin_time][\"vwap\"].iloc[0])\n",
    "                total_volume_bin = 0\n",
    "                for order in order_manager.orders:\n",
    "                    # we consider potentially several orders, but since we assume all execute at vwap we just net them\n",
    "                    # if they have different signs\n",
    "                    total_volume_bin += order.volume * order.side\n",
    "                volume_algo += np.abs(total_volume_bin)\n",
    "                vwap_algo += total_volume_bin * vwap_next_bin\n",
    "            # Calculate the vwap from the algo by normalizing by price executed by volume and calculate market vwap\n",
    "            vwap_algo = vwap_algo / volume_algo if volume_algo != 0 else 0\n",
    "            vwap_market = (test_df[\"volume\"] * test_df[\"vwap\"]).sum() / test_df[\"volume\"].sum()\n",
    "            backtesting_result.append({\"date\": date, \"vwap_algo\": vwap_algo, \"vwap_market\": vwap_market})\n",
    "        return pd.DataFrame(backtesting_result)\n",
    "\n",
    "# Ejemplo de uso\n",
    "# Crear instancia del predictor\n",
    "dynamic_predictor = dynamicVolumePredictor(k=5)\n",
    "\n",
    "# Asumiendo que 'algo.resampled_df' tiene las columnas ['date', 'time_5min', 'volume', 'vwap']\n",
    "\n",
    "# Dividir los datos en entrenamiento y prueba\n",
    "train_df = algo.resampled_df[algo.resampled_df['date'] < '2017-01-01']\n",
    "test_df = algo.resampled_df[algo.resampled_df['date'] >= '2017-01-01']\n",
    "\n",
    "# Entrenar el predictor\n",
    "dynamic_predictor.train(train_df)\n",
    "\n",
    "# Evaluar el rendimiento del predictor con los datos de prueba\n",
    "evaluation_metrics = dynamic_predictor.evaluate(test_df)\n",
    "# print(f\"Métricas de evaluación del modelo dinámico: {evaluation_metrics}\")\n",
    "\n",
    "# Crear una clase de algoritmo de trading que use el predictor dinámico\n",
    "class TradingAlgorithm:\n",
    "    def __init__(self, predictor):\n",
    "        self.predictor = predictor\n",
    "        self.order_manager = OrderManager()\n",
    "\n",
    "    def beforeMarketOpen(self, historical_data):\n",
    "        # Entrenar el predictor antes de que abra el mercado\n",
    "        self.predictor.train(historical_data)\n",
    "\n",
    "    def onDataEvent(self, intraday_data):\n",
    "        # Predecir el siguiente volumen\n",
    "        next_bin_prediction, _ = self.predictor.predict(intraday_data)\n",
    "        # Crear una orden basada en la predicción\n",
    "        side = 1  # Asumimos lado de compra (1) para simplicidad\n",
    "        volume = next_bin_prediction\n",
    "        self.order_manager.submitOrder(side, volume)\n",
    "        return self.order_manager\n",
    "\n",
    "# Crear instancia del algoritmo de trading\n",
    "trading_algo = TradingAlgorithm(dynamic_predictor)\n",
    "\n",
    "# Crear una sesión de backtesting\n",
    "backtesting_session = BacktestingSession()\n",
    "\n",
    "# Ejecutar el backtesting\n",
    "backtesting_result = backtesting_session.run_backtest(algo.resampled_df, trading_algo, start_date='2017-01-01', end_date='2017-12-31')\n",
    "\n",
    "# Mostrar los resultados del backtesting\n",
    "print(backtesting_result)\n",
    "\n",
    "# Calcular el MAE entre vwap_algo y vwap_market\n",
    "mae_vwap = mean_absolute_error(backtesting_result['vwap_market'], backtesting_result['vwap_algo'])\n",
    "print(f\"MAE entre vwap_algo y vwap_market: {mae_vwap}\")\n",
    "\n",
    "# Crear la figura en Plotly\n",
    "fig = go.Figure()\n",
    "\n",
    "# Añadir la curva de VWAP del algoritmo\n",
    "fig.add_trace(go.Scatter(\n",
    "    x=backtesting_result['date'],\n",
    "    y=backtesting_result['vwap_algo'],\n",
    "    mode='lines',\n",
    "    name='VWAP Algoritmo',\n",
    "    line=dict(width=2)\n",
    "))\n",
    "\n",
    "# Añadir la curva de VWAP del mercado\n",
    "fig.add_trace(go.Scatter(\n",
    "    x=backtesting_result['date'],\n",
    "    y=backtesting_result['vwap_market'],\n",
    "    mode='lines',\n",
    "    name='VWAP Mercado',\n",
    "    line=dict(width=2, dash='dash')\n",
    "))\n",
    "\n",
    "# Configuración del layout\n",
    "fig.update_layout(\n",
    "    title='Comparación de VWAP: Algoritmo vs Mercado',\n",
    "    xaxis_title='Fecha',\n",
    "    yaxis_title='VWAP',\n",
    "    template='plotly_dark',\n",
    "    showlegend=True\n",
    ")\n",
    "\n",
    "# Ajuste de los ticks del eje x\n",
    "fig.update_xaxes(tickangle=45)\n",
    "\n",
    "# Mostrar la figura\n",
    "fig.show()\n",
    "\n"
   ]
  },
  {
   "cell_type": "markdown",
   "id": "d3fc29f0",
   "metadata": {
    "id": "d3fc29f0"
   },
   "source": [
    "<span style=\"color:#1E90FF; font-weight:bold\">Train your model with training data and evaluate the quality with test data. Compare the metrics with respect to the static model. You should not only consider average predictive quality, also the variance. Also compare the result against baselines, for instance the previous bin volume as a prediction for the next bin, or the previous day total volume (substracting the current executed volume) for the total volume prediction.\n",
    "\n",
    "<span style=\"color:#1E90FF; font-weight:bold\">[Optional] Try to improve your prediction using other predictive models"
   ]
  },
  {
   "cell_type": "markdown",
   "id": "74de7ef1",
   "metadata": {
    "id": "74de7ef1"
   },
   "source": [
    "<span style=\"color:#1E90FF; font-weight:bold\">**Backtesting environment**\n",
    "\n",
    "<span style=\"color:#1E90FF; font-weight:bold\">The following code is a simple backtesting environment to run your execution algorithm. Feel free to analyse the code but do not change the implementation"
   ]
  },
  {
   "cell_type": "code",
   "execution_count": 66,
   "id": "349857af",
   "metadata": {
    "id": "349857af"
   },
   "outputs": [],
   "source": [
    "class Order:\n",
    "    def __init__(self, side, volume):\n",
    "        self.side = side\n",
    "        self.volume = volume\n",
    "\n",
    "class OrderManager():\n",
    "    def __init__(self):\n",
    "        self.orders = []\n",
    "\n",
    "    def submitOrder(self, side, volume):\n",
    "        order = Order(side, volume)\n",
    "        self.orders.append(order)\n",
    "\n",
    "class BacktestingSession:\n",
    "    def run_backtest(self, historical_df, trading_algo, start_date, end_date = None):\n",
    "        backtesting_result = pd.DataFrame(columns = [\"date\", \"vwap_algo\", \"vwap_market\"])\n",
    "        full_test_df = historical_df[historical_df[\"date\"] >= start_date]\n",
    "        if not end_date is None:\n",
    "            full_test_df = full_test_df[full_test_df[\"date\"]<= end_date]\n",
    "        test_dates = np.unique(full_test_df[\"date\"])\n",
    "        # Run backtest for each date between start_date and end_date (if none until last date in historical_df)\n",
    "        for date in test_dates:\n",
    "            # Train trading algorithm before the market opens with historical data\n",
    "            train_df = historical_df[historical_df[\"date\"] < date]\n",
    "            trading_algo.beforeMarketOpen(train_df)\n",
    "            # Now start the market session. We shift the dataframe to pass the algo info about previous bin at current time\n",
    "            test_df = historical_df[historical_df[\"date\"] == date]\n",
    "            shifted_test_df = test_df.set_index(\"time\").shift(1).reset_index()\n",
    "            vwap_algo = 0\n",
    "            volume_algo = 0\n",
    "            for bin_time in shifted_test_df[\"time\"]:\n",
    "                # Call onDataEvent and pass the current market information: time (start of next bin), previous volume and vwap\n",
    "                # It returns order manager object with orders submitted by algo\n",
    "                order_manager = myalgo.onDataEvent(shifted_test_df[shifted_test_df[\"time\"] == bin_time])\n",
    "                vwap_next_bin = float(test_df[test_df[\"time\"] == bin_time][\"vwap\"])\n",
    "                total_volume_bin = 0\n",
    "                for order in order_manager.orders:\n",
    "                    # we consider potentially several orders, but since we assume all execute at vwap we just net them\n",
    "                    # if they have different signs\n",
    "                    total_volume_bin += order.volume * order.side\n",
    "                volume_algo += np.abs(total_volume_bin)\n",
    "                vwap_algo += total_volume_bin * vwap_next_bin\n",
    "            # Calculate the vwap from the algo by normalizing by price executed by volume and calculate market vwap\n",
    "            vwap_algo = vwap_algo / volume_algo\n",
    "            vwap_market = (test_df[\"volume\"] * test_df[\"vwap\"]).sum() / test_df[\"volume\"].sum()\n",
    "            backtesting_result = backtesting_result.append({\"date\": date, \"vwap_algo\": vwap_algo, \"vwap_market\": vwap_market}, ignore_index = True)\n",
    "        return backtesting_result"
   ]
  },
  {
   "cell_type": "markdown",
   "id": "2d346ca5",
   "metadata": {
    "id": "2d346ca5"
   },
   "source": [
    "<span style=\"color:#1E90FF; font-weight:bold\">**Static VWAP execution algorithm**\n",
    "\n",
    "<span style=\"color:#1E90FF; font-weight:bold\">Implement a class for a static VWAP execution algorithm with the following structure:\n",
    "Inputs:\n",
    "\n",
    "<span style=\"color:#1E90FF; font-weight:bold\">* Amount of shares to execute (Q). Use a check to avoid that the user inputs more than 25% of the ADV calculated above to prevent a huge market impact\n",
    "\n",
    "<span style=\"color:#1E90FF; font-weight:bold\">* Side of the order: +1 for buy and -1 for sell\n",
    "\n",
    "<span style=\"color:#1E90FF; font-weight:bold\">* Start time / end time: for this exercise, we will consider that starts at 9:00 and ends at 17:30. We can relax this assumption but then you need to renormalize the static volume curve to the period\n",
    "\n",
    "<span style=\"color:#1E90FF; font-weight:bold\">* Hyperparameters for the volume predictor, if needed\n",
    "\n",
    "<span style=\"color:#1E90FF; font-weight:bold\">The logic of the algorithm is the following: every time a time bin of 5 minutes ends, it sends an order to our execution management system (EMS) with a volume given by the static volume predictor:\n",
    "\n",
    "$q_i = Q E[\\frac{v_i}{V}]$\n",
    "\n",
    "<span style=\"color:#1E90FF; font-weight:bold\">where the term $E[\\frac{v_i}{V}]$ is your static volume prediction for the given time bin. The method beforeMarketOpen gets a dataframe with columns: date, time, volume, vwap, day_of_week containing historical volumes and prices per bin in previous days. The method onDataEvent has as input a market data object containing the current time, the executed market volume and VWAP price of the previous bin (e.g. at 9:05:00 reports volume and vwap of bin 9:00:00 - 0:05:00).  It will return a order manager object containing the parent order volume. Our simulation environment will assume that the EMS is able to execute at VWAP price within the next bin the order submitted."
   ]
  },
  {
   "cell_type": "code",
   "execution_count": 103,
   "id": "5367b1ab",
   "metadata": {},
   "outputs": [],
   "source": [
    "import pandas as pd\n",
    "import numpy as np\n",
    "from sklearn.linear_model import LinearRegression\n",
    "import matplotlib.pyplot as plt\n",
    "\n",
    "class StaticVWAPAlgorithm:\n",
    "    def __init__(self, volume, side, max_adv=0.25):\n",
    "        \"\"\"\n",
    "        Initialize the StaticVWAPAlgorithm class.\n",
    "\n",
    "        Args:\n",
    "            volume (float): Number of shares to execute (Q).\n",
    "            side (int): Side of the order: +1 for buy and -1 for sell.\n",
    "            max_adv (float): Maximum percentage of the Average Daily Volume to execute (default is 25%).\n",
    "        \"\"\"\n",
    "        self.volume = volume\n",
    "        self.side = side\n",
    "        self.max_adv = max_adv\n",
    "        self.static_volume_curve = None\n",
    "        self.adv = None\n",
    "\n",
    "    def beforeMarketOpen(self, historical_df):\n",
    "        \"\"\"\n",
    "        Train the model to calculate the static volume curve from historical data.\n",
    "\n",
    "        Args:\n",
    "            historical_df (DataFrame): Historical data with columns: date, time_5min, volume, vwap.\n",
    "        \"\"\"\n",
    "        # Ensure the historical_df has the required columns\n",
    "        if 'time_5min' not in historical_df.columns:\n",
    "            raise KeyError(\"The historical DataFrame must contain a 'time_5min' column.\")\n",
    "\n",
    "        # Calculate average daily volume (ADV)\n",
    "        daily_volume = historical_df.groupby('date')['volume'].sum()\n",
    "        self.adv = daily_volume.mean()\n",
    "\n",
    "        # Check if the order volume exceeds the allowed percentage of ADV\n",
    "        if self.volume > self.max_adv * self.adv:\n",
    "            raise ValueError(\"Order volume exceeds 25% of the Average Daily Volume (ADV).\")\n",
    "\n",
    "        # Calculate expected volume curve per time bin\n",
    "        historical_df['time_bin'] = pd.to_datetime(historical_df['time_5min'], errors='coerce').dt.time\n",
    "        volume_by_bin = historical_df.groupby('time_bin')['volume'].mean()\n",
    "        total_volume = volume_by_bin.sum()\n",
    "        self.static_volume_curve = volume_by_bin / total_volume\n",
    "\n",
    "    def onDataEvent(self, current_time, market_data):\n",
    "        \"\"\"\n",
    "        Handle a data event and determine the order to send to the EMS.\n",
    "\n",
    "        Args:\n",
    "            current_time (datetime.time): The current time of the trading day.\n",
    "            market_data (dict): Market data containing volume and VWAP for the current bin.\n",
    "\n",
    "        Returns:\n",
    "            OrderManager: An object containing the parent order volume for execution.\n",
    "        \"\"\"\n",
    "        time_bin = current_time\n",
    "        volume_proportion = self.static_volume_curve.get(time_bin, 0)\n",
    "        child_order_volume = self.volume * volume_proportion\n",
    "\n",
    "        order_manager = OrderManager()\n",
    "        order_manager.parent_order_volume = self.side * child_order_volume\n",
    "        return order_manager\n",
    "\n",
    "# OrderManager and BacktestingSession would need to be implemented as well.\n",
    "class OrderManager:\n",
    "    def __init__(self):\n",
    "        self.parent_order_volume = 0\n",
    "\n",
    "# Example of running the backtesting\n",
    "# backtesting = BacktestingSession()\n",
    "# volume = 1000\n",
    "# side = 1\n",
    "# myalgo = StaticVWAPAlgorithm(volume, side)\n",
    "# historical_df = algo.resampled_df\n",
    "# myalgo.beforeMarketOpen(historical_df)\n",
    "# backtest_results = backtesting.run_backtest(historical_df, myalgo, '2014-01-02')"
   ]
  },
  {
   "cell_type": "markdown",
   "id": "7ab7cb6f",
   "metadata": {
    "id": "7ab7cb6f"
   },
   "source": [
    "<span style=\"color:#1E90FF; font-weight:bold\">Now run your execution algorithm over the test set to generate the performance metrics, in our case we will perform daily executions. The backtesting environment returns a dataframe with the VWAP of each execution as well as the market VWAP. Analyse the result:\n",
    "\n",
    "<span style=\"color:#1E90FF; font-weight:bold\">* For each day of the test set, calculate the percentage error between the trading algorithm VWAP and the market VWAP in basis points:\n",
    "\n",
    "${\\rm pcterror_{vwap}}(bps) = 10000 * \\frac{VWAP_{algo} - VWAP_{market}}{VWAP_{market}}$\n",
    "\n",
    "<span style=\"color:#1E90FF; font-weight:bold\">* Calculate the statistics of this differences in bps over the test set:\n",
    "\n",
    "<span style=\"color:#1E90FF; font-weight:bold\">* Histogram of the differences\n",
    "\n",
    "<span style=\"color:#1E90FF; font-weight:bold\">* Mean and standard deviation\n",
    "\n",
    "<span style=\"color:#1E90FF; font-weight:bold\">* Percentile 1, 5, 95 and 99\n",
    "\n",
    "<span style=\"color:#1E90FF; font-weight:bold\">* Have a look at the best and worst performance cases, why do you think the algorithm performs so bad/well in these days?\n",
    "\n",
    "<span style=\"color:#1E90FF; font-weight:bold\">* Compare a buy order versus a sell order, is there any difference in the performance? Would you expect one given the way the trading algorithm is built?\n",
    "<span style=\"color:#1E90FF; font-weight:bold\">* Imagine you are running a broker-dealer business where you execute orders on behalf of clients. You are going to do this business regularly for buy orders. You guarantee the client the market VWAP for the execution but they have to pay you a fee. You would like to use the histogram from the back-testing to find a fee that on average makes you win money from this business, what would be?"
   ]
  },
  {
   "cell_type": "code",
   "execution_count": 105,
   "id": "84c0b925",
   "metadata": {
    "id": "84c0b925"
   },
   "outputs": [
    {
     "ename": "KeyError",
     "evalue": "'time'",
     "output_type": "error",
     "traceback": [
      "\u001b[0;31m---------------------------------------------------------------------------\u001b[0m",
      "\u001b[0;31mKeyError\u001b[0m                                  Traceback (most recent call last)",
      "File \u001b[0;32m/opt/anaconda3/envs/tf_env/lib/python3.10/site-packages/pandas/core/indexes/base.py:3805\u001b[0m, in \u001b[0;36mIndex.get_loc\u001b[0;34m(self, key)\u001b[0m\n\u001b[1;32m   3804\u001b[0m \u001b[38;5;28;01mtry\u001b[39;00m:\n\u001b[0;32m-> 3805\u001b[0m     \u001b[38;5;28;01mreturn\u001b[39;00m \u001b[38;5;28;43mself\u001b[39;49m\u001b[38;5;241;43m.\u001b[39;49m\u001b[43m_engine\u001b[49m\u001b[38;5;241;43m.\u001b[39;49m\u001b[43mget_loc\u001b[49m\u001b[43m(\u001b[49m\u001b[43mcasted_key\u001b[49m\u001b[43m)\u001b[49m\n\u001b[1;32m   3806\u001b[0m \u001b[38;5;28;01mexcept\u001b[39;00m \u001b[38;5;167;01mKeyError\u001b[39;00m \u001b[38;5;28;01mas\u001b[39;00m err:\n",
      "File \u001b[0;32mindex.pyx:167\u001b[0m, in \u001b[0;36mpandas._libs.index.IndexEngine.get_loc\u001b[0;34m()\u001b[0m\n",
      "File \u001b[0;32mindex.pyx:196\u001b[0m, in \u001b[0;36mpandas._libs.index.IndexEngine.get_loc\u001b[0;34m()\u001b[0m\n",
      "File \u001b[0;32mpandas/_libs/hashtable_class_helper.pxi:7081\u001b[0m, in \u001b[0;36mpandas._libs.hashtable.PyObjectHashTable.get_item\u001b[0;34m()\u001b[0m\n",
      "File \u001b[0;32mpandas/_libs/hashtable_class_helper.pxi:7089\u001b[0m, in \u001b[0;36mpandas._libs.hashtable.PyObjectHashTable.get_item\u001b[0;34m()\u001b[0m\n",
      "\u001b[0;31mKeyError\u001b[0m: 'time'",
      "\nThe above exception was the direct cause of the following exception:\n",
      "\u001b[0;31mKeyError\u001b[0m                                  Traceback (most recent call last)",
      "Cell \u001b[0;32mIn[105], line 8\u001b[0m\n\u001b[1;32m      6\u001b[0m historical_df \u001b[38;5;241m=\u001b[39m algo\u001b[38;5;241m.\u001b[39mresampled_df\n\u001b[1;32m      7\u001b[0m myalgo\u001b[38;5;241m.\u001b[39mbeforeMarketOpen(historical_df)\n\u001b[0;32m----> 8\u001b[0m backtest_results \u001b[38;5;241m=\u001b[39m \u001b[43mbacktesting\u001b[49m\u001b[38;5;241;43m.\u001b[39;49m\u001b[43mrun_backtest\u001b[49m\u001b[43m(\u001b[49m\u001b[43mhistorical_df\u001b[49m\u001b[43m,\u001b[49m\u001b[43m \u001b[49m\u001b[43mmyalgo\u001b[49m\u001b[43m,\u001b[49m\u001b[43m \u001b[49m\u001b[38;5;124;43m'\u001b[39;49m\u001b[38;5;124;43m2014-01-02\u001b[39;49m\u001b[38;5;124;43m'\u001b[39;49m\u001b[43m)\u001b[49m\n",
      "Cell \u001b[0;32mIn[94], line 27\u001b[0m, in \u001b[0;36mBacktestingSession.run_backtest\u001b[0;34m(self, historical_df, algo, start_date)\u001b[0m\n\u001b[1;32m     25\u001b[0m \u001b[38;5;66;03m# Simulate intraday events\u001b[39;00m\n\u001b[1;32m     26\u001b[0m \u001b[38;5;28;01mfor\u001b[39;00m index, row \u001b[38;5;129;01min\u001b[39;00m test_df\u001b[38;5;241m.\u001b[39miterrows():\n\u001b[0;32m---> 27\u001b[0m     current_time \u001b[38;5;241m=\u001b[39m pd\u001b[38;5;241m.\u001b[39mto_datetime(\u001b[43mrow\u001b[49m\u001b[43m[\u001b[49m\u001b[38;5;124;43m'\u001b[39;49m\u001b[38;5;124;43mtime\u001b[39;49m\u001b[38;5;124;43m'\u001b[39;49m\u001b[43m]\u001b[49m)\u001b[38;5;241m.\u001b[39mtime()\n\u001b[1;32m     28\u001b[0m     market_data \u001b[38;5;241m=\u001b[39m {\n\u001b[1;32m     29\u001b[0m         \u001b[38;5;124m'\u001b[39m\u001b[38;5;124mvolume\u001b[39m\u001b[38;5;124m'\u001b[39m: row[\u001b[38;5;124m'\u001b[39m\u001b[38;5;124mvolume\u001b[39m\u001b[38;5;124m'\u001b[39m],\n\u001b[1;32m     30\u001b[0m         \u001b[38;5;124m'\u001b[39m\u001b[38;5;124mvwap\u001b[39m\u001b[38;5;124m'\u001b[39m: row[\u001b[38;5;124m'\u001b[39m\u001b[38;5;124mvwap\u001b[39m\u001b[38;5;124m'\u001b[39m]\n\u001b[1;32m     31\u001b[0m     }\n\u001b[1;32m     32\u001b[0m     order_manager \u001b[38;5;241m=\u001b[39m algo\u001b[38;5;241m.\u001b[39monDataEvent(current_time, market_data)\n",
      "File \u001b[0;32m/opt/anaconda3/envs/tf_env/lib/python3.10/site-packages/pandas/core/series.py:1121\u001b[0m, in \u001b[0;36mSeries.__getitem__\u001b[0;34m(self, key)\u001b[0m\n\u001b[1;32m   1118\u001b[0m     \u001b[38;5;28;01mreturn\u001b[39;00m \u001b[38;5;28mself\u001b[39m\u001b[38;5;241m.\u001b[39m_values[key]\n\u001b[1;32m   1120\u001b[0m \u001b[38;5;28;01melif\u001b[39;00m key_is_scalar:\n\u001b[0;32m-> 1121\u001b[0m     \u001b[38;5;28;01mreturn\u001b[39;00m \u001b[38;5;28;43mself\u001b[39;49m\u001b[38;5;241;43m.\u001b[39;49m\u001b[43m_get_value\u001b[49m\u001b[43m(\u001b[49m\u001b[43mkey\u001b[49m\u001b[43m)\u001b[49m\n\u001b[1;32m   1123\u001b[0m \u001b[38;5;66;03m# Convert generator to list before going through hashable part\u001b[39;00m\n\u001b[1;32m   1124\u001b[0m \u001b[38;5;66;03m# (We will iterate through the generator there to check for slices)\u001b[39;00m\n\u001b[1;32m   1125\u001b[0m \u001b[38;5;28;01mif\u001b[39;00m is_iterator(key):\n",
      "File \u001b[0;32m/opt/anaconda3/envs/tf_env/lib/python3.10/site-packages/pandas/core/series.py:1237\u001b[0m, in \u001b[0;36mSeries._get_value\u001b[0;34m(self, label, takeable)\u001b[0m\n\u001b[1;32m   1234\u001b[0m     \u001b[38;5;28;01mreturn\u001b[39;00m \u001b[38;5;28mself\u001b[39m\u001b[38;5;241m.\u001b[39m_values[label]\n\u001b[1;32m   1236\u001b[0m \u001b[38;5;66;03m# Similar to Index.get_value, but we do not fall back to positional\u001b[39;00m\n\u001b[0;32m-> 1237\u001b[0m loc \u001b[38;5;241m=\u001b[39m \u001b[38;5;28;43mself\u001b[39;49m\u001b[38;5;241;43m.\u001b[39;49m\u001b[43mindex\u001b[49m\u001b[38;5;241;43m.\u001b[39;49m\u001b[43mget_loc\u001b[49m\u001b[43m(\u001b[49m\u001b[43mlabel\u001b[49m\u001b[43m)\u001b[49m\n\u001b[1;32m   1239\u001b[0m \u001b[38;5;28;01mif\u001b[39;00m is_integer(loc):\n\u001b[1;32m   1240\u001b[0m     \u001b[38;5;28;01mreturn\u001b[39;00m \u001b[38;5;28mself\u001b[39m\u001b[38;5;241m.\u001b[39m_values[loc]\n",
      "File \u001b[0;32m/opt/anaconda3/envs/tf_env/lib/python3.10/site-packages/pandas/core/indexes/base.py:3812\u001b[0m, in \u001b[0;36mIndex.get_loc\u001b[0;34m(self, key)\u001b[0m\n\u001b[1;32m   3807\u001b[0m     \u001b[38;5;28;01mif\u001b[39;00m \u001b[38;5;28misinstance\u001b[39m(casted_key, \u001b[38;5;28mslice\u001b[39m) \u001b[38;5;129;01mor\u001b[39;00m (\n\u001b[1;32m   3808\u001b[0m         \u001b[38;5;28misinstance\u001b[39m(casted_key, abc\u001b[38;5;241m.\u001b[39mIterable)\n\u001b[1;32m   3809\u001b[0m         \u001b[38;5;129;01mand\u001b[39;00m \u001b[38;5;28many\u001b[39m(\u001b[38;5;28misinstance\u001b[39m(x, \u001b[38;5;28mslice\u001b[39m) \u001b[38;5;28;01mfor\u001b[39;00m x \u001b[38;5;129;01min\u001b[39;00m casted_key)\n\u001b[1;32m   3810\u001b[0m     ):\n\u001b[1;32m   3811\u001b[0m         \u001b[38;5;28;01mraise\u001b[39;00m InvalidIndexError(key)\n\u001b[0;32m-> 3812\u001b[0m     \u001b[38;5;28;01mraise\u001b[39;00m \u001b[38;5;167;01mKeyError\u001b[39;00m(key) \u001b[38;5;28;01mfrom\u001b[39;00m \u001b[38;5;21;01merr\u001b[39;00m\n\u001b[1;32m   3813\u001b[0m \u001b[38;5;28;01mexcept\u001b[39;00m \u001b[38;5;167;01mTypeError\u001b[39;00m:\n\u001b[1;32m   3814\u001b[0m     \u001b[38;5;66;03m# If we have a listlike key, _check_indexing_error will raise\u001b[39;00m\n\u001b[1;32m   3815\u001b[0m     \u001b[38;5;66;03m#  InvalidIndexError. Otherwise we fall through and re-raise\u001b[39;00m\n\u001b[1;32m   3816\u001b[0m     \u001b[38;5;66;03m#  the TypeError.\u001b[39;00m\n\u001b[1;32m   3817\u001b[0m     \u001b[38;5;28mself\u001b[39m\u001b[38;5;241m.\u001b[39m_check_indexing_error(key)\n",
      "\u001b[0;31mKeyError\u001b[0m: 'time'"
     ]
    }
   ],
   "source": [
    "# Example of running the backtesting\n",
    "backtesting = BacktestingSession()\n",
    "volume = 1000\n",
    "side = 1\n",
    "myalgo = StaticVWAPAlgorithm(volume, side)\n",
    "historical_df = algo.resampled_df\n",
    "myalgo.beforeMarketOpen(historical_df)\n",
    "backtest_results = backtesting.run_backtest(historical_df, myalgo, '2014-01-02')\n",
    "\n"
   ]
  },
  {
   "cell_type": "code",
   "execution_count": 102,
   "id": "994c1065",
   "metadata": {},
   "outputs": [
    {
     "data": {
      "text/html": [
       "<div>\n",
       "<style scoped>\n",
       "    .dataframe tbody tr th:only-of-type {\n",
       "        vertical-align: middle;\n",
       "    }\n",
       "\n",
       "    .dataframe tbody tr th {\n",
       "        vertical-align: top;\n",
       "    }\n",
       "\n",
       "    .dataframe thead th {\n",
       "        text-align: right;\n",
       "    }\n",
       "</style>\n",
       "<table border=\"1\" class=\"dataframe\">\n",
       "  <thead>\n",
       "    <tr style=\"text-align: right;\">\n",
       "      <th></th>\n",
       "      <th>date</th>\n",
       "      <th>time_5min</th>\n",
       "      <th>volume</th>\n",
       "      <th>vwap</th>\n",
       "    </tr>\n",
       "  </thead>\n",
       "  <tbody>\n",
       "    <tr>\n",
       "      <th>0</th>\n",
       "      <td>2014-01-02</td>\n",
       "      <td>0 days 09:00:00</td>\n",
       "      <td>24732</td>\n",
       "      <td>131.060911</td>\n",
       "    </tr>\n",
       "    <tr>\n",
       "      <th>1</th>\n",
       "      <td>2014-01-02</td>\n",
       "      <td>0 days 09:05:00</td>\n",
       "      <td>22744</td>\n",
       "      <td>131.239107</td>\n",
       "    </tr>\n",
       "    <tr>\n",
       "      <th>2</th>\n",
       "      <td>2014-01-02</td>\n",
       "      <td>0 days 09:10:00</td>\n",
       "      <td>23342</td>\n",
       "      <td>131.215468</td>\n",
       "    </tr>\n",
       "    <tr>\n",
       "      <th>3</th>\n",
       "      <td>2014-01-02</td>\n",
       "      <td>0 days 09:15:00</td>\n",
       "      <td>24077</td>\n",
       "      <td>131.217174</td>\n",
       "    </tr>\n",
       "    <tr>\n",
       "      <th>4</th>\n",
       "      <td>2014-01-02</td>\n",
       "      <td>0 days 09:20:00</td>\n",
       "      <td>24417</td>\n",
       "      <td>131.046016</td>\n",
       "    </tr>\n",
       "  </tbody>\n",
       "</table>\n",
       "</div>"
      ],
      "text/plain": [
       "        date       time_5min  volume        vwap\n",
       "0 2014-01-02 0 days 09:00:00   24732  131.060911\n",
       "1 2014-01-02 0 days 09:05:00   22744  131.239107\n",
       "2 2014-01-02 0 days 09:10:00   23342  131.215468\n",
       "3 2014-01-02 0 days 09:15:00   24077  131.217174\n",
       "4 2014-01-02 0 days 09:20:00   24417  131.046016"
      ]
     },
     "execution_count": 102,
     "metadata": {},
     "output_type": "execute_result"
    }
   ],
   "source": [
    "historical_df.head()"
   ]
  },
  {
   "cell_type": "markdown",
   "id": "fdd4c95b",
   "metadata": {
    "id": "fdd4c95b"
   },
   "source": [
    "<span style=\"color:#1E90FF; font-weight:bold\">**Dynamic VWAP execution algorithm**\n",
    "\n",
    "<span style=\"color:#1E90FF; font-weight:bold\">Let us now use the dynamic volume predictors to build a more reactive execution algorithm. The interface is similar to the static execution algorithm, but now the order placement formula is replaced by the following one:\n",
    "\n",
    "$q_i = Q \\frac{V_{0,i-1} + E_i[v_i]}{E_i[V]} - Q_i$\n",
    "\n",
    "<span style=\"color:#1E90FF; font-weight:bold\">where again $Q$ is the total volume of our order, and $Q_i$ is the volume executed by the algorithm before next bin $i$. Recall that $E_i[v_i]$ is the dynamic volume prediction for next bin $i$, and $E_i[V]$ the dynamic total market volume prediction (if you built a predictor for the remaining market volume, then you can split it as:  $E_i[V] = V_{0,i-1} + E_i[V_{i,N-1}]$)"
   ]
  },
  {
   "cell_type": "code",
   "execution_count": null,
   "id": "4435617d",
   "metadata": {
    "id": "4435617d"
   },
   "outputs": [],
   "source": [
    "# Your code here\n",
    "class dynamic_vwap_algorithm():\n",
    "    def __init__(self, volume, side, start_time, end_time, vol_predictor = None):\n",
    "        ## implement\n",
    "        pass\n",
    "\n",
    "    def beforeMarketOpen(self, historical_df):\n",
    "        ## train model\n",
    "        pass\n",
    "\n",
    "    def onDataEvent(self, intraday_df):\n",
    "        order_manager = ...\n",
    "        ## implement\n",
    "        return order_manager"
   ]
  },
  {
   "cell_type": "markdown",
   "id": "f8474620",
   "metadata": {
    "id": "f8474620"
   },
   "source": [
    "<span style=\"color:#1E90FF; font-weight:bold\">Redo the backtesting analysis from the previous section and compare the results with the static vwap. Which one is better? Which one would you use if you were running a broker-dealer execution business? Why?"
   ]
  },
  {
   "cell_type": "code",
   "execution_count": null,
   "id": "e0778aa6",
   "metadata": {
    "id": "e0778aa6"
   },
   "outputs": [],
   "source": []
  }
 ],
 "metadata": {
  "colab": {
   "provenance": []
  },
  "kernelspec": {
   "display_name": "tf_env",
   "language": "python",
   "name": "python3"
  },
  "language_info": {
   "codemirror_mode": {
    "name": "ipython",
    "version": 3
   },
   "file_extension": ".py",
   "mimetype": "text/x-python",
   "name": "python",
   "nbconvert_exporter": "python",
   "pygments_lexer": "ipython3",
   "version": "3.10.15"
  }
 },
 "nbformat": 4,
 "nbformat_minor": 5
}
